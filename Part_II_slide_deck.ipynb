{
 "cells": [
  {
   "cell_type": "markdown",
   "metadata": {
    "slideshow": {
     "slide_type": "slide"
    }
   },
   "source": [
    "# Part II - (Ford GoBike System Data - Explanation)\n",
    "## by Aristide FOTSO"
   ]
  },
  {
   "cell_type": "markdown",
   "metadata": {
    "slideshow": {
     "slide_type": "slide"
    }
   },
   "source": [
    " \n",
    "## Dataset Overview\n",
    "\n",
    "> There are 175,147 items in the dataset with 8 features (trip_duration(s), member_birth_year, time, date, user_type, member_gender, AgeGroup, bike_share_for_all_trip). Most variables are float and integer in nature, but the variables AgeGroup, member_gender, bike_share_for_all_trip, and user_type are ordered factor variables with the following levels.\n",
    "\n",
    "> (worst) ——> (best)\n",
    "> * bike_share_for_all_trip: No, Yes\n",
    "> * user_type: Customer, Subscriber\n",
    "> * member_gender: Other, Female, Male\n",
    "> * AgeGroup: very_young, young, midlife, old, very_old"
   ]
  },
  {
   "cell_type": "code",
   "execution_count": 30,
   "metadata": {
    "slideshow": {
     "slide_type": "skip"
    }
   },
   "outputs": [],
   "source": [
    "# import all packages and set plots to be embedded inline\n",
    "import numpy as np\n",
    "import pandas as pd\n",
    "import matplotlib.pyplot as plt\n",
    "import seaborn as sb\n",
    "\n",
    "%matplotlib inline\n",
    "\n",
    "# suppress warnings from final output\n",
    "import warnings\n",
    "warnings.simplefilter(\"ignore\")"
   ]
  },
  {
   "cell_type": "code",
   "execution_count": 31,
   "metadata": {
    "slideshow": {
     "slide_type": "skip"
    }
   },
   "outputs": [],
   "source": [
    "# load in the dataset into a pandas dataframe\n",
    "bike_trip_df = pd.read_csv('cleaned_bike_trip_df.csv')\n",
    "time_trip_df = pd.read_csv('cleaned_time_trip_df.csv')"
   ]
  },
  {
   "cell_type": "code",
   "execution_count": 32,
   "metadata": {
    "slideshow": {
     "slide_type": "skip"
    }
   },
   "outputs": [
    {
     "data": {
      "text/html": [
       "<div>\n",
       "<style scoped>\n",
       "    .dataframe tbody tr th:only-of-type {\n",
       "        vertical-align: middle;\n",
       "    }\n",
       "\n",
       "    .dataframe tbody tr th {\n",
       "        vertical-align: top;\n",
       "    }\n",
       "\n",
       "    .dataframe thead th {\n",
       "        text-align: right;\n",
       "    }\n",
       "</style>\n",
       "<table border=\"1\" class=\"dataframe\">\n",
       "  <thead>\n",
       "    <tr style=\"text-align: right;\">\n",
       "      <th></th>\n",
       "      <th>member_birth_year</th>\n",
       "      <th>member_gender</th>\n",
       "      <th>user_type</th>\n",
       "      <th>AgeGroup</th>\n",
       "      <th>bike_share_for_all_trip</th>\n",
       "      <th>trip_duration(s)</th>\n",
       "      <th>AgeGroup_cat</th>\n",
       "    </tr>\n",
       "  </thead>\n",
       "  <tbody>\n",
       "    <tr>\n",
       "      <th>0</th>\n",
       "      <td>1984</td>\n",
       "      <td>Male</td>\n",
       "      <td>Customer</td>\n",
       "      <td>midlife</td>\n",
       "      <td>No</td>\n",
       "      <td>52185.830</td>\n",
       "      <td>2</td>\n",
       "    </tr>\n",
       "    <tr>\n",
       "      <th>1</th>\n",
       "      <td>1972</td>\n",
       "      <td>Male</td>\n",
       "      <td>Customer</td>\n",
       "      <td>midlife</td>\n",
       "      <td>No</td>\n",
       "      <td>61854.928</td>\n",
       "      <td>2</td>\n",
       "    </tr>\n",
       "    <tr>\n",
       "      <th>2</th>\n",
       "      <td>1993</td>\n",
       "      <td>Male</td>\n",
       "      <td>Subscriber</td>\n",
       "      <td>old</td>\n",
       "      <td>No</td>\n",
       "      <td>506.193</td>\n",
       "      <td>3</td>\n",
       "    </tr>\n",
       "    <tr>\n",
       "      <th>3</th>\n",
       "      <td>1998</td>\n",
       "      <td>Male</td>\n",
       "      <td>Subscriber</td>\n",
       "      <td>old</td>\n",
       "      <td>No</td>\n",
       "      <td>259.032</td>\n",
       "      <td>3</td>\n",
       "    </tr>\n",
       "    <tr>\n",
       "      <th>4</th>\n",
       "      <td>1977</td>\n",
       "      <td>Male</td>\n",
       "      <td>Subscriber</td>\n",
       "      <td>midlife</td>\n",
       "      <td>No</td>\n",
       "      <td>386.978</td>\n",
       "      <td>2</td>\n",
       "    </tr>\n",
       "  </tbody>\n",
       "</table>\n",
       "</div>"
      ],
      "text/plain": [
       "   member_birth_year member_gender   user_type AgeGroup  \\\n",
       "0               1984          Male    Customer  midlife   \n",
       "1               1972          Male    Customer  midlife   \n",
       "2               1993          Male  Subscriber      old   \n",
       "3               1998          Male  Subscriber      old   \n",
       "4               1977          Male  Subscriber  midlife   \n",
       "\n",
       "  bike_share_for_all_trip  trip_duration(s)  AgeGroup_cat  \n",
       "0                      No         52185.830             2  \n",
       "1                      No         61854.928             2  \n",
       "2                      No           506.193             3  \n",
       "3                      No           259.032             3  \n",
       "4                      No           386.978             2  "
      ]
     },
     "execution_count": 32,
     "metadata": {},
     "output_type": "execute_result"
    }
   ],
   "source": [
    "bike_trip_df.head()"
   ]
  },
  {
   "cell_type": "code",
   "execution_count": 33,
   "metadata": {
    "slideshow": {
     "slide_type": "skip"
    }
   },
   "outputs": [],
   "source": [
    "# Data wrangling, delete bike_share_for_all_trip column\n",
    "bike_trip_df.drop(columns=['bike_share_for_all_trip'], inplace=True)"
   ]
  },
  {
   "cell_type": "code",
   "execution_count": 34,
   "metadata": {
    "slideshow": {
     "slide_type": "skip"
    }
   },
   "outputs": [
    {
     "data": {
      "text/html": [
       "<div>\n",
       "<style scoped>\n",
       "    .dataframe tbody tr th:only-of-type {\n",
       "        vertical-align: middle;\n",
       "    }\n",
       "\n",
       "    .dataframe tbody tr th {\n",
       "        vertical-align: top;\n",
       "    }\n",
       "\n",
       "    .dataframe thead th {\n",
       "        text-align: right;\n",
       "    }\n",
       "</style>\n",
       "<table border=\"1\" class=\"dataframe\">\n",
       "  <thead>\n",
       "    <tr style=\"text-align: right;\">\n",
       "      <th></th>\n",
       "      <th>member_birth_year</th>\n",
       "      <th>member_gender</th>\n",
       "      <th>user_type</th>\n",
       "      <th>AgeGroup</th>\n",
       "      <th>trip_duration(s)</th>\n",
       "      <th>AgeGroup_cat</th>\n",
       "    </tr>\n",
       "  </thead>\n",
       "  <tbody>\n",
       "    <tr>\n",
       "      <th>0</th>\n",
       "      <td>1984</td>\n",
       "      <td>Male</td>\n",
       "      <td>Customer</td>\n",
       "      <td>midlife</td>\n",
       "      <td>52185.830</td>\n",
       "      <td>2</td>\n",
       "    </tr>\n",
       "    <tr>\n",
       "      <th>1</th>\n",
       "      <td>1972</td>\n",
       "      <td>Male</td>\n",
       "      <td>Customer</td>\n",
       "      <td>midlife</td>\n",
       "      <td>61854.928</td>\n",
       "      <td>2</td>\n",
       "    </tr>\n",
       "    <tr>\n",
       "      <th>2</th>\n",
       "      <td>1993</td>\n",
       "      <td>Male</td>\n",
       "      <td>Subscriber</td>\n",
       "      <td>old</td>\n",
       "      <td>506.193</td>\n",
       "      <td>3</td>\n",
       "    </tr>\n",
       "    <tr>\n",
       "      <th>3</th>\n",
       "      <td>1998</td>\n",
       "      <td>Male</td>\n",
       "      <td>Subscriber</td>\n",
       "      <td>old</td>\n",
       "      <td>259.032</td>\n",
       "      <td>3</td>\n",
       "    </tr>\n",
       "    <tr>\n",
       "      <th>4</th>\n",
       "      <td>1977</td>\n",
       "      <td>Male</td>\n",
       "      <td>Subscriber</td>\n",
       "      <td>midlife</td>\n",
       "      <td>386.978</td>\n",
       "      <td>2</td>\n",
       "    </tr>\n",
       "  </tbody>\n",
       "</table>\n",
       "</div>"
      ],
      "text/plain": [
       "   member_birth_year member_gender   user_type AgeGroup  trip_duration(s)  \\\n",
       "0               1984          Male    Customer  midlife         52185.830   \n",
       "1               1972          Male    Customer  midlife         61854.928   \n",
       "2               1993          Male  Subscriber      old           506.193   \n",
       "3               1998          Male  Subscriber      old           259.032   \n",
       "4               1977          Male  Subscriber  midlife           386.978   \n",
       "\n",
       "   AgeGroup_cat  \n",
       "0             2  \n",
       "1             2  \n",
       "2             3  \n",
       "3             3  \n",
       "4             2  "
      ]
     },
     "execution_count": 34,
     "metadata": {},
     "output_type": "execute_result"
    }
   ],
   "source": [
    "bike_trip_df.head()"
   ]
  },
  {
   "cell_type": "code",
   "execution_count": 35,
   "metadata": {
    "slideshow": {
     "slide_type": "skip"
    }
   },
   "outputs": [
    {
     "data": {
      "text/html": [
       "<div>\n",
       "<style scoped>\n",
       "    .dataframe tbody tr th:only-of-type {\n",
       "        vertical-align: middle;\n",
       "    }\n",
       "\n",
       "    .dataframe tbody tr th {\n",
       "        vertical-align: top;\n",
       "    }\n",
       "\n",
       "    .dataframe thead th {\n",
       "        text-align: right;\n",
       "    }\n",
       "</style>\n",
       "<table border=\"1\" class=\"dataframe\">\n",
       "  <thead>\n",
       "    <tr style=\"text-align: right;\">\n",
       "      <th></th>\n",
       "      <th>user_type</th>\n",
       "      <th>AgeGroup</th>\n",
       "      <th>date</th>\n",
       "      <th>hour</th>\n",
       "      <th>minute</th>\n",
       "      <th>second</th>\n",
       "      <th>AgeGroup_cat</th>\n",
       "      <th>day_of_week</th>\n",
       "    </tr>\n",
       "  </thead>\n",
       "  <tbody>\n",
       "    <tr>\n",
       "      <th>0</th>\n",
       "      <td>Subscriber</td>\n",
       "      <td>old</td>\n",
       "      <td>2019-02-01</td>\n",
       "      <td>0</td>\n",
       "      <td>0</td>\n",
       "      <td>20.636</td>\n",
       "      <td>3</td>\n",
       "      <td>Friday</td>\n",
       "    </tr>\n",
       "    <tr>\n",
       "      <th>1</th>\n",
       "      <td>Subscriber</td>\n",
       "      <td>old</td>\n",
       "      <td>2019-02-17</td>\n",
       "      <td>0</td>\n",
       "      <td>40</td>\n",
       "      <td>35.986</td>\n",
       "      <td>3</td>\n",
       "      <td>Sunday</td>\n",
       "    </tr>\n",
       "    <tr>\n",
       "      <th>2</th>\n",
       "      <td>Subscriber</td>\n",
       "      <td>midlife</td>\n",
       "      <td>2019-02-17</td>\n",
       "      <td>0</td>\n",
       "      <td>30</td>\n",
       "      <td>3.687</td>\n",
       "      <td>2</td>\n",
       "      <td>Sunday</td>\n",
       "    </tr>\n",
       "    <tr>\n",
       "      <th>3</th>\n",
       "      <td>Subscriber</td>\n",
       "      <td>midlife</td>\n",
       "      <td>2019-02-17</td>\n",
       "      <td>0</td>\n",
       "      <td>30</td>\n",
       "      <td>45.421</td>\n",
       "      <td>2</td>\n",
       "      <td>Sunday</td>\n",
       "    </tr>\n",
       "    <tr>\n",
       "      <th>4</th>\n",
       "      <td>Subscriber</td>\n",
       "      <td>old</td>\n",
       "      <td>2019-02-17</td>\n",
       "      <td>0</td>\n",
       "      <td>28</td>\n",
       "      <td>27.173</td>\n",
       "      <td>3</td>\n",
       "      <td>Sunday</td>\n",
       "    </tr>\n",
       "  </tbody>\n",
       "</table>\n",
       "</div>"
      ],
      "text/plain": [
       "    user_type AgeGroup        date  hour  minute  second  AgeGroup_cat  \\\n",
       "0  Subscriber      old  2019-02-01     0       0  20.636             3   \n",
       "1  Subscriber      old  2019-02-17     0      40  35.986             3   \n",
       "2  Subscriber  midlife  2019-02-17     0      30   3.687             2   \n",
       "3  Subscriber  midlife  2019-02-17     0      30  45.421             2   \n",
       "4  Subscriber      old  2019-02-17     0      28  27.173             3   \n",
       "\n",
       "  day_of_week  \n",
       "0      Friday  \n",
       "1      Sunday  \n",
       "2      Sunday  \n",
       "3      Sunday  \n",
       "4      Sunday  "
      ]
     },
     "execution_count": 35,
     "metadata": {},
     "output_type": "execute_result"
    }
   ],
   "source": [
    "time_trip_df.head()"
   ]
  },
  {
   "cell_type": "markdown",
   "metadata": {
    "slideshow": {
     "slide_type": "slide"
    }
   },
   "source": [
    "## Distribution of trip duration\n",
    "\n",
    "> trip duration in the dataset take on a very large range of values, from about 0 𝑎𝑡 𝑡ℎ𝑒 𝑙𝑜𝑤𝑒𝑠𝑡,𝑡𝑜 𝑎𝑏𝑜𝑢𝑡 85,000 at the highest. Plotted on a logarithmic scale, the distribution of trip duration takes on a unimodal shape."
   ]
  },
  {
   "cell_type": "code",
   "execution_count": 36,
   "metadata": {
    "slideshow": {
     "slide_type": "subslide"
    }
   },
   "outputs": [
    {
     "data": {
      "image/png": "[encoded data removed]",
      "text/plain": [
       "<Figure size 576x360 with 1 Axes>"
      ]
     },
     "metadata": {
      "needs_background": "light"
     },
     "output_type": "display_data"
    }
   ],
   "source": [
    "log_binsize = 0.025\n",
    "bins = 10 ** np.arange(2.4, np.log10(bike_trip_df['trip_duration(s)'].max())+log_binsize, log_binsize)\n",
    "\n",
    "plt.figure(figsize=[8, 5])\n",
    "plt.hist(data = bike_trip_df, x = 'trip_duration(s)', bins = bins)\n",
    "plt.xscale('log')\n",
    "plt.xticks([500, 1e3, 2e3, 5e3, 1e4, 2e4], [500, '1k', '2k', '5k', '10k', '20k'])\n",
    "plt.xlabel('trip_duration(s)')\n",
    "plt.title('Distribution of Trip Duration')\n",
    "plt.show()"
   ]
  },
  {
   "cell_type": "markdown",
   "metadata": {
    "collapsed": true,
    "slideshow": {
     "slide_type": "slide"
    }
   },
   "source": [
    "## Distribution of Number of Trips Per Day of Week\n",
    "\n",
    "> In this distribution, we can see that there are more trips on Tuesday and Thursday"
   ]
  },
  {
   "cell_type": "code",
   "execution_count": 37,
   "metadata": {
    "slideshow": {
     "slide_type": "skip"
    }
   },
   "outputs": [],
   "source": [
    "time_trip_df['date'] = time_trip_df['date'].astype('datetime64[ns]')"
   ]
  },
  {
   "cell_type": "code",
   "execution_count": 38,
   "metadata": {
    "slideshow": {
     "slide_type": "skip"
    }
   },
   "outputs": [
    {
     "data": {
      "text/plain": [
       "user_type               object\n",
       "AgeGroup                object\n",
       "date            datetime64[ns]\n",
       "hour                     int64\n",
       "minute                   int64\n",
       "second                 float64\n",
       "AgeGroup_cat             int64\n",
       "day_of_week             object\n",
       "dtype: object"
      ]
     },
     "execution_count": 38,
     "metadata": {},
     "output_type": "execute_result"
    }
   ],
   "source": [
    "time_trip_df.dtypes"
   ]
  },
  {
   "cell_type": "code",
   "execution_count": 39,
   "metadata": {
    "slideshow": {
     "slide_type": "skip"
    }
   },
   "outputs": [],
   "source": [
    "dayTrip = time_trip_df.date.dt.day_name().value_counts()\n",
    "indexL = dayTrip.index\n",
    "valuesL = dayTrip.values\n",
    "frame = { 'weekDay': indexL, 'countTrip': valuesL }\n",
    "dayTrip_df = pd.DataFrame(frame)"
   ]
  },
  {
   "cell_type": "code",
   "execution_count": 40,
   "metadata": {
    "slideshow": {
     "slide_type": "skip"
    }
   },
   "outputs": [],
   "source": [
    "weekDays = ['Monday', 'Tuesday', 'Wednesday', 'Thursday', 'Friday', 'Saturday', 'Sunday']\n",
    "ordered_day = pd.api.types.CategoricalDtype(ordered = True,\n",
    "                                                categories = weekDays)\n",
    "dayTrip_df['weekDay'] = dayTrip_df['weekDay'].astype(ordered_day)\n",
    "dayTrip_df.sort_values(\"weekDay\", axis = 0, ascending = True,\n",
    "                 inplace = True)"
   ]
  },
  {
   "cell_type": "code",
   "execution_count": 41,
   "metadata": {
    "slideshow": {
     "slide_type": "subslide"
    }
   },
   "outputs": [
    {
     "data": {
      "image/png": "[encoded data removed]",
      "text/plain": [
       "<Figure size 432x288 with 1 Axes>"
      ]
     },
     "metadata": {
      "needs_background": "light"
     },
     "output_type": "display_data"
    }
   ],
   "source": [
    "plt.bar(dayTrip_df['weekDay'], dayTrip_df['countTrip'], color ='blue',\n",
    "        width = 0.4)\n",
    "plt.xticks(rotation=90)\n",
    "plt.xlabel(\"Days of week\")\n",
    "plt.ylabel(\"Number of trips\")\n",
    "plt.title(\"Distribution of number of trips per day of week\");"
   ]
  },
  {
   "cell_type": "markdown",
   "metadata": {
    "slideshow": {
     "slide_type": "slide"
    }
   },
   "source": [
    "## Distribution of Number of Trips per Hour of day\n",
    "\n",
    "> In this distribution, we can see that there are more trips on periods: from **07:00 am to 09:00 am** and from **03:00 pm to 05:00 pm**\n",
    "\n"
   ]
  },
  {
   "cell_type": "code",
   "execution_count": 42,
   "metadata": {
    "slideshow": {
     "slide_type": "subslide"
    }
   },
   "outputs": [
    {
     "data": {
      "image/png": "[encoded data removed]",
      "text/plain": [
       "<Figure size 576x360 with 1 Axes>"
      ]
     },
     "metadata": {
      "needs_background": "light"
     },
     "output_type": "display_data"
    }
   ],
   "source": [
    "binsize = 2\n",
    "bins = np.arange(0, time_trip_df['hour'].max()+binsize, binsize)\n",
    "\n",
    "plt.figure(figsize=[8, 5])\n",
    "plt.hist(data = time_trip_df, x = 'hour', bins = bins, align='left')\n",
    "plt.xticks(bins, bins, rotation = 90)\n",
    "plt.xlabel('Hours')\n",
    "plt.title(\"Distribution of number of trips per hour\")\n",
    "plt.show()"
   ]
  },
  {
   "cell_type": "markdown",
   "metadata": {
    "slideshow": {
     "slide_type": "slide"
    }
   },
   "source": [
    "## Relationship between number of trips, days of week, age group, user type\n",
    "> We can see that users in old and midlife age groups made more trips\n",
    ", and on Tuesday and Thursday"
   ]
  },
  {
   "cell_type": "code",
   "execution_count": 43,
   "metadata": {
    "slideshow": {
     "slide_type": "skip"
    }
   },
   "outputs": [],
   "source": [
    "def convertPropCat(list, feature, df):\n",
    "    ordered_list = pd.api.types.CategoricalDtype(ordered = True,\n",
    "                                                categories = list)\n",
    "    df[f\"{feature}\"] = df[f\"{feature}\"].astype(ordered_list)"
   ]
  },
  {
   "cell_type": "code",
   "execution_count": 44,
   "metadata": {
    "slideshow": {
     "slide_type": "skip"
    }
   },
   "outputs": [],
   "source": [
    "AgeGroups = ['very_young', 'young', 'midlife', 'old', 'very_old']\n",
    "convertPropCat(AgeGroups, 'AgeGroup', time_trip_df)"
   ]
  },
  {
   "cell_type": "code",
   "execution_count": 45,
   "metadata": {
    "slideshow": {
     "slide_type": "skip"
    }
   },
   "outputs": [
    {
     "data": {
      "text/plain": [
       "user_type               object\n",
       "AgeGroup              category\n",
       "date            datetime64[ns]\n",
       "hour                     int64\n",
       "minute                   int64\n",
       "second                 float64\n",
       "AgeGroup_cat             int64\n",
       "day_of_week             object\n",
       "dtype: object"
      ]
     },
     "execution_count": 45,
     "metadata": {},
     "output_type": "execute_result"
    }
   ],
   "source": [
    "time_trip_df.dtypes"
   ]
  },
  {
   "cell_type": "code",
   "execution_count": 53,
   "metadata": {
    "slideshow": {
     "slide_type": "skip"
    }
   },
   "outputs": [],
   "source": [
    "time_trip_df['hour'] = time_trip_df['hour'].astype(int)\n",
    "def facetGrid(feature, *argv):\n",
    "    g = sb.FacetGrid(data = time_trip_df, col = 'AgeGroup', row = 'user_type', height = 2.5,\n",
    "                margin_titles = True)\n",
    "    if (len(argv) != 0):\n",
    "        #print(len(argv))\n",
    "        binwidth=argv[0]\n",
    "        binmax=argv[1]\n",
    "        g.map_dataframe(sb.histplot, x=f\"{feature}\", binwidth=binwidth, binrange=(0, binmax))\n",
    "        g.set(xticks=argv[2])\n",
    "        g.set_xticklabels(argv[2], rotation=90)\n",
    "        g.fig.subplots_adjust(top=0.8) # adjust the Figure in g\n",
    "        g.fig.suptitle('Distribution of number of trips among hours of day, age group and user type')\n",
    "    else:\n",
    "        g.map_dataframe(sb.histplot, x=f\"{feature}\")\n",
    "        g.set_xticklabels(rotation=90)\n",
    "        g.fig.subplots_adjust(top=0.8) # adjust the Figure in g\n",
    "        g.fig.suptitle('Distribution of number of trips among days of week, age group and user type')\n",
    "    g.set_ylabels('Number of trips');"
   ]
  },
  {
   "cell_type": "code",
   "execution_count": 54,
   "metadata": {
    "slideshow": {
     "slide_type": "subslide"
    }
   },
   "outputs": [
    {
     "data": {
      "image/png": "[encoded data removed]",
      "text/plain": [
       "<Figure size 900x360 with 10 Axes>"
      ]
     },
     "metadata": {
      "needs_background": "light"
     },
     "output_type": "display_data"
    }
   ],
   "source": [
    "facetGrid('day_of_week');"
   ]
  },
  {
   "cell_type": "markdown",
   "metadata": {
    "slideshow": {
     "slide_type": "slide"
    }
   },
   "source": [
    "## Relationship between number of trips, hours of day,  age group, user type\n",
    "\n",
    "> We can see that users in old and midlife age groups made more trips, and between 08:00 am and 10:00 am, 04:00 pm and 06:00 pm"
   ]
  },
  {
   "cell_type": "code",
   "execution_count": 55,
   "metadata": {
    "slideshow": {
     "slide_type": "subslide"
    }
   },
   "outputs": [
    {
     "data": {
      "image/png": "[encoded data removed]",
      "text/plain": [
       "<Figure size 900x360 with 10 Axes>"
      ]
     },
     "metadata": {
      "needs_background": "light"
     },
     "output_type": "display_data"
    }
   ],
   "source": [
    "binsize = 2\n",
    "bins = np.arange(0, time_trip_df['hour'].max()+binsize, binsize)\n",
    "facetGrid('hour', binsize, time_trip_df['hour'].max()+binsize, bins);"
   ]
  },
  {
   "cell_type": "markdown",
   "metadata": {
    "slideshow": {
     "slide_type": "slide"
    }
   },
   "source": [
    "## Relationship between trip duration, age group and gender of user\n",
    "\n",
    "We can see that users in old and midlife age groups spent more time in trips than other age groups no matter gender of user"
   ]
  },
  {
   "cell_type": "code",
   "execution_count": 49,
   "metadata": {
    "slideshow": {
     "slide_type": "skip"
    }
   },
   "outputs": [],
   "source": [
    "AgeGroups = ['very_young', 'young', 'midlife', 'old', 'very_old']\n",
    "convertPropCat(AgeGroups, 'AgeGroup', bike_trip_df)\n",
    "genders = ['Other', 'Female', 'Male']\n",
    "convertPropCat(genders, 'member_gender', bike_trip_df)"
   ]
  },
  {
   "cell_type": "code",
   "execution_count": 50,
   "metadata": {
    "slideshow": {
     "slide_type": "skip"
    }
   },
   "outputs": [
    {
     "data": {
      "text/plain": [
       "member_birth_year       int64\n",
       "member_gender        category\n",
       "user_type              object\n",
       "AgeGroup             category\n",
       "trip_duration(s)      float64\n",
       "AgeGroup_cat            int64\n",
       "dtype: object"
      ]
     },
     "execution_count": 50,
     "metadata": {},
     "output_type": "execute_result"
    }
   ],
   "source": [
    "bike_trip_df.dtypes"
   ]
  },
  {
   "cell_type": "code",
   "execution_count": 51,
   "metadata": {
    "slideshow": {
     "slide_type": "skip"
    }
   },
   "outputs": [
    {
     "data": {
      "text/html": [
       "<div>\n",
       "<style scoped>\n",
       "    .dataframe tbody tr th:only-of-type {\n",
       "        vertical-align: middle;\n",
       "    }\n",
       "\n",
       "    .dataframe tbody tr th {\n",
       "        vertical-align: top;\n",
       "    }\n",
       "\n",
       "    .dataframe thead th {\n",
       "        text-align: right;\n",
       "    }\n",
       "</style>\n",
       "<table border=\"1\" class=\"dataframe\">\n",
       "  <thead>\n",
       "    <tr style=\"text-align: right;\">\n",
       "      <th></th>\n",
       "      <th>member_birth_year</th>\n",
       "      <th>member_gender</th>\n",
       "      <th>user_type</th>\n",
       "      <th>AgeGroup</th>\n",
       "      <th>trip_duration(s)</th>\n",
       "      <th>AgeGroup_cat</th>\n",
       "    </tr>\n",
       "  </thead>\n",
       "  <tbody>\n",
       "    <tr>\n",
       "      <th>0</th>\n",
       "      <td>1984</td>\n",
       "      <td>Male</td>\n",
       "      <td>Customer</td>\n",
       "      <td>midlife</td>\n",
       "      <td>52185.830</td>\n",
       "      <td>2</td>\n",
       "    </tr>\n",
       "    <tr>\n",
       "      <th>1</th>\n",
       "      <td>1972</td>\n",
       "      <td>Male</td>\n",
       "      <td>Customer</td>\n",
       "      <td>midlife</td>\n",
       "      <td>61854.928</td>\n",
       "      <td>2</td>\n",
       "    </tr>\n",
       "    <tr>\n",
       "      <th>2</th>\n",
       "      <td>1993</td>\n",
       "      <td>Male</td>\n",
       "      <td>Subscriber</td>\n",
       "      <td>old</td>\n",
       "      <td>506.193</td>\n",
       "      <td>3</td>\n",
       "    </tr>\n",
       "    <tr>\n",
       "      <th>3</th>\n",
       "      <td>1998</td>\n",
       "      <td>Male</td>\n",
       "      <td>Subscriber</td>\n",
       "      <td>old</td>\n",
       "      <td>259.032</td>\n",
       "      <td>3</td>\n",
       "    </tr>\n",
       "    <tr>\n",
       "      <th>4</th>\n",
       "      <td>1977</td>\n",
       "      <td>Male</td>\n",
       "      <td>Subscriber</td>\n",
       "      <td>midlife</td>\n",
       "      <td>386.978</td>\n",
       "      <td>2</td>\n",
       "    </tr>\n",
       "  </tbody>\n",
       "</table>\n",
       "</div>"
      ],
      "text/plain": [
       "   member_birth_year member_gender   user_type AgeGroup  trip_duration(s)  \\\n",
       "0               1984          Male    Customer  midlife         52185.830   \n",
       "1               1972          Male    Customer  midlife         61854.928   \n",
       "2               1993          Male  Subscriber      old           506.193   \n",
       "3               1998          Male  Subscriber      old           259.032   \n",
       "4               1977          Male  Subscriber  midlife           386.978   \n",
       "\n",
       "   AgeGroup_cat  \n",
       "0             2  \n",
       "1             2  \n",
       "2             3  \n",
       "3             3  \n",
       "4             2  "
      ]
     },
     "execution_count": 51,
     "metadata": {},
     "output_type": "execute_result"
    }
   ],
   "source": [
    "bike_trip_df.head()"
   ]
  },
  {
   "cell_type": "code",
   "execution_count": 52,
   "metadata": {
    "slideshow": {
     "slide_type": "subslide"
    }
   },
   "outputs": [
    {
     "data": {
      "image/png": "[encoded data removed]",
      "text/plain": [
       "<Figure size 1080x216 with 5 Axes>"
      ]
     },
     "metadata": {
      "needs_background": "light"
     },
     "output_type": "display_data"
    }
   ],
   "source": [
    "g = sb.FacetGrid(bike_trip_df, col=\"AgeGroup\")\n",
    "g.map(sb.scatterplot, \"member_gender\", \"trip_duration(s)\")\n",
    "g.fig.subplots_adjust(top=0.7) # adjust the Figure in g\n",
    "g.fig.suptitle('Distribution of trip durations among genders of users and age groups');"
   ]
  },
  {
   "cell_type": "code",
   "execution_count": null,
   "metadata": {},
   "outputs": [],
   "source": []
  }
 ],
 "metadata": {
  "celltoolbar": "Slideshow",
  "kernelspec": {
   "display_name": "Python 3 (ipykernel)",
   "language": "python",
   "name": "python3"
  },
  "language_info": {
   "codemirror_mode": {
    "name": "ipython",
    "version": 3
   },
   "file_extension": ".py",
   "mimetype": "text/x-python",
   "name": "python",
   "nbconvert_exporter": "python",
   "pygments_lexer": "ipython3",
   "version": "3.9.7"
  }
 },
 "nbformat": 4,
 "nbformat_minor": 2
}
