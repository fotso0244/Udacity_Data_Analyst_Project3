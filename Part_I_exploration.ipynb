{
 "cells": [
  {
   "cell_type": "markdown",
   "metadata": {},
   "source": [
    "# Part I - (Ford GoBike System Data - Exploration)\n",
    "## by Aristide FOTSO\n",
    "\n",
    "## Introduction\n",
    "> **DATASET**: Ford GoBike System Data\n",
    "> * This data set includes information about individual rides made in a bike-sharing system covering the greater San Francisco Bay area.\n",
    "  \n",
    "\n",
    "\n",
    "\n",
    "## Preliminary Wrangling\n"
   ]
  },
  {
   "cell_type": "code",
   "execution_count": 1,
   "metadata": {},
   "outputs": [],
   "source": [
    "# import all packages and set plots to be embedded inline\n",
    "import numpy as np\n",
    "import pandas as pd\n",
    "import matplotlib.pyplot as plt\n",
    "import seaborn as sb\n",
    "\n",
    "%matplotlib inline"
   ]
  },
  {
   "cell_type": "markdown",
   "metadata": {},
   "source": [
    "> Load in dataset\n"
   ]
  },
  {
   "cell_type": "code",
   "execution_count": 2,
   "metadata": {},
   "outputs": [
    {
     "data": {
      "text/html": [
       "<div>\n",
       "<style scoped>\n",
       "    .dataframe tbody tr th:only-of-type {\n",
       "        vertical-align: middle;\n",
       "    }\n",
       "\n",
       "    .dataframe tbody tr th {\n",
       "        vertical-align: top;\n",
       "    }\n",
       "\n",
       "    .dataframe thead th {\n",
       "        text-align: right;\n",
       "    }\n",
       "</style>\n",
       "<table border=\"1\" class=\"dataframe\">\n",
       "  <thead>\n",
       "    <tr style=\"text-align: right;\">\n",
       "      <th></th>\n",
       "      <th>duration_sec</th>\n",
       "      <th>start_time</th>\n",
       "      <th>end_time</th>\n",
       "      <th>start_station_id</th>\n",
       "      <th>start_station_name</th>\n",
       "      <th>start_station_latitude</th>\n",
       "      <th>start_station_longitude</th>\n",
       "      <th>end_station_id</th>\n",
       "      <th>end_station_name</th>\n",
       "      <th>end_station_latitude</th>\n",
       "      <th>end_station_longitude</th>\n",
       "      <th>bike_id</th>\n",
       "      <th>user_type</th>\n",
       "      <th>member_birth_year</th>\n",
       "      <th>member_gender</th>\n",
       "      <th>bike_share_for_all_trip</th>\n",
       "    </tr>\n",
       "  </thead>\n",
       "  <tbody>\n",
       "    <tr>\n",
       "      <th>174971</th>\n",
       "      <td>672</td>\n",
       "      <td>2019-02-02 15:58:11.1780</td>\n",
       "      <td>2019-02-02 16:09:24.0850</td>\n",
       "      <td>116.0</td>\n",
       "      <td>Mississippi St at 17th St</td>\n",
       "      <td>37.764802</td>\n",
       "      <td>-122.394771</td>\n",
       "      <td>61.0</td>\n",
       "      <td>Howard St at 8th St</td>\n",
       "      <td>37.776513</td>\n",
       "      <td>-122.411306</td>\n",
       "      <td>4653</td>\n",
       "      <td>Subscriber</td>\n",
       "      <td>1995.0</td>\n",
       "      <td>Male</td>\n",
       "      <td>No</td>\n",
       "    </tr>\n",
       "    <tr>\n",
       "      <th>50514</th>\n",
       "      <td>187</td>\n",
       "      <td>2019-02-21 19:07:41.0130</td>\n",
       "      <td>2019-02-21 19:10:48.9450</td>\n",
       "      <td>67.0</td>\n",
       "      <td>San Francisco Caltrain Station 2  (Townsend St...</td>\n",
       "      <td>37.776639</td>\n",
       "      <td>-122.395526</td>\n",
       "      <td>90.0</td>\n",
       "      <td>Townsend St at 7th St</td>\n",
       "      <td>37.771058</td>\n",
       "      <td>-122.402717</td>\n",
       "      <td>6133</td>\n",
       "      <td>Subscriber</td>\n",
       "      <td>1987.0</td>\n",
       "      <td>Male</td>\n",
       "      <td>No</td>\n",
       "    </tr>\n",
       "    <tr>\n",
       "      <th>99994</th>\n",
       "      <td>1117</td>\n",
       "      <td>2019-02-14 18:39:18.9930</td>\n",
       "      <td>2019-02-14 18:57:56.6470</td>\n",
       "      <td>155.0</td>\n",
       "      <td>Emeryville Public Market</td>\n",
       "      <td>37.840521</td>\n",
       "      <td>-122.293528</td>\n",
       "      <td>183.0</td>\n",
       "      <td>Telegraph Ave at 19th St</td>\n",
       "      <td>37.808702</td>\n",
       "      <td>-122.269927</td>\n",
       "      <td>4694</td>\n",
       "      <td>Subscriber</td>\n",
       "      <td>1988.0</td>\n",
       "      <td>Male</td>\n",
       "      <td>No</td>\n",
       "    </tr>\n",
       "    <tr>\n",
       "      <th>68946</th>\n",
       "      <td>531</td>\n",
       "      <td>2019-02-19 20:37:58.4630</td>\n",
       "      <td>2019-02-19 20:46:49.7430</td>\n",
       "      <td>223.0</td>\n",
       "      <td>16th St Mission BART Station 2</td>\n",
       "      <td>37.764765</td>\n",
       "      <td>-122.420091</td>\n",
       "      <td>73.0</td>\n",
       "      <td>Pierce St at Haight St</td>\n",
       "      <td>37.771793</td>\n",
       "      <td>-122.433708</td>\n",
       "      <td>5828</td>\n",
       "      <td>Subscriber</td>\n",
       "      <td>1990.0</td>\n",
       "      <td>Female</td>\n",
       "      <td>No</td>\n",
       "    </tr>\n",
       "    <tr>\n",
       "      <th>125057</th>\n",
       "      <td>1140</td>\n",
       "      <td>2019-02-11 07:47:55.1870</td>\n",
       "      <td>2019-02-11 08:06:56.1740</td>\n",
       "      <td>119.0</td>\n",
       "      <td>18th St at Noe St</td>\n",
       "      <td>37.761047</td>\n",
       "      <td>-122.432642</td>\n",
       "      <td>66.0</td>\n",
       "      <td>3rd St at Townsend St</td>\n",
       "      <td>37.778742</td>\n",
       "      <td>-122.392741</td>\n",
       "      <td>1428</td>\n",
       "      <td>Subscriber</td>\n",
       "      <td>1985.0</td>\n",
       "      <td>Male</td>\n",
       "      <td>No</td>\n",
       "    </tr>\n",
       "  </tbody>\n",
       "</table>\n",
       "</div>"
      ],
      "text/plain": [
       "        duration_sec                start_time                  end_time  \\\n",
       "174971           672  2019-02-02 15:58:11.1780  2019-02-02 16:09:24.0850   \n",
       "50514            187  2019-02-21 19:07:41.0130  2019-02-21 19:10:48.9450   \n",
       "99994           1117  2019-02-14 18:39:18.9930  2019-02-14 18:57:56.6470   \n",
       "68946            531  2019-02-19 20:37:58.4630  2019-02-19 20:46:49.7430   \n",
       "125057          1140  2019-02-11 07:47:55.1870  2019-02-11 08:06:56.1740   \n",
       "\n",
       "        start_station_id                                 start_station_name  \\\n",
       "174971             116.0                          Mississippi St at 17th St   \n",
       "50514               67.0  San Francisco Caltrain Station 2  (Townsend St...   \n",
       "99994              155.0                           Emeryville Public Market   \n",
       "68946              223.0                     16th St Mission BART Station 2   \n",
       "125057             119.0                                  18th St at Noe St   \n",
       "\n",
       "        start_station_latitude  start_station_longitude  end_station_id  \\\n",
       "174971               37.764802              -122.394771            61.0   \n",
       "50514                37.776639              -122.395526            90.0   \n",
       "99994                37.840521              -122.293528           183.0   \n",
       "68946                37.764765              -122.420091            73.0   \n",
       "125057               37.761047              -122.432642            66.0   \n",
       "\n",
       "                end_station_name  end_station_latitude  end_station_longitude  \\\n",
       "174971       Howard St at 8th St             37.776513            -122.411306   \n",
       "50514      Townsend St at 7th St             37.771058            -122.402717   \n",
       "99994   Telegraph Ave at 19th St             37.808702            -122.269927   \n",
       "68946     Pierce St at Haight St             37.771793            -122.433708   \n",
       "125057     3rd St at Townsend St             37.778742            -122.392741   \n",
       "\n",
       "        bike_id   user_type  member_birth_year member_gender  \\\n",
       "174971     4653  Subscriber             1995.0          Male   \n",
       "50514      6133  Subscriber             1987.0          Male   \n",
       "99994      4694  Subscriber             1988.0          Male   \n",
       "68946      5828  Subscriber             1990.0        Female   \n",
       "125057     1428  Subscriber             1985.0          Male   \n",
       "\n",
       "       bike_share_for_all_trip  \n",
       "174971                      No  \n",
       "50514                       No  \n",
       "99994                       No  \n",
       "68946                       No  \n",
       "125057                      No  "
      ]
     },
     "execution_count": 2,
     "metadata": {},
     "output_type": "execute_result"
    }
   ],
   "source": [
    "df = pd.read_csv('./201902-fordgobike-tripdata.csv')\n",
    "df.sample(5)"
   ]
  },
  {
   "cell_type": "code",
   "execution_count": 3,
   "metadata": {},
   "outputs": [
    {
     "name": "stdout",
     "output_type": "stream",
     "text": [
      "(183412, 16)\n",
      "duration_sec                 int64\n",
      "start_time                  object\n",
      "end_time                    object\n",
      "start_station_id           float64\n",
      "start_station_name          object\n",
      "start_station_latitude     float64\n",
      "start_station_longitude    float64\n",
      "end_station_id             float64\n",
      "end_station_name            object\n",
      "end_station_latitude       float64\n",
      "end_station_longitude      float64\n",
      "bike_id                      int64\n",
      "user_type                   object\n",
      "member_birth_year          float64\n",
      "member_gender               object\n",
      "bike_share_for_all_trip     object\n",
      "dtype: object\n"
     ]
    }
   ],
   "source": [
    "# high-level overview of data shape and composition\n",
    "print(df.shape)\n",
    "print(df.dtypes)"
   ]
  },
  {
   "cell_type": "code",
   "execution_count": 4,
   "metadata": {},
   "outputs": [
    {
     "name": "stdout",
     "output_type": "stream",
     "text": [
      "Subscriber    163544\n",
      "Customer       19868\n",
      "Name: user_type, dtype: int64\n",
      "No     166053\n",
      "Yes     17359\n",
      "Name: bike_share_for_all_trip, dtype: int64\n",
      "Male      130651\n",
      "Female     40844\n",
      "Other       3652\n",
      "Name: member_gender, dtype: int64\n"
     ]
    }
   ],
   "source": [
    "#Print distinct values of some properties\n",
    "print(df['user_type'].value_counts())\n",
    "print(df['bike_share_for_all_trip'].value_counts())\n",
    "print(df['member_gender'].value_counts())"
   ]
  },
  {
   "cell_type": "code",
   "execution_count": 5,
   "metadata": {},
   "outputs": [],
   "source": [
    "# convert user_type, bike_share_for_all_trip, and member_gender into ordered categorical types\n",
    "def convertCategorical(df):\n",
    "    ordinal_var_dict = {'user_type': ['Customer','Subscriber'],\n",
    "                    'bike_share_for_all_trip': ['No', 'Yes'],\n",
    "                    'member_gender': ['Other', 'Female', 'Male'],\n",
    "                   'AgeGroup': ['very_young','young','midlife','old','very_old']}\n",
    "\n",
    "    for var in ordinal_var_dict:\n",
    "        ordered_var = pd.api.types.CategoricalDtype(ordered = True,\n",
    "                                                categories = ordinal_var_dict[var])\n",
    "        df[var] = df[var].astype(ordered_var, errors='ignore')"
   ]
  },
  {
   "cell_type": "code",
   "execution_count": 6,
   "metadata": {},
   "outputs": [
    {
     "name": "stdout",
     "output_type": "stream",
     "text": [
      "<class 'pandas.core.frame.DataFrame'>\n",
      "RangeIndex: 183412 entries, 0 to 183411\n",
      "Data columns (total 16 columns):\n",
      " #   Column                   Non-Null Count   Dtype  \n",
      "---  ------                   --------------   -----  \n",
      " 0   duration_sec             183412 non-null  int64  \n",
      " 1   start_time               183412 non-null  object \n",
      " 2   end_time                 183412 non-null  object \n",
      " 3   start_station_id         183215 non-null  float64\n",
      " 4   start_station_name       183215 non-null  object \n",
      " 5   start_station_latitude   183412 non-null  float64\n",
      " 6   start_station_longitude  183412 non-null  float64\n",
      " 7   end_station_id           183215 non-null  float64\n",
      " 8   end_station_name         183215 non-null  object \n",
      " 9   end_station_latitude     183412 non-null  float64\n",
      " 10  end_station_longitude    183412 non-null  float64\n",
      " 11  bike_id                  183412 non-null  int64  \n",
      " 12  user_type                183412 non-null  object \n",
      " 13  member_birth_year        175147 non-null  float64\n",
      " 14  member_gender            175147 non-null  object \n",
      " 15  bike_share_for_all_trip  183412 non-null  object \n",
      "dtypes: float64(7), int64(2), object(7)\n",
      "memory usage: 22.4+ MB\n"
     ]
    }
   ],
   "source": [
    "#convertCategorical(df)\n",
    "df.info()"
   ]
  },
  {
   "cell_type": "code",
   "execution_count": 7,
   "metadata": {},
   "outputs": [
    {
     "data": {
      "text/html": [
       "<div>\n",
       "<style scoped>\n",
       "    .dataframe tbody tr th:only-of-type {\n",
       "        vertical-align: middle;\n",
       "    }\n",
       "\n",
       "    .dataframe tbody tr th {\n",
       "        vertical-align: top;\n",
       "    }\n",
       "\n",
       "    .dataframe thead th {\n",
       "        text-align: right;\n",
       "    }\n",
       "</style>\n",
       "<table border=\"1\" class=\"dataframe\">\n",
       "  <thead>\n",
       "    <tr style=\"text-align: right;\">\n",
       "      <th></th>\n",
       "      <th>duration_sec</th>\n",
       "      <th>start_time</th>\n",
       "      <th>end_time</th>\n",
       "      <th>start_station_id</th>\n",
       "      <th>start_station_name</th>\n",
       "      <th>start_station_latitude</th>\n",
       "      <th>start_station_longitude</th>\n",
       "      <th>end_station_id</th>\n",
       "      <th>end_station_name</th>\n",
       "      <th>end_station_latitude</th>\n",
       "      <th>end_station_longitude</th>\n",
       "      <th>bike_id</th>\n",
       "      <th>user_type</th>\n",
       "      <th>member_birth_year</th>\n",
       "      <th>member_gender</th>\n",
       "      <th>bike_share_for_all_trip</th>\n",
       "    </tr>\n",
       "  </thead>\n",
       "  <tbody>\n",
       "    <tr>\n",
       "      <th>1</th>\n",
       "      <td>42521</td>\n",
       "      <td>2019-02-28 18:53:21.7890</td>\n",
       "      <td>2019-03-01 06:42:03.0560</td>\n",
       "      <td>23.0</td>\n",
       "      <td>The Embarcadero at Steuart St</td>\n",
       "      <td>37.791464</td>\n",
       "      <td>-122.391034</td>\n",
       "      <td>81.0</td>\n",
       "      <td>Berry St at 4th St</td>\n",
       "      <td>37.775880</td>\n",
       "      <td>-122.393170</td>\n",
       "      <td>2535</td>\n",
       "      <td>Customer</td>\n",
       "      <td>NaN</td>\n",
       "      <td>NaN</td>\n",
       "      <td>No</td>\n",
       "    </tr>\n",
       "    <tr>\n",
       "      <th>13</th>\n",
       "      <td>915</td>\n",
       "      <td>2019-02-28 23:49:06.0620</td>\n",
       "      <td>2019-03-01 00:04:21.8670</td>\n",
       "      <td>252.0</td>\n",
       "      <td>Channing Way at Shattuck Ave</td>\n",
       "      <td>37.865847</td>\n",
       "      <td>-122.267443</td>\n",
       "      <td>244.0</td>\n",
       "      <td>Shattuck Ave at Hearst Ave</td>\n",
       "      <td>37.873676</td>\n",
       "      <td>-122.268487</td>\n",
       "      <td>5101</td>\n",
       "      <td>Subscriber</td>\n",
       "      <td>NaN</td>\n",
       "      <td>NaN</td>\n",
       "      <td>No</td>\n",
       "    </tr>\n",
       "    <tr>\n",
       "      <th>28</th>\n",
       "      <td>650</td>\n",
       "      <td>2019-02-28 23:43:27.5030</td>\n",
       "      <td>2019-02-28 23:54:18.4510</td>\n",
       "      <td>258.0</td>\n",
       "      <td>University Ave at Oxford St</td>\n",
       "      <td>37.872355</td>\n",
       "      <td>-122.266447</td>\n",
       "      <td>263.0</td>\n",
       "      <td>Channing Way at San Pablo Ave</td>\n",
       "      <td>37.862827</td>\n",
       "      <td>-122.290231</td>\n",
       "      <td>4784</td>\n",
       "      <td>Customer</td>\n",
       "      <td>NaN</td>\n",
       "      <td>NaN</td>\n",
       "      <td>No</td>\n",
       "    </tr>\n",
       "    <tr>\n",
       "      <th>53</th>\n",
       "      <td>3418</td>\n",
       "      <td>2019-02-28 22:41:16.3620</td>\n",
       "      <td>2019-02-28 23:38:14.3630</td>\n",
       "      <td>11.0</td>\n",
       "      <td>Davis St at Jackson St</td>\n",
       "      <td>37.797280</td>\n",
       "      <td>-122.398436</td>\n",
       "      <td>11.0</td>\n",
       "      <td>Davis St at Jackson St</td>\n",
       "      <td>37.797280</td>\n",
       "      <td>-122.398436</td>\n",
       "      <td>319</td>\n",
       "      <td>Customer</td>\n",
       "      <td>NaN</td>\n",
       "      <td>NaN</td>\n",
       "      <td>No</td>\n",
       "    </tr>\n",
       "    <tr>\n",
       "      <th>65</th>\n",
       "      <td>926</td>\n",
       "      <td>2019-02-28 23:17:05.8530</td>\n",
       "      <td>2019-02-28 23:32:32.6820</td>\n",
       "      <td>13.0</td>\n",
       "      <td>Commercial St at Montgomery St</td>\n",
       "      <td>37.794231</td>\n",
       "      <td>-122.402923</td>\n",
       "      <td>81.0</td>\n",
       "      <td>Berry St at 4th St</td>\n",
       "      <td>37.775880</td>\n",
       "      <td>-122.393170</td>\n",
       "      <td>2951</td>\n",
       "      <td>Subscriber</td>\n",
       "      <td>NaN</td>\n",
       "      <td>NaN</td>\n",
       "      <td>No</td>\n",
       "    </tr>\n",
       "    <tr>\n",
       "      <th>...</th>\n",
       "      <td>...</td>\n",
       "      <td>...</td>\n",
       "      <td>...</td>\n",
       "      <td>...</td>\n",
       "      <td>...</td>\n",
       "      <td>...</td>\n",
       "      <td>...</td>\n",
       "      <td>...</td>\n",
       "      <td>...</td>\n",
       "      <td>...</td>\n",
       "      <td>...</td>\n",
       "      <td>...</td>\n",
       "      <td>...</td>\n",
       "      <td>...</td>\n",
       "      <td>...</td>\n",
       "      <td>...</td>\n",
       "    </tr>\n",
       "    <tr>\n",
       "      <th>183354</th>\n",
       "      <td>449</td>\n",
       "      <td>2019-02-01 01:35:07.6630</td>\n",
       "      <td>2019-02-01 01:42:36.8780</td>\n",
       "      <td>244.0</td>\n",
       "      <td>Shattuck Ave at Hearst Ave</td>\n",
       "      <td>37.873676</td>\n",
       "      <td>-122.268487</td>\n",
       "      <td>253.0</td>\n",
       "      <td>Haste St at College Ave</td>\n",
       "      <td>37.866418</td>\n",
       "      <td>-122.253799</td>\n",
       "      <td>5430</td>\n",
       "      <td>Customer</td>\n",
       "      <td>NaN</td>\n",
       "      <td>NaN</td>\n",
       "      <td>No</td>\n",
       "    </tr>\n",
       "    <tr>\n",
       "      <th>183356</th>\n",
       "      <td>795</td>\n",
       "      <td>2019-02-01 01:25:50.3660</td>\n",
       "      <td>2019-02-01 01:39:05.9500</td>\n",
       "      <td>368.0</td>\n",
       "      <td>Myrtle St at Polk St</td>\n",
       "      <td>37.785434</td>\n",
       "      <td>-122.419622</td>\n",
       "      <td>125.0</td>\n",
       "      <td>20th St at Bryant St</td>\n",
       "      <td>37.759200</td>\n",
       "      <td>-122.409851</td>\n",
       "      <td>5400</td>\n",
       "      <td>Subscriber</td>\n",
       "      <td>NaN</td>\n",
       "      <td>NaN</td>\n",
       "      <td>No</td>\n",
       "    </tr>\n",
       "    <tr>\n",
       "      <th>183363</th>\n",
       "      <td>673</td>\n",
       "      <td>2019-02-01 01:12:24.4200</td>\n",
       "      <td>2019-02-01 01:23:37.6450</td>\n",
       "      <td>75.0</td>\n",
       "      <td>Market St at Franklin St</td>\n",
       "      <td>37.773793</td>\n",
       "      <td>-122.421239</td>\n",
       "      <td>133.0</td>\n",
       "      <td>Valencia St at 22nd St</td>\n",
       "      <td>37.755213</td>\n",
       "      <td>-122.420975</td>\n",
       "      <td>5166</td>\n",
       "      <td>Customer</td>\n",
       "      <td>NaN</td>\n",
       "      <td>NaN</td>\n",
       "      <td>No</td>\n",
       "    </tr>\n",
       "    <tr>\n",
       "      <th>183371</th>\n",
       "      <td>196</td>\n",
       "      <td>2019-02-01 01:08:38.6410</td>\n",
       "      <td>2019-02-01 01:11:54.9490</td>\n",
       "      <td>58.0</td>\n",
       "      <td>Market St at 10th St</td>\n",
       "      <td>37.776619</td>\n",
       "      <td>-122.417385</td>\n",
       "      <td>75.0</td>\n",
       "      <td>Market St at Franklin St</td>\n",
       "      <td>37.773793</td>\n",
       "      <td>-122.421239</td>\n",
       "      <td>2395</td>\n",
       "      <td>Customer</td>\n",
       "      <td>NaN</td>\n",
       "      <td>NaN</td>\n",
       "      <td>No</td>\n",
       "    </tr>\n",
       "    <tr>\n",
       "      <th>183402</th>\n",
       "      <td>122</td>\n",
       "      <td>2019-02-01 00:17:32.2580</td>\n",
       "      <td>2019-02-01 00:19:34.9380</td>\n",
       "      <td>119.0</td>\n",
       "      <td>18th St at Noe St</td>\n",
       "      <td>37.761047</td>\n",
       "      <td>-122.432642</td>\n",
       "      <td>120.0</td>\n",
       "      <td>Mission Dolores Park</td>\n",
       "      <td>37.761420</td>\n",
       "      <td>-122.426435</td>\n",
       "      <td>4326</td>\n",
       "      <td>Subscriber</td>\n",
       "      <td>NaN</td>\n",
       "      <td>NaN</td>\n",
       "      <td>No</td>\n",
       "    </tr>\n",
       "  </tbody>\n",
       "</table>\n",
       "<p>8265 rows × 16 columns</p>\n",
       "</div>"
      ],
      "text/plain": [
       "        duration_sec                start_time                  end_time  \\\n",
       "1              42521  2019-02-28 18:53:21.7890  2019-03-01 06:42:03.0560   \n",
       "13               915  2019-02-28 23:49:06.0620  2019-03-01 00:04:21.8670   \n",
       "28               650  2019-02-28 23:43:27.5030  2019-02-28 23:54:18.4510   \n",
       "53              3418  2019-02-28 22:41:16.3620  2019-02-28 23:38:14.3630   \n",
       "65               926  2019-02-28 23:17:05.8530  2019-02-28 23:32:32.6820   \n",
       "...              ...                       ...                       ...   \n",
       "183354           449  2019-02-01 01:35:07.6630  2019-02-01 01:42:36.8780   \n",
       "183356           795  2019-02-01 01:25:50.3660  2019-02-01 01:39:05.9500   \n",
       "183363           673  2019-02-01 01:12:24.4200  2019-02-01 01:23:37.6450   \n",
       "183371           196  2019-02-01 01:08:38.6410  2019-02-01 01:11:54.9490   \n",
       "183402           122  2019-02-01 00:17:32.2580  2019-02-01 00:19:34.9380   \n",
       "\n",
       "        start_station_id              start_station_name  \\\n",
       "1                   23.0   The Embarcadero at Steuart St   \n",
       "13                 252.0    Channing Way at Shattuck Ave   \n",
       "28                 258.0     University Ave at Oxford St   \n",
       "53                  11.0          Davis St at Jackson St   \n",
       "65                  13.0  Commercial St at Montgomery St   \n",
       "...                  ...                             ...   \n",
       "183354             244.0      Shattuck Ave at Hearst Ave   \n",
       "183356             368.0            Myrtle St at Polk St   \n",
       "183363              75.0        Market St at Franklin St   \n",
       "183371              58.0            Market St at 10th St   \n",
       "183402             119.0               18th St at Noe St   \n",
       "\n",
       "        start_station_latitude  start_station_longitude  end_station_id  \\\n",
       "1                    37.791464              -122.391034            81.0   \n",
       "13                   37.865847              -122.267443           244.0   \n",
       "28                   37.872355              -122.266447           263.0   \n",
       "53                   37.797280              -122.398436            11.0   \n",
       "65                   37.794231              -122.402923            81.0   \n",
       "...                        ...                      ...             ...   \n",
       "183354               37.873676              -122.268487           253.0   \n",
       "183356               37.785434              -122.419622           125.0   \n",
       "183363               37.773793              -122.421239           133.0   \n",
       "183371               37.776619              -122.417385            75.0   \n",
       "183402               37.761047              -122.432642           120.0   \n",
       "\n",
       "                     end_station_name  end_station_latitude  \\\n",
       "1                  Berry St at 4th St             37.775880   \n",
       "13         Shattuck Ave at Hearst Ave             37.873676   \n",
       "28      Channing Way at San Pablo Ave             37.862827   \n",
       "53             Davis St at Jackson St             37.797280   \n",
       "65                 Berry St at 4th St             37.775880   \n",
       "...                               ...                   ...   \n",
       "183354        Haste St at College Ave             37.866418   \n",
       "183356           20th St at Bryant St             37.759200   \n",
       "183363         Valencia St at 22nd St             37.755213   \n",
       "183371       Market St at Franklin St             37.773793   \n",
       "183402           Mission Dolores Park             37.761420   \n",
       "\n",
       "        end_station_longitude  bike_id   user_type  member_birth_year  \\\n",
       "1                 -122.393170     2535    Customer                NaN   \n",
       "13                -122.268487     5101  Subscriber                NaN   \n",
       "28                -122.290231     4784    Customer                NaN   \n",
       "53                -122.398436      319    Customer                NaN   \n",
       "65                -122.393170     2951  Subscriber                NaN   \n",
       "...                       ...      ...         ...                ...   \n",
       "183354            -122.253799     5430    Customer                NaN   \n",
       "183356            -122.409851     5400  Subscriber                NaN   \n",
       "183363            -122.420975     5166    Customer                NaN   \n",
       "183371            -122.421239     2395    Customer                NaN   \n",
       "183402            -122.426435     4326  Subscriber                NaN   \n",
       "\n",
       "       member_gender bike_share_for_all_trip  \n",
       "1                NaN                      No  \n",
       "13               NaN                      No  \n",
       "28               NaN                      No  \n",
       "53               NaN                      No  \n",
       "65               NaN                      No  \n",
       "...              ...                     ...  \n",
       "183354           NaN                      No  \n",
       "183356           NaN                      No  \n",
       "183363           NaN                      No  \n",
       "183371           NaN                      No  \n",
       "183402           NaN                      No  \n",
       "\n",
       "[8265 rows x 16 columns]"
      ]
     },
     "execution_count": 7,
     "metadata": {},
     "output_type": "execute_result"
    }
   ],
   "source": [
    "df[df['member_birth_year'].isnull()]"
   ]
  },
  {
   "cell_type": "code",
   "execution_count": 8,
   "metadata": {},
   "outputs": [
    {
     "data": {
      "text/html": [
       "<div>\n",
       "<style scoped>\n",
       "    .dataframe tbody tr th:only-of-type {\n",
       "        vertical-align: middle;\n",
       "    }\n",
       "\n",
       "    .dataframe tbody tr th {\n",
       "        vertical-align: top;\n",
       "    }\n",
       "\n",
       "    .dataframe thead th {\n",
       "        text-align: right;\n",
       "    }\n",
       "</style>\n",
       "<table border=\"1\" class=\"dataframe\">\n",
       "  <thead>\n",
       "    <tr style=\"text-align: right;\">\n",
       "      <th></th>\n",
       "      <th>duration_sec</th>\n",
       "      <th>start_time</th>\n",
       "      <th>end_time</th>\n",
       "      <th>start_station_id</th>\n",
       "      <th>start_station_name</th>\n",
       "      <th>start_station_latitude</th>\n",
       "      <th>start_station_longitude</th>\n",
       "      <th>end_station_id</th>\n",
       "      <th>end_station_name</th>\n",
       "      <th>end_station_latitude</th>\n",
       "      <th>end_station_longitude</th>\n",
       "      <th>bike_id</th>\n",
       "      <th>user_type</th>\n",
       "      <th>member_birth_year</th>\n",
       "      <th>member_gender</th>\n",
       "      <th>bike_share_for_all_trip</th>\n",
       "    </tr>\n",
       "  </thead>\n",
       "  <tbody>\n",
       "  </tbody>\n",
       "</table>\n",
       "</div>"
      ],
      "text/plain": [
       "Empty DataFrame\n",
       "Columns: [duration_sec, start_time, end_time, start_station_id, start_station_name, start_station_latitude, start_station_longitude, end_station_id, end_station_name, end_station_latitude, end_station_longitude, bike_id, user_type, member_birth_year, member_gender, bike_share_for_all_trip]\n",
       "Index: []"
      ]
     },
     "execution_count": 8,
     "metadata": {},
     "output_type": "execute_result"
    }
   ],
   "source": [
    "# Extract rows where 'member_birth_year' and 'member_gender' columns are not null\n",
    "df_notNaN = df[~(df['member_birth_year'].isnull())]\n",
    "df_notNaN[df_notNaN['member_birth_year'].isnull()]"
   ]
  },
  {
   "cell_type": "code",
   "execution_count": 9,
   "metadata": {},
   "outputs": [
    {
     "data": {
      "text/html": [
       "<div>\n",
       "<style scoped>\n",
       "    .dataframe tbody tr th:only-of-type {\n",
       "        vertical-align: middle;\n",
       "    }\n",
       "\n",
       "    .dataframe tbody tr th {\n",
       "        vertical-align: top;\n",
       "    }\n",
       "\n",
       "    .dataframe thead th {\n",
       "        text-align: right;\n",
       "    }\n",
       "</style>\n",
       "<table border=\"1\" class=\"dataframe\">\n",
       "  <thead>\n",
       "    <tr style=\"text-align: right;\">\n",
       "      <th></th>\n",
       "      <th>trip_id</th>\n",
       "      <th>duration_sec</th>\n",
       "      <th>start_time</th>\n",
       "      <th>end_time</th>\n",
       "      <th>start_station_id</th>\n",
       "      <th>start_station_name</th>\n",
       "      <th>start_station_latitude</th>\n",
       "      <th>start_station_longitude</th>\n",
       "      <th>end_station_id</th>\n",
       "      <th>end_station_name</th>\n",
       "      <th>end_station_latitude</th>\n",
       "      <th>end_station_longitude</th>\n",
       "      <th>bike_id</th>\n",
       "      <th>user_type</th>\n",
       "      <th>member_birth_year</th>\n",
       "      <th>member_gender</th>\n",
       "      <th>bike_share_for_all_trip</th>\n",
       "    </tr>\n",
       "  </thead>\n",
       "  <tbody>\n",
       "    <tr>\n",
       "      <th>0</th>\n",
       "      <td>0</td>\n",
       "      <td>52185</td>\n",
       "      <td>2019-02-28 17:32:10.1450</td>\n",
       "      <td>2019-03-01 08:01:55.9750</td>\n",
       "      <td>21.0</td>\n",
       "      <td>Montgomery St BART Station (Market St at 2nd St)</td>\n",
       "      <td>37.789625</td>\n",
       "      <td>-122.400811</td>\n",
       "      <td>13.0</td>\n",
       "      <td>Commercial St at Montgomery St</td>\n",
       "      <td>37.794231</td>\n",
       "      <td>-122.402923</td>\n",
       "      <td>4902</td>\n",
       "      <td>Customer</td>\n",
       "      <td>1984.0</td>\n",
       "      <td>Male</td>\n",
       "      <td>No</td>\n",
       "    </tr>\n",
       "    <tr>\n",
       "      <th>2</th>\n",
       "      <td>1</td>\n",
       "      <td>61854</td>\n",
       "      <td>2019-02-28 12:13:13.2180</td>\n",
       "      <td>2019-03-01 05:24:08.1460</td>\n",
       "      <td>86.0</td>\n",
       "      <td>Market St at Dolores St</td>\n",
       "      <td>37.769305</td>\n",
       "      <td>-122.426826</td>\n",
       "      <td>3.0</td>\n",
       "      <td>Powell St BART Station (Market St at 4th St)</td>\n",
       "      <td>37.786375</td>\n",
       "      <td>-122.404904</td>\n",
       "      <td>5905</td>\n",
       "      <td>Customer</td>\n",
       "      <td>1972.0</td>\n",
       "      <td>Male</td>\n",
       "      <td>No</td>\n",
       "    </tr>\n",
       "    <tr>\n",
       "      <th>3</th>\n",
       "      <td>2</td>\n",
       "      <td>36490</td>\n",
       "      <td>2019-02-28 17:54:26.0100</td>\n",
       "      <td>2019-03-01 04:02:36.8420</td>\n",
       "      <td>375.0</td>\n",
       "      <td>Grove St at Masonic Ave</td>\n",
       "      <td>37.774836</td>\n",
       "      <td>-122.446546</td>\n",
       "      <td>70.0</td>\n",
       "      <td>Central Ave at Fell St</td>\n",
       "      <td>37.773311</td>\n",
       "      <td>-122.444293</td>\n",
       "      <td>6638</td>\n",
       "      <td>Subscriber</td>\n",
       "      <td>1989.0</td>\n",
       "      <td>Other</td>\n",
       "      <td>No</td>\n",
       "    </tr>\n",
       "    <tr>\n",
       "      <th>4</th>\n",
       "      <td>3</td>\n",
       "      <td>1585</td>\n",
       "      <td>2019-02-28 23:54:18.5490</td>\n",
       "      <td>2019-03-01 00:20:44.0740</td>\n",
       "      <td>7.0</td>\n",
       "      <td>Frank H Ogawa Plaza</td>\n",
       "      <td>37.804562</td>\n",
       "      <td>-122.271738</td>\n",
       "      <td>222.0</td>\n",
       "      <td>10th Ave at E 15th St</td>\n",
       "      <td>37.792714</td>\n",
       "      <td>-122.248780</td>\n",
       "      <td>4898</td>\n",
       "      <td>Subscriber</td>\n",
       "      <td>1974.0</td>\n",
       "      <td>Male</td>\n",
       "      <td>Yes</td>\n",
       "    </tr>\n",
       "    <tr>\n",
       "      <th>5</th>\n",
       "      <td>4</td>\n",
       "      <td>1793</td>\n",
       "      <td>2019-02-28 23:49:58.6320</td>\n",
       "      <td>2019-03-01 00:19:51.7600</td>\n",
       "      <td>93.0</td>\n",
       "      <td>4th St at Mission Bay Blvd S</td>\n",
       "      <td>37.770407</td>\n",
       "      <td>-122.391198</td>\n",
       "      <td>323.0</td>\n",
       "      <td>Broadway at Kearny</td>\n",
       "      <td>37.798014</td>\n",
       "      <td>-122.405950</td>\n",
       "      <td>5200</td>\n",
       "      <td>Subscriber</td>\n",
       "      <td>1959.0</td>\n",
       "      <td>Male</td>\n",
       "      <td>No</td>\n",
       "    </tr>\n",
       "  </tbody>\n",
       "</table>\n",
       "</div>"
      ],
      "text/plain": [
       "   trip_id  duration_sec                start_time                  end_time  \\\n",
       "0        0         52185  2019-02-28 17:32:10.1450  2019-03-01 08:01:55.9750   \n",
       "2        1         61854  2019-02-28 12:13:13.2180  2019-03-01 05:24:08.1460   \n",
       "3        2         36490  2019-02-28 17:54:26.0100  2019-03-01 04:02:36.8420   \n",
       "4        3          1585  2019-02-28 23:54:18.5490  2019-03-01 00:20:44.0740   \n",
       "5        4          1793  2019-02-28 23:49:58.6320  2019-03-01 00:19:51.7600   \n",
       "\n",
       "   start_station_id                                start_station_name  \\\n",
       "0              21.0  Montgomery St BART Station (Market St at 2nd St)   \n",
       "2              86.0                           Market St at Dolores St   \n",
       "3             375.0                           Grove St at Masonic Ave   \n",
       "4               7.0                               Frank H Ogawa Plaza   \n",
       "5              93.0                      4th St at Mission Bay Blvd S   \n",
       "\n",
       "   start_station_latitude  start_station_longitude  end_station_id  \\\n",
       "0               37.789625              -122.400811            13.0   \n",
       "2               37.769305              -122.426826             3.0   \n",
       "3               37.774836              -122.446546            70.0   \n",
       "4               37.804562              -122.271738           222.0   \n",
       "5               37.770407              -122.391198           323.0   \n",
       "\n",
       "                               end_station_name  end_station_latitude  \\\n",
       "0                Commercial St at Montgomery St             37.794231   \n",
       "2  Powell St BART Station (Market St at 4th St)             37.786375   \n",
       "3                        Central Ave at Fell St             37.773311   \n",
       "4                         10th Ave at E 15th St             37.792714   \n",
       "5                            Broadway at Kearny             37.798014   \n",
       "\n",
       "   end_station_longitude  bike_id   user_type  member_birth_year  \\\n",
       "0            -122.402923     4902    Customer             1984.0   \n",
       "2            -122.404904     5905    Customer             1972.0   \n",
       "3            -122.444293     6638  Subscriber             1989.0   \n",
       "4            -122.248780     4898  Subscriber             1974.0   \n",
       "5            -122.405950     5200  Subscriber             1959.0   \n",
       "\n",
       "  member_gender bike_share_for_all_trip  \n",
       "0          Male                      No  \n",
       "2          Male                      No  \n",
       "3         Other                      No  \n",
       "4          Male                     Yes  \n",
       "5          Male                      No  "
      ]
     },
     "execution_count": 9,
     "metadata": {},
     "output_type": "execute_result"
    }
   ],
   "source": [
    "nb_rows = df_notNaN.shape[0]\n",
    "trip_id = np.arange(0, nb_rows, 1)\n",
    "df_notNaN.insert(0, \"trip_id\", trip_id)\n",
    "df_notNaN.head(5)"
   ]
  },
  {
   "cell_type": "code",
   "execution_count": 10,
   "metadata": {},
   "outputs": [
    {
     "name": "stdout",
     "output_type": "stream",
     "text": [
      "trip_id                             int64\n",
      "duration_sec                        int64\n",
      "start_time                 datetime64[ns]\n",
      "end_time                   datetime64[ns]\n",
      "start_station_id                  float64\n",
      "start_station_name                 object\n",
      "start_station_latitude            float64\n",
      "start_station_longitude           float64\n",
      "end_station_id                    float64\n",
      "end_station_name                   object\n",
      "end_station_latitude              float64\n",
      "end_station_longitude             float64\n",
      "bike_id                             int64\n",
      "user_type                          object\n",
      "member_birth_year                   int64\n",
      "member_gender                      object\n",
      "bike_share_for_all_trip            object\n",
      "dtype: object\n"
     ]
    }
   ],
   "source": [
    "import warnings\n",
    "warnings.filterwarnings('ignore')\n",
    "# Convert 'start_time', 'end_time' columns into datetime\n",
    "df_notNaN['start_time']= pd.to_datetime(df['start_time'])\n",
    "df_notNaN['end_time']= pd.to_datetime(df['end_time'])\n",
    "# Convert 'member_birth_year', 'start_station_id', 'end_station_id' columns into integer\n",
    "df_notNaN['member_birth_year'] = df_notNaN['member_birth_year'].apply(int)\n",
    "print(df_notNaN.dtypes)"
   ]
  },
  {
   "cell_type": "code",
   "execution_count": 11,
   "metadata": {},
   "outputs": [
    {
     "name": "stdout",
     "output_type": "stream",
     "text": [
      "<class 'pandas.core.frame.DataFrame'>\n",
      "Int64Index: 175147 entries, 0 to 183411\n",
      "Data columns (total 14 columns):\n",
      " #   Column                   Non-Null Count   Dtype         \n",
      "---  ------                   --------------   -----         \n",
      " 0   trip_id                  175147 non-null  int64         \n",
      " 1   start_time               175147 non-null  datetime64[ns]\n",
      " 2   end_time                 175147 non-null  datetime64[ns]\n",
      " 3   start_station_name       174952 non-null  object        \n",
      " 4   start_station_latitude   175147 non-null  float64       \n",
      " 5   start_station_longitude  175147 non-null  float64       \n",
      " 6   end_station_name         174952 non-null  object        \n",
      " 7   end_station_latitude     175147 non-null  float64       \n",
      " 8   end_station_longitude    175147 non-null  float64       \n",
      " 9   bike_id                  175147 non-null  int64         \n",
      " 10  user_type                175147 non-null  object        \n",
      " 11  member_birth_year        175147 non-null  int64         \n",
      " 12  member_gender            175147 non-null  object        \n",
      " 13  bike_share_for_all_trip  175147 non-null  object        \n",
      "dtypes: datetime64[ns](2), float64(4), int64(3), object(5)\n",
      "memory usage: 20.0+ MB\n"
     ]
    }
   ],
   "source": [
    "# Delete 'start_station_id', 'end_station_id' columns because they are not necessary\n",
    "df_notNaN = df_notNaN.drop(['start_station_id', 'end_station_id', 'duration_sec'], axis=1)\n",
    "df_notNaN.info()"
   ]
  },
  {
   "cell_type": "code",
   "execution_count": 12,
   "metadata": {},
   "outputs": [
    {
     "data": {
      "text/html": [
       "<div>\n",
       "<style scoped>\n",
       "    .dataframe tbody tr th:only-of-type {\n",
       "        vertical-align: middle;\n",
       "    }\n",
       "\n",
       "    .dataframe tbody tr th {\n",
       "        vertical-align: top;\n",
       "    }\n",
       "\n",
       "    .dataframe thead th {\n",
       "        text-align: right;\n",
       "    }\n",
       "</style>\n",
       "<table border=\"1\" class=\"dataframe\">\n",
       "  <thead>\n",
       "    <tr style=\"text-align: right;\">\n",
       "      <th></th>\n",
       "      <th>trip_id</th>\n",
       "      <th>start_time</th>\n",
       "      <th>end_time</th>\n",
       "      <th>start_station_name</th>\n",
       "      <th>start_station_latitude</th>\n",
       "      <th>start_station_longitude</th>\n",
       "      <th>end_station_name</th>\n",
       "      <th>end_station_latitude</th>\n",
       "      <th>end_station_longitude</th>\n",
       "      <th>bike_id</th>\n",
       "      <th>user_type</th>\n",
       "      <th>member_birth_year</th>\n",
       "      <th>member_gender</th>\n",
       "      <th>bike_share_for_all_trip</th>\n",
       "    </tr>\n",
       "  </thead>\n",
       "  <tbody>\n",
       "    <tr>\n",
       "      <th>1625</th>\n",
       "      <td>1561</td>\n",
       "      <td>2019-02-28 18:50:23.425</td>\n",
       "      <td>2019-02-28 19:00:59.986</td>\n",
       "      <td>Berry St at 4th St</td>\n",
       "      <td>37.775880</td>\n",
       "      <td>-122.393170</td>\n",
       "      <td>Powell St BART Station (Market St at 4th St)</td>\n",
       "      <td>37.786375</td>\n",
       "      <td>-122.404904</td>\n",
       "      <td>6446</td>\n",
       "      <td>Subscriber</td>\n",
       "      <td>1995</td>\n",
       "      <td>Male</td>\n",
       "      <td>No</td>\n",
       "    </tr>\n",
       "    <tr>\n",
       "      <th>172528</th>\n",
       "      <td>164867</td>\n",
       "      <td>2019-02-03 15:43:33.838</td>\n",
       "      <td>2019-02-03 15:47:35.348</td>\n",
       "      <td>Downtown Berkeley BART</td>\n",
       "      <td>37.870139</td>\n",
       "      <td>-122.268422</td>\n",
       "      <td>MLK Jr Way at University Ave</td>\n",
       "      <td>37.871719</td>\n",
       "      <td>-122.273068</td>\n",
       "      <td>5429</td>\n",
       "      <td>Subscriber</td>\n",
       "      <td>1996</td>\n",
       "      <td>Male</td>\n",
       "      <td>No</td>\n",
       "    </tr>\n",
       "    <tr>\n",
       "      <th>177494</th>\n",
       "      <td>169522</td>\n",
       "      <td>2019-02-01 21:15:20.081</td>\n",
       "      <td>2019-02-01 21:21:51.360</td>\n",
       "      <td>San Fernando St at 4th St</td>\n",
       "      <td>37.335885</td>\n",
       "      <td>-121.885660</td>\n",
       "      <td>5th St at Virginia St</td>\n",
       "      <td>37.325998</td>\n",
       "      <td>-121.877120</td>\n",
       "      <td>3989</td>\n",
       "      <td>Subscriber</td>\n",
       "      <td>1994</td>\n",
       "      <td>Male</td>\n",
       "      <td>Yes</td>\n",
       "    </tr>\n",
       "    <tr>\n",
       "      <th>119733</th>\n",
       "      <td>114451</td>\n",
       "      <td>2019-02-11 17:36:25.947</td>\n",
       "      <td>2019-02-11 17:45:31.204</td>\n",
       "      <td>Webster St at 2nd St</td>\n",
       "      <td>37.795195</td>\n",
       "      <td>-122.273970</td>\n",
       "      <td>2nd Ave at E 18th St</td>\n",
       "      <td>37.800214</td>\n",
       "      <td>-122.253810</td>\n",
       "      <td>4505</td>\n",
       "      <td>Subscriber</td>\n",
       "      <td>1986</td>\n",
       "      <td>Male</td>\n",
       "      <td>No</td>\n",
       "    </tr>\n",
       "    <tr>\n",
       "      <th>9884</th>\n",
       "      <td>9510</td>\n",
       "      <td>2019-02-27 23:07:21.087</td>\n",
       "      <td>2019-02-27 23:24:15.897</td>\n",
       "      <td>Union Square (Powell St at Post St)</td>\n",
       "      <td>37.788300</td>\n",
       "      <td>-122.408531</td>\n",
       "      <td>Market St at 10th St</td>\n",
       "      <td>37.776619</td>\n",
       "      <td>-122.417385</td>\n",
       "      <td>5400</td>\n",
       "      <td>Subscriber</td>\n",
       "      <td>1994</td>\n",
       "      <td>Male</td>\n",
       "      <td>No</td>\n",
       "    </tr>\n",
       "    <tr>\n",
       "      <th>89036</th>\n",
       "      <td>85022</td>\n",
       "      <td>2019-02-16 16:38:35.007</td>\n",
       "      <td>2019-02-16 16:43:41.597</td>\n",
       "      <td>Woolsey St at Sacramento St</td>\n",
       "      <td>37.850578</td>\n",
       "      <td>-122.278175</td>\n",
       "      <td>Ashby BART Station</td>\n",
       "      <td>37.852477</td>\n",
       "      <td>-122.270213</td>\n",
       "      <td>6360</td>\n",
       "      <td>Subscriber</td>\n",
       "      <td>1967</td>\n",
       "      <td>Male</td>\n",
       "      <td>No</td>\n",
       "    </tr>\n",
       "    <tr>\n",
       "      <th>93473</th>\n",
       "      <td>89214</td>\n",
       "      <td>2019-02-15 17:37:35.585</td>\n",
       "      <td>2019-02-15 17:46:00.336</td>\n",
       "      <td>19th Street BART Station</td>\n",
       "      <td>37.809013</td>\n",
       "      <td>-122.268247</td>\n",
       "      <td>Grand Ave at Santa Clara Ave</td>\n",
       "      <td>37.812744</td>\n",
       "      <td>-122.247215</td>\n",
       "      <td>6350</td>\n",
       "      <td>Subscriber</td>\n",
       "      <td>1968</td>\n",
       "      <td>Male</td>\n",
       "      <td>No</td>\n",
       "    </tr>\n",
       "    <tr>\n",
       "      <th>25383</th>\n",
       "      <td>24464</td>\n",
       "      <td>2019-02-25 17:07:31.577</td>\n",
       "      <td>2019-02-25 17:12:35.553</td>\n",
       "      <td>Telegraph Ave at 27th St</td>\n",
       "      <td>37.816073</td>\n",
       "      <td>-122.267886</td>\n",
       "      <td>19th Street BART Station</td>\n",
       "      <td>37.809013</td>\n",
       "      <td>-122.268247</td>\n",
       "      <td>695</td>\n",
       "      <td>Subscriber</td>\n",
       "      <td>1970</td>\n",
       "      <td>Female</td>\n",
       "      <td>No</td>\n",
       "    </tr>\n",
       "    <tr>\n",
       "      <th>3978</th>\n",
       "      <td>3819</td>\n",
       "      <td>2019-02-28 16:26:14.397</td>\n",
       "      <td>2019-02-28 16:47:28.262</td>\n",
       "      <td>Raymond Kimbell Playground</td>\n",
       "      <td>37.783813</td>\n",
       "      <td>-122.434559</td>\n",
       "      <td>24th St at Chattanooga St</td>\n",
       "      <td>37.751819</td>\n",
       "      <td>-122.426614</td>\n",
       "      <td>5341</td>\n",
       "      <td>Subscriber</td>\n",
       "      <td>1970</td>\n",
       "      <td>Male</td>\n",
       "      <td>No</td>\n",
       "    </tr>\n",
       "    <tr>\n",
       "      <th>5224</th>\n",
       "      <td>5011</td>\n",
       "      <td>2019-02-28 13:44:56.387</td>\n",
       "      <td>2019-02-28 13:48:30.547</td>\n",
       "      <td>San Francisco Ferry Building (Harry Bridges Pl...</td>\n",
       "      <td>37.795392</td>\n",
       "      <td>-122.394203</td>\n",
       "      <td>The Embarcadero at Steuart St</td>\n",
       "      <td>37.791464</td>\n",
       "      <td>-122.391034</td>\n",
       "      <td>5382</td>\n",
       "      <td>Subscriber</td>\n",
       "      <td>1972</td>\n",
       "      <td>Female</td>\n",
       "      <td>No</td>\n",
       "    </tr>\n",
       "  </tbody>\n",
       "</table>\n",
       "</div>"
      ],
      "text/plain": [
       "        trip_id              start_time                end_time  \\\n",
       "1625       1561 2019-02-28 18:50:23.425 2019-02-28 19:00:59.986   \n",
       "172528   164867 2019-02-03 15:43:33.838 2019-02-03 15:47:35.348   \n",
       "177494   169522 2019-02-01 21:15:20.081 2019-02-01 21:21:51.360   \n",
       "119733   114451 2019-02-11 17:36:25.947 2019-02-11 17:45:31.204   \n",
       "9884       9510 2019-02-27 23:07:21.087 2019-02-27 23:24:15.897   \n",
       "89036     85022 2019-02-16 16:38:35.007 2019-02-16 16:43:41.597   \n",
       "93473     89214 2019-02-15 17:37:35.585 2019-02-15 17:46:00.336   \n",
       "25383     24464 2019-02-25 17:07:31.577 2019-02-25 17:12:35.553   \n",
       "3978       3819 2019-02-28 16:26:14.397 2019-02-28 16:47:28.262   \n",
       "5224       5011 2019-02-28 13:44:56.387 2019-02-28 13:48:30.547   \n",
       "\n",
       "                                       start_station_name  \\\n",
       "1625                                   Berry St at 4th St   \n",
       "172528                             Downtown Berkeley BART   \n",
       "177494                          San Fernando St at 4th St   \n",
       "119733                               Webster St at 2nd St   \n",
       "9884                  Union Square (Powell St at Post St)   \n",
       "89036                         Woolsey St at Sacramento St   \n",
       "93473                            19th Street BART Station   \n",
       "25383                            Telegraph Ave at 27th St   \n",
       "3978                           Raymond Kimbell Playground   \n",
       "5224    San Francisco Ferry Building (Harry Bridges Pl...   \n",
       "\n",
       "        start_station_latitude  start_station_longitude  \\\n",
       "1625                 37.775880              -122.393170   \n",
       "172528               37.870139              -122.268422   \n",
       "177494               37.335885              -121.885660   \n",
       "119733               37.795195              -122.273970   \n",
       "9884                 37.788300              -122.408531   \n",
       "89036                37.850578              -122.278175   \n",
       "93473                37.809013              -122.268247   \n",
       "25383                37.816073              -122.267886   \n",
       "3978                 37.783813              -122.434559   \n",
       "5224                 37.795392              -122.394203   \n",
       "\n",
       "                                    end_station_name  end_station_latitude  \\\n",
       "1625    Powell St BART Station (Market St at 4th St)             37.786375   \n",
       "172528                  MLK Jr Way at University Ave             37.871719   \n",
       "177494                         5th St at Virginia St             37.325998   \n",
       "119733                          2nd Ave at E 18th St             37.800214   \n",
       "9884                            Market St at 10th St             37.776619   \n",
       "89036                             Ashby BART Station             37.852477   \n",
       "93473                   Grand Ave at Santa Clara Ave             37.812744   \n",
       "25383                       19th Street BART Station             37.809013   \n",
       "3978                       24th St at Chattanooga St             37.751819   \n",
       "5224                   The Embarcadero at Steuart St             37.791464   \n",
       "\n",
       "        end_station_longitude  bike_id   user_type  member_birth_year  \\\n",
       "1625              -122.404904     6446  Subscriber               1995   \n",
       "172528            -122.273068     5429  Subscriber               1996   \n",
       "177494            -121.877120     3989  Subscriber               1994   \n",
       "119733            -122.253810     4505  Subscriber               1986   \n",
       "9884              -122.417385     5400  Subscriber               1994   \n",
       "89036             -122.270213     6360  Subscriber               1967   \n",
       "93473             -122.247215     6350  Subscriber               1968   \n",
       "25383             -122.268247      695  Subscriber               1970   \n",
       "3978              -122.426614     5341  Subscriber               1970   \n",
       "5224              -122.391034     5382  Subscriber               1972   \n",
       "\n",
       "       member_gender bike_share_for_all_trip  \n",
       "1625            Male                      No  \n",
       "172528          Male                      No  \n",
       "177494          Male                     Yes  \n",
       "119733          Male                      No  \n",
       "9884            Male                      No  \n",
       "89036           Male                      No  \n",
       "93473           Male                      No  \n",
       "25383         Female                      No  \n",
       "3978            Male                      No  \n",
       "5224          Female                      No  "
      ]
     },
     "execution_count": 12,
     "metadata": {},
     "output_type": "execute_result"
    }
   ],
   "source": [
    "df_notNaN.sample(10)"
   ]
  },
  {
   "cell_type": "markdown",
   "metadata": {},
   "source": [
    "#### Tidiness\n",
    "- Five variables in eight columns in `df_notNaN` table (step, time, station_name, station_latitude, station_longitude)\n",
    "\n",
    "#### Tidiness cleaning\n",
    "- Melt the `start_time, end_time, 'start_station_name', 'end_station_name', 'start_station_latitude', 'end_station_latitude', 'start_station_longitude', 'end_station_longitude'` columns to `step, time, station_name, station_latitude, station_longitude` columns"
   ]
  },
  {
   "cell_type": "code",
   "execution_count": 13,
   "metadata": {},
   "outputs": [
    {
     "data": {
      "text/html": [
       "<div>\n",
       "<style scoped>\n",
       "    .dataframe tbody tr th:only-of-type {\n",
       "        vertical-align: middle;\n",
       "    }\n",
       "\n",
       "    .dataframe tbody tr th {\n",
       "        vertical-align: top;\n",
       "    }\n",
       "\n",
       "    .dataframe thead th {\n",
       "        text-align: right;\n",
       "    }\n",
       "</style>\n",
       "<table border=\"1\" class=\"dataframe\">\n",
       "  <thead>\n",
       "    <tr style=\"text-align: right;\">\n",
       "      <th></th>\n",
       "      <th>trip_id</th>\n",
       "      <th>step</th>\n",
       "      <th>time</th>\n",
       "      <th>station_name</th>\n",
       "      <th>station_latitude</th>\n",
       "      <th>station_longitude</th>\n",
       "      <th>bike_id</th>\n",
       "      <th>user_type</th>\n",
       "      <th>member_birth_year</th>\n",
       "      <th>member_gender</th>\n",
       "      <th>bike_share_for_all_trip</th>\n",
       "    </tr>\n",
       "  </thead>\n",
       "  <tbody>\n",
       "    <tr>\n",
       "      <th>0</th>\n",
       "      <td>0</td>\n",
       "      <td>start</td>\n",
       "      <td>2019-02-28 17:32:10.145</td>\n",
       "      <td>Montgomery St BART Station (Market St at 2nd St)</td>\n",
       "      <td>37.789625</td>\n",
       "      <td>-122.400811</td>\n",
       "      <td>4902</td>\n",
       "      <td>Customer</td>\n",
       "      <td>1984</td>\n",
       "      <td>Male</td>\n",
       "      <td>No</td>\n",
       "    </tr>\n",
       "    <tr>\n",
       "      <th>175147</th>\n",
       "      <td>0</td>\n",
       "      <td>end</td>\n",
       "      <td>2019-03-01 08:01:55.975</td>\n",
       "      <td>Commercial St at Montgomery St</td>\n",
       "      <td>37.794231</td>\n",
       "      <td>-122.402923</td>\n",
       "      <td>4902</td>\n",
       "      <td>Customer</td>\n",
       "      <td>1984</td>\n",
       "      <td>Male</td>\n",
       "      <td>No</td>\n",
       "    </tr>\n",
       "    <tr>\n",
       "      <th>175148</th>\n",
       "      <td>1</td>\n",
       "      <td>end</td>\n",
       "      <td>2019-03-01 05:24:08.146</td>\n",
       "      <td>Powell St BART Station (Market St at 4th St)</td>\n",
       "      <td>37.786375</td>\n",
       "      <td>-122.404904</td>\n",
       "      <td>5905</td>\n",
       "      <td>Customer</td>\n",
       "      <td>1972</td>\n",
       "      <td>Male</td>\n",
       "      <td>No</td>\n",
       "    </tr>\n",
       "    <tr>\n",
       "      <th>1</th>\n",
       "      <td>1</td>\n",
       "      <td>start</td>\n",
       "      <td>2019-02-28 12:13:13.218</td>\n",
       "      <td>Market St at Dolores St</td>\n",
       "      <td>37.769305</td>\n",
       "      <td>-122.426826</td>\n",
       "      <td>5905</td>\n",
       "      <td>Customer</td>\n",
       "      <td>1972</td>\n",
       "      <td>Male</td>\n",
       "      <td>No</td>\n",
       "    </tr>\n",
       "    <tr>\n",
       "      <th>175149</th>\n",
       "      <td>2</td>\n",
       "      <td>end</td>\n",
       "      <td>2019-03-01 04:02:36.842</td>\n",
       "      <td>Central Ave at Fell St</td>\n",
       "      <td>37.773311</td>\n",
       "      <td>-122.444293</td>\n",
       "      <td>6638</td>\n",
       "      <td>Subscriber</td>\n",
       "      <td>1989</td>\n",
       "      <td>Other</td>\n",
       "      <td>No</td>\n",
       "    </tr>\n",
       "    <tr>\n",
       "      <th>2</th>\n",
       "      <td>2</td>\n",
       "      <td>start</td>\n",
       "      <td>2019-02-28 17:54:26.010</td>\n",
       "      <td>Grove St at Masonic Ave</td>\n",
       "      <td>37.774836</td>\n",
       "      <td>-122.446546</td>\n",
       "      <td>6638</td>\n",
       "      <td>Subscriber</td>\n",
       "      <td>1989</td>\n",
       "      <td>Other</td>\n",
       "      <td>No</td>\n",
       "    </tr>\n",
       "    <tr>\n",
       "      <th>175150</th>\n",
       "      <td>3</td>\n",
       "      <td>end</td>\n",
       "      <td>2019-03-01 00:20:44.074</td>\n",
       "      <td>10th Ave at E 15th St</td>\n",
       "      <td>37.792714</td>\n",
       "      <td>-122.248780</td>\n",
       "      <td>4898</td>\n",
       "      <td>Subscriber</td>\n",
       "      <td>1974</td>\n",
       "      <td>Male</td>\n",
       "      <td>Yes</td>\n",
       "    </tr>\n",
       "    <tr>\n",
       "      <th>3</th>\n",
       "      <td>3</td>\n",
       "      <td>start</td>\n",
       "      <td>2019-02-28 23:54:18.549</td>\n",
       "      <td>Frank H Ogawa Plaza</td>\n",
       "      <td>37.804562</td>\n",
       "      <td>-122.271738</td>\n",
       "      <td>4898</td>\n",
       "      <td>Subscriber</td>\n",
       "      <td>1974</td>\n",
       "      <td>Male</td>\n",
       "      <td>Yes</td>\n",
       "    </tr>\n",
       "    <tr>\n",
       "      <th>175151</th>\n",
       "      <td>4</td>\n",
       "      <td>end</td>\n",
       "      <td>2019-03-01 00:19:51.760</td>\n",
       "      <td>Broadway at Kearny</td>\n",
       "      <td>37.798014</td>\n",
       "      <td>-122.405950</td>\n",
       "      <td>5200</td>\n",
       "      <td>Subscriber</td>\n",
       "      <td>1959</td>\n",
       "      <td>Male</td>\n",
       "      <td>No</td>\n",
       "    </tr>\n",
       "    <tr>\n",
       "      <th>4</th>\n",
       "      <td>4</td>\n",
       "      <td>start</td>\n",
       "      <td>2019-02-28 23:49:58.632</td>\n",
       "      <td>4th St at Mission Bay Blvd S</td>\n",
       "      <td>37.770407</td>\n",
       "      <td>-122.391198</td>\n",
       "      <td>5200</td>\n",
       "      <td>Subscriber</td>\n",
       "      <td>1959</td>\n",
       "      <td>Male</td>\n",
       "      <td>No</td>\n",
       "    </tr>\n",
       "  </tbody>\n",
       "</table>\n",
       "</div>"
      ],
      "text/plain": [
       "       trip_id   step                    time  \\\n",
       "0            0  start 2019-02-28 17:32:10.145   \n",
       "175147       0    end 2019-03-01 08:01:55.975   \n",
       "175148       1    end 2019-03-01 05:24:08.146   \n",
       "1            1  start 2019-02-28 12:13:13.218   \n",
       "175149       2    end 2019-03-01 04:02:36.842   \n",
       "2            2  start 2019-02-28 17:54:26.010   \n",
       "175150       3    end 2019-03-01 00:20:44.074   \n",
       "3            3  start 2019-02-28 23:54:18.549   \n",
       "175151       4    end 2019-03-01 00:19:51.760   \n",
       "4            4  start 2019-02-28 23:49:58.632   \n",
       "\n",
       "                                            station_name  station_latitude  \\\n",
       "0       Montgomery St BART Station (Market St at 2nd St)         37.789625   \n",
       "175147                    Commercial St at Montgomery St         37.794231   \n",
       "175148      Powell St BART Station (Market St at 4th St)         37.786375   \n",
       "1                                Market St at Dolores St         37.769305   \n",
       "175149                            Central Ave at Fell St         37.773311   \n",
       "2                                Grove St at Masonic Ave         37.774836   \n",
       "175150                             10th Ave at E 15th St         37.792714   \n",
       "3                                    Frank H Ogawa Plaza         37.804562   \n",
       "175151                                Broadway at Kearny         37.798014   \n",
       "4                           4th St at Mission Bay Blvd S         37.770407   \n",
       "\n",
       "        station_longitude bike_id   user_type  member_birth_year  \\\n",
       "0             -122.400811    4902    Customer               1984   \n",
       "175147        -122.402923    4902    Customer               1984   \n",
       "175148        -122.404904    5905    Customer               1972   \n",
       "1             -122.426826    5905    Customer               1972   \n",
       "175149        -122.444293    6638  Subscriber               1989   \n",
       "2             -122.446546    6638  Subscriber               1989   \n",
       "175150        -122.248780    4898  Subscriber               1974   \n",
       "3             -122.271738    4898  Subscriber               1974   \n",
       "175151        -122.405950    5200  Subscriber               1959   \n",
       "4             -122.391198    5200  Subscriber               1959   \n",
       "\n",
       "       member_gender bike_share_for_all_trip  \n",
       "0               Male                      No  \n",
       "175147          Male                      No  \n",
       "175148          Male                      No  \n",
       "1               Male                      No  \n",
       "175149         Other                      No  \n",
       "2              Other                      No  \n",
       "175150          Male                     Yes  \n",
       "3               Male                     Yes  \n",
       "175151          Male                      No  \n",
       "4               Male                      No  "
      ]
     },
     "execution_count": 13,
     "metadata": {},
     "output_type": "execute_result"
    }
   ],
   "source": [
    "melt_columns = ['start_time', 'end_time', 'start_station_name', 'end_station_name', 'start_station_latitude', 'end_station_latitude', 'start_station_longitude', 'end_station_longitude']\n",
    "other_columns = ['step', 'trip_id', 'bike_id', 'user_type', 'member_birth_year', 'member_gender', 'bike_share_for_all_trip']\n",
    "df_notNaN_melt = pd.DataFrame()\n",
    "def melt_df(melt_columns, other_columns):\n",
    "    i = 0\n",
    "    j = 0\n",
    "    value_list = ['time', 'station_name', 'station_latitude', 'station_longitude']\n",
    "    while(i < len(melt_columns)):\n",
    "        df_notNaN_columns = list(df_notNaN.drop([melt_columns[i], melt_columns[i+1]], axis=1))\n",
    "        df_notNaN_melt2 = pd.melt(df_notNaN, id_vars=df_notNaN_columns, var_name='step', value_name=value_list[j])\n",
    "        df_notNaN_melt2 = df_notNaN_melt2.sort_values(['member_birth_year'])\n",
    "        df_notNaN_melt[value_list[j]] = df_notNaN_melt2[value_list[j]]\n",
    "        i = i + 2\n",
    "        j = j+1\n",
    "    for i in range(len(other_columns)):\n",
    "        df_notNaN_melt[other_columns[i]] = df_notNaN_melt2[other_columns[i]]\n",
    "    df_notNaN_melt['step'] = df_notNaN_melt['step'].str.replace(r'(_.*)', '', regex=True)\n",
    "    column_to_move = df_notNaN_melt.pop(\"step\")\n",
    "    df_notNaN_melt.insert(0, \"step\", column_to_move)\n",
    "    column_to_move = df_notNaN_melt.pop(\"trip_id\")\n",
    "    df_notNaN_melt.insert(0, \"trip_id\", column_to_move)\n",
    "    #df_notNaN_melt['trip_id'] = df_notNaN_melt['trip_id'].astype(int)\n",
    "    df_notNaN_melt['bike_id'] = df_notNaN_melt['bike_id'].astype(str)\n",
    "    return df_notNaN_melt.sort_values(['trip_id'])\n",
    "df_notNaN_melt = melt_df(melt_columns, other_columns)\n",
    "df_notNaN_melt['trip_id'] = df_notNaN_melt['trip_id'].astype(str)\n",
    "df_notNaN_melt.head(10)"
   ]
  },
  {
   "cell_type": "code",
   "execution_count": 14,
   "metadata": {},
   "outputs": [
    {
     "data": {
      "text/html": [
       "<div>\n",
       "<style scoped>\n",
       "    .dataframe tbody tr th:only-of-type {\n",
       "        vertical-align: middle;\n",
       "    }\n",
       "\n",
       "    .dataframe tbody tr th {\n",
       "        vertical-align: top;\n",
       "    }\n",
       "\n",
       "    .dataframe thead th {\n",
       "        text-align: right;\n",
       "    }\n",
       "</style>\n",
       "<table border=\"1\" class=\"dataframe\">\n",
       "  <thead>\n",
       "    <tr style=\"text-align: right;\">\n",
       "      <th></th>\n",
       "      <th>station_latitude</th>\n",
       "      <th>station_longitude</th>\n",
       "      <th>member_birth_year</th>\n",
       "    </tr>\n",
       "  </thead>\n",
       "  <tbody>\n",
       "    <tr>\n",
       "      <th>count</th>\n",
       "      <td>350294.000000</td>\n",
       "      <td>350294.000000</td>\n",
       "      <td>350294.000000</td>\n",
       "    </tr>\n",
       "    <tr>\n",
       "      <th>mean</th>\n",
       "      <td>37.770911</td>\n",
       "      <td>-122.351093</td>\n",
       "      <td>1984.806437</td>\n",
       "    </tr>\n",
       "    <tr>\n",
       "      <th>std</th>\n",
       "      <td>0.101024</td>\n",
       "      <td>0.118235</td>\n",
       "      <td>10.116674</td>\n",
       "    </tr>\n",
       "    <tr>\n",
       "      <th>min</th>\n",
       "      <td>37.317298</td>\n",
       "      <td>-122.453704</td>\n",
       "      <td>1878.000000</td>\n",
       "    </tr>\n",
       "    <tr>\n",
       "      <th>25%</th>\n",
       "      <td>37.770407</td>\n",
       "      <td>-122.411738</td>\n",
       "      <td>1980.000000</td>\n",
       "    </tr>\n",
       "    <tr>\n",
       "      <th>50%</th>\n",
       "      <td>37.780955</td>\n",
       "      <td>-122.397437</td>\n",
       "      <td>1987.000000</td>\n",
       "    </tr>\n",
       "    <tr>\n",
       "      <th>75%</th>\n",
       "      <td>37.797320</td>\n",
       "      <td>-122.283093</td>\n",
       "      <td>1992.000000</td>\n",
       "    </tr>\n",
       "    <tr>\n",
       "      <th>max</th>\n",
       "      <td>37.880222</td>\n",
       "      <td>-121.874119</td>\n",
       "      <td>2001.000000</td>\n",
       "    </tr>\n",
       "  </tbody>\n",
       "</table>\n",
       "</div>"
      ],
      "text/plain": [
       "       station_latitude  station_longitude  member_birth_year\n",
       "count     350294.000000      350294.000000      350294.000000\n",
       "mean          37.770911        -122.351093        1984.806437\n",
       "std            0.101024           0.118235          10.116674\n",
       "min           37.317298        -122.453704        1878.000000\n",
       "25%           37.770407        -122.411738        1980.000000\n",
       "50%           37.780955        -122.397437        1987.000000\n",
       "75%           37.797320        -122.283093        1992.000000\n",
       "max           37.880222        -121.874119        2001.000000"
      ]
     },
     "execution_count": 14,
     "metadata": {},
     "output_type": "execute_result"
    }
   ],
   "source": [
    "df_notNaN_melt.describe()"
   ]
  },
  {
   "cell_type": "code",
   "execution_count": 15,
   "metadata": {},
   "outputs": [
    {
     "data": {
      "text/html": [
       "<div>\n",
       "<style scoped>\n",
       "    .dataframe tbody tr th:only-of-type {\n",
       "        vertical-align: middle;\n",
       "    }\n",
       "\n",
       "    .dataframe tbody tr th {\n",
       "        vertical-align: top;\n",
       "    }\n",
       "\n",
       "    .dataframe thead th {\n",
       "        text-align: right;\n",
       "    }\n",
       "</style>\n",
       "<table border=\"1\" class=\"dataframe\">\n",
       "  <thead>\n",
       "    <tr style=\"text-align: right;\">\n",
       "      <th></th>\n",
       "      <th>trip_id</th>\n",
       "      <th>step</th>\n",
       "      <th>time</th>\n",
       "      <th>station_name</th>\n",
       "      <th>station_latitude</th>\n",
       "      <th>station_longitude</th>\n",
       "      <th>bike_id</th>\n",
       "      <th>user_type</th>\n",
       "      <th>member_birth_year</th>\n",
       "      <th>member_gender</th>\n",
       "      <th>bike_share_for_all_trip</th>\n",
       "      <th>AgeGroup</th>\n",
       "    </tr>\n",
       "  </thead>\n",
       "  <tbody>\n",
       "    <tr>\n",
       "      <th>0</th>\n",
       "      <td>0</td>\n",
       "      <td>start</td>\n",
       "      <td>2019-02-28 17:32:10.145</td>\n",
       "      <td>Montgomery St BART Station (Market St at 2nd St)</td>\n",
       "      <td>37.789625</td>\n",
       "      <td>-122.400811</td>\n",
       "      <td>4902</td>\n",
       "      <td>Customer</td>\n",
       "      <td>1984</td>\n",
       "      <td>Male</td>\n",
       "      <td>No</td>\n",
       "      <td>midlife</td>\n",
       "    </tr>\n",
       "    <tr>\n",
       "      <th>175147</th>\n",
       "      <td>0</td>\n",
       "      <td>end</td>\n",
       "      <td>2019-03-01 08:01:55.975</td>\n",
       "      <td>Commercial St at Montgomery St</td>\n",
       "      <td>37.794231</td>\n",
       "      <td>-122.402923</td>\n",
       "      <td>4902</td>\n",
       "      <td>Customer</td>\n",
       "      <td>1984</td>\n",
       "      <td>Male</td>\n",
       "      <td>No</td>\n",
       "      <td>midlife</td>\n",
       "    </tr>\n",
       "    <tr>\n",
       "      <th>175148</th>\n",
       "      <td>1</td>\n",
       "      <td>end</td>\n",
       "      <td>2019-03-01 05:24:08.146</td>\n",
       "      <td>Powell St BART Station (Market St at 4th St)</td>\n",
       "      <td>37.786375</td>\n",
       "      <td>-122.404904</td>\n",
       "      <td>5905</td>\n",
       "      <td>Customer</td>\n",
       "      <td>1972</td>\n",
       "      <td>Male</td>\n",
       "      <td>No</td>\n",
       "      <td>midlife</td>\n",
       "    </tr>\n",
       "    <tr>\n",
       "      <th>1</th>\n",
       "      <td>1</td>\n",
       "      <td>start</td>\n",
       "      <td>2019-02-28 12:13:13.218</td>\n",
       "      <td>Market St at Dolores St</td>\n",
       "      <td>37.769305</td>\n",
       "      <td>-122.426826</td>\n",
       "      <td>5905</td>\n",
       "      <td>Customer</td>\n",
       "      <td>1972</td>\n",
       "      <td>Male</td>\n",
       "      <td>No</td>\n",
       "      <td>midlife</td>\n",
       "    </tr>\n",
       "    <tr>\n",
       "      <th>175149</th>\n",
       "      <td>2</td>\n",
       "      <td>end</td>\n",
       "      <td>2019-03-01 04:02:36.842</td>\n",
       "      <td>Central Ave at Fell St</td>\n",
       "      <td>37.773311</td>\n",
       "      <td>-122.444293</td>\n",
       "      <td>6638</td>\n",
       "      <td>Subscriber</td>\n",
       "      <td>1989</td>\n",
       "      <td>Other</td>\n",
       "      <td>No</td>\n",
       "      <td>old</td>\n",
       "    </tr>\n",
       "  </tbody>\n",
       "</table>\n",
       "</div>"
      ],
      "text/plain": [
       "       trip_id   step                    time  \\\n",
       "0            0  start 2019-02-28 17:32:10.145   \n",
       "175147       0    end 2019-03-01 08:01:55.975   \n",
       "175148       1    end 2019-03-01 05:24:08.146   \n",
       "1            1  start 2019-02-28 12:13:13.218   \n",
       "175149       2    end 2019-03-01 04:02:36.842   \n",
       "\n",
       "                                            station_name  station_latitude  \\\n",
       "0       Montgomery St BART Station (Market St at 2nd St)         37.789625   \n",
       "175147                    Commercial St at Montgomery St         37.794231   \n",
       "175148      Powell St BART Station (Market St at 4th St)         37.786375   \n",
       "1                                Market St at Dolores St         37.769305   \n",
       "175149                            Central Ave at Fell St         37.773311   \n",
       "\n",
       "        station_longitude bike_id   user_type  member_birth_year  \\\n",
       "0             -122.400811    4902    Customer               1984   \n",
       "175147        -122.402923    4902    Customer               1984   \n",
       "175148        -122.404904    5905    Customer               1972   \n",
       "1             -122.426826    5905    Customer               1972   \n",
       "175149        -122.444293    6638  Subscriber               1989   \n",
       "\n",
       "       member_gender bike_share_for_all_trip AgeGroup  \n",
       "0               Male                      No  midlife  \n",
       "175147          Male                      No  midlife  \n",
       "175148          Male                      No  midlife  \n",
       "1               Male                      No  midlife  \n",
       "175149         Other                      No      old  "
      ]
     },
     "execution_count": 15,
     "metadata": {},
     "output_type": "execute_result"
    }
   ],
   "source": [
    "#create a new column, AgeGroup to classify the member_birth_year\n",
    "bins= [1878,1922,1972,1986,2001,2022]\n",
    "labels = ['very_young','young','midlife','old','very_old']\n",
    "df_notNaN_melt['AgeGroup'] = pd.cut(df_notNaN_melt['member_birth_year'], bins=bins, labels=labels, right=False)\n",
    "df_notNaN_melt.head()"
   ]
  },
  {
   "cell_type": "code",
   "execution_count": 16,
   "metadata": {},
   "outputs": [
    {
     "name": "stdout",
     "output_type": "stream",
     "text": [
      "<class 'pandas.core.frame.DataFrame'>\n",
      "Int64Index: 350294 entries, 0 to 175146\n",
      "Data columns (total 12 columns):\n",
      " #   Column                   Non-Null Count   Dtype         \n",
      "---  ------                   --------------   -----         \n",
      " 0   trip_id                  350294 non-null  object        \n",
      " 1   step                     350294 non-null  object        \n",
      " 2   time                     350294 non-null  datetime64[ns]\n",
      " 3   station_name             349904 non-null  object        \n",
      " 4   station_latitude         350294 non-null  float64       \n",
      " 5   station_longitude        350294 non-null  float64       \n",
      " 6   bike_id                  350294 non-null  object        \n",
      " 7   user_type                350294 non-null  object        \n",
      " 8   member_birth_year        350294 non-null  int64         \n",
      " 9   member_gender            350294 non-null  object        \n",
      " 10  bike_share_for_all_trip  350294 non-null  object        \n",
      " 11  AgeGroup                 350294 non-null  category      \n",
      "dtypes: category(1), datetime64[ns](1), float64(2), int64(1), object(7)\n",
      "memory usage: 32.4+ MB\n"
     ]
    }
   ],
   "source": [
    "df_notNaN_melt.info()"
   ]
  },
  {
   "cell_type": "markdown",
   "metadata": {},
   "source": [
    "##### Statistical description of trip"
   ]
  },
  {
   "cell_type": "code",
   "execution_count": 17,
   "metadata": {},
   "outputs": [],
   "source": [
    "# Calculate duration between start_time and end_time\n",
    "grouped_trip_id_duration = df_notNaN_melt.groupby('trip_id').apply(lambda x: (x.loc[x['step'] == 'end', 'time'].item() - x.loc[x['step'] == 'start', 'time'].item()))"
   ]
  },
  {
   "cell_type": "code",
   "execution_count": 18,
   "metadata": {},
   "outputs": [
    {
     "data": {
      "text/plain": [
       "trip_id\n",
       "0       0 days 14:29:45.830000\n",
       "1       0 days 17:10:54.928000\n",
       "10      0 days 00:08:26.193000\n",
       "100     0 days 00:04:19.032000\n",
       "1000    0 days 00:06:26.978000\n",
       "                 ...          \n",
       "99995   0 days 00:08:48.934000\n",
       "99996   0 days 00:10:33.277000\n",
       "99997   0 days 00:02:20.583000\n",
       "99998   0 days 00:05:47.498000\n",
       "99999   0 days 00:11:08.976000\n",
       "Length: 175147, dtype: timedelta64[ns]"
      ]
     },
     "execution_count": 18,
     "metadata": {},
     "output_type": "execute_result"
    }
   ],
   "source": [
    "grouped_trip_id_duration"
   ]
  },
  {
   "cell_type": "code",
   "execution_count": 19,
   "metadata": {},
   "outputs": [],
   "source": [
    "# Import the geodesic module from geopy library \n",
    "from geopy.distance import geodesic as GD\n",
    "# Calculate distance between station_start and station_end\n",
    "grouped_trip_id_distance = df_notNaN_melt.groupby('trip_id').apply(lambda x: (GD((x.loc[x['step'] == 'end', 'station_latitude'].item(), \n",
    "                                                                                  x.loc[x['step'] == 'end', 'station_longitude'].item()),\n",
    "                                                                                 (x.loc[x['step'] == 'start', 'station_latitude'].item(), \n",
    "                                                                                  x.loc[x['step'] == 'start', 'station_longitude'].item())).km))"
   ]
  },
  {
   "cell_type": "code",
   "execution_count": 20,
   "metadata": {},
   "outputs": [
    {
     "data": {
      "text/plain": [
       "trip_id\n",
       "0       0.543983\n",
       "1       2.705390\n",
       "10      1.617146\n",
       "100     0.512555\n",
       "1000    0.899397\n",
       "dtype: float64"
      ]
     },
     "execution_count": 20,
     "metadata": {},
     "output_type": "execute_result"
    }
   ],
   "source": [
    "grouped_trip_id_distance.head()"
   ]
  },
  {
   "cell_type": "code",
   "execution_count": 21,
   "metadata": {},
   "outputs": [
    {
     "data": {
      "text/plain": [
       "['0',\n",
       " '1',\n",
       " '10',\n",
       " '100',\n",
       " '1000',\n",
       " '10000',\n",
       " '100000',\n",
       " '100001',\n",
       " '100002',\n",
       " '100003',\n",
       " '100004',\n",
       " '100005',\n",
       " '100006',\n",
       " '100007',\n",
       " '100008',\n",
       " '100009',\n",
       " '10001',\n",
       " '100010',\n",
       " '100011',\n",
       " '100012',\n",
       " '100013',\n",
       " '100014',\n",
       " '100015',\n",
       " '100016',\n",
       " '100017',\n",
       " '100018',\n",
       " '100019',\n",
       " '10002',\n",
       " '100020',\n",
       " '100021',\n",
       " '100022',\n",
       " '100023',\n",
       " '100024',\n",
       " '100025',\n",
       " '100026',\n",
       " '100027',\n",
       " '100028',\n",
       " '100029',\n",
       " '10003',\n",
       " '100030',\n",
       " '100031',\n",
       " '100032',\n",
       " '100033',\n",
       " '100034',\n",
       " '100035',\n",
       " '100036',\n",
       " '100037',\n",
       " '100038',\n",
       " '100039',\n",
       " '10004',\n",
       " '100040',\n",
       " '100041',\n",
       " '100042',\n",
       " '100043',\n",
       " '100044',\n",
       " '100045',\n",
       " '100046',\n",
       " '100047',\n",
       " '100048',\n",
       " '100049',\n",
       " '10005',\n",
       " '100050',\n",
       " '100051',\n",
       " '100052',\n",
       " '100053',\n",
       " '100054',\n",
       " '100055',\n",
       " '100056',\n",
       " '100057',\n",
       " '100058',\n",
       " '100059',\n",
       " '10006',\n",
       " '100060',\n",
       " '100061',\n",
       " '100062',\n",
       " '100063',\n",
       " '100064',\n",
       " '100065',\n",
       " '100066',\n",
       " '100067',\n",
       " '100068',\n",
       " '100069',\n",
       " '10007',\n",
       " '100070',\n",
       " '100071',\n",
       " '100072',\n",
       " '100073',\n",
       " '100074',\n",
       " '100075',\n",
       " '100076',\n",
       " '100077',\n",
       " '100078',\n",
       " '100079',\n",
       " '10008',\n",
       " '100080',\n",
       " '100081',\n",
       " '100082',\n",
       " '100083',\n",
       " '100084',\n",
       " '100085',\n",
       " '100086',\n",
       " '100087',\n",
       " '100088',\n",
       " '100089',\n",
       " '10009',\n",
       " '100090',\n",
       " '100091',\n",
       " '100092',\n",
       " '100093',\n",
       " '100094',\n",
       " '100095',\n",
       " '100096',\n",
       " '100097',\n",
       " '100098',\n",
       " '100099',\n",
       " '1001',\n",
       " '10010',\n",
       " '100100',\n",
       " '100101',\n",
       " '100102',\n",
       " '100103',\n",
       " '100104',\n",
       " '100105',\n",
       " '100106',\n",
       " '100107',\n",
       " '100108',\n",
       " '100109',\n",
       " '10011',\n",
       " '100110',\n",
       " '100111',\n",
       " '100112',\n",
       " '100113',\n",
       " '100114',\n",
       " '100115',\n",
       " '100116',\n",
       " '100117',\n",
       " '100118',\n",
       " '100119',\n",
       " '10012',\n",
       " '100120',\n",
       " '100121',\n",
       " '100122',\n",
       " '100123',\n",
       " '100124',\n",
       " '100125',\n",
       " '100126',\n",
       " '100127',\n",
       " '100128',\n",
       " '100129',\n",
       " '10013',\n",
       " '100130',\n",
       " '100131',\n",
       " '100132',\n",
       " '100133',\n",
       " '100134',\n",
       " '100135',\n",
       " '100136',\n",
       " '100137',\n",
       " '100138',\n",
       " '100139',\n",
       " '10014',\n",
       " '100140',\n",
       " '100141',\n",
       " '100142',\n",
       " '100143',\n",
       " '100144',\n",
       " '100145',\n",
       " '100146',\n",
       " '100147',\n",
       " '100148',\n",
       " '100149',\n",
       " '10015',\n",
       " '100150',\n",
       " '100151',\n",
       " '100152',\n",
       " '100153',\n",
       " '100154',\n",
       " '100155',\n",
       " '100156',\n",
       " '100157',\n",
       " '100158',\n",
       " '100159',\n",
       " '10016',\n",
       " '100160',\n",
       " '100161',\n",
       " '100162',\n",
       " '100163',\n",
       " '100164',\n",
       " '100165',\n",
       " '100166',\n",
       " '100167',\n",
       " '100168',\n",
       " '100169',\n",
       " '10017',\n",
       " '100170',\n",
       " '100171',\n",
       " '100172',\n",
       " '100173',\n",
       " '100174',\n",
       " '100175',\n",
       " '100176',\n",
       " '100177',\n",
       " '100178',\n",
       " '100179',\n",
       " '10018',\n",
       " '100180',\n",
       " '100181',\n",
       " '100182',\n",
       " '100183',\n",
       " '100184',\n",
       " '100185',\n",
       " '100186',\n",
       " '100187',\n",
       " '100188',\n",
       " '100189',\n",
       " '10019',\n",
       " '100190',\n",
       " '100191',\n",
       " '100192',\n",
       " '100193',\n",
       " '100194',\n",
       " '100195',\n",
       " '100196',\n",
       " '100197',\n",
       " '100198',\n",
       " '100199',\n",
       " '1002',\n",
       " '10020',\n",
       " '100200',\n",
       " '100201',\n",
       " '100202',\n",
       " '100203',\n",
       " '100204',\n",
       " '100205',\n",
       " '100206',\n",
       " '100207',\n",
       " '100208',\n",
       " '100209',\n",
       " '10021',\n",
       " '100210',\n",
       " '100211',\n",
       " '100212',\n",
       " '100213',\n",
       " '100214',\n",
       " '100215',\n",
       " '100216',\n",
       " '100217',\n",
       " '100218',\n",
       " '100219',\n",
       " '10022',\n",
       " '100220',\n",
       " '100221',\n",
       " '100222',\n",
       " '100223',\n",
       " '100224',\n",
       " '100225',\n",
       " '100226',\n",
       " '100227',\n",
       " '100228',\n",
       " '100229',\n",
       " '10023',\n",
       " '100230',\n",
       " '100231',\n",
       " '100232',\n",
       " '100233',\n",
       " '100234',\n",
       " '100235',\n",
       " '100236',\n",
       " '100237',\n",
       " '100238',\n",
       " '100239',\n",
       " '10024',\n",
       " '100240',\n",
       " '100241',\n",
       " '100242',\n",
       " '100243',\n",
       " '100244',\n",
       " '100245',\n",
       " '100246',\n",
       " '100247',\n",
       " '100248',\n",
       " '100249',\n",
       " '10025',\n",
       " '100250',\n",
       " '100251',\n",
       " '100252',\n",
       " '100253',\n",
       " '100254',\n",
       " '100255',\n",
       " '100256',\n",
       " '100257',\n",
       " '100258',\n",
       " '100259',\n",
       " '10026',\n",
       " '100260',\n",
       " '100261',\n",
       " '100262',\n",
       " '100263',\n",
       " '100264',\n",
       " '100265',\n",
       " '100266',\n",
       " '100267',\n",
       " '100268',\n",
       " '100269',\n",
       " '10027',\n",
       " '100270',\n",
       " '100271',\n",
       " '100272',\n",
       " '100273',\n",
       " '100274',\n",
       " '100275',\n",
       " '100276',\n",
       " '100277',\n",
       " '100278',\n",
       " '100279',\n",
       " '10028',\n",
       " '100280',\n",
       " '100281',\n",
       " '100282',\n",
       " '100283',\n",
       " '100284',\n",
       " '100285',\n",
       " '100286',\n",
       " '100287',\n",
       " '100288',\n",
       " '100289',\n",
       " '10029',\n",
       " '100290',\n",
       " '100291',\n",
       " '100292',\n",
       " '100293',\n",
       " '100294',\n",
       " '100295',\n",
       " '100296',\n",
       " '100297',\n",
       " '100298',\n",
       " '100299',\n",
       " '1003',\n",
       " '10030',\n",
       " '100300',\n",
       " '100301',\n",
       " '100302',\n",
       " '100303',\n",
       " '100304',\n",
       " '100305',\n",
       " '100306',\n",
       " '100307',\n",
       " '100308',\n",
       " '100309',\n",
       " '10031',\n",
       " '100310',\n",
       " '100311',\n",
       " '100312',\n",
       " '100313',\n",
       " '100314',\n",
       " '100315',\n",
       " '100316',\n",
       " '100317',\n",
       " '100318',\n",
       " '100319',\n",
       " '10032',\n",
       " '100320',\n",
       " '100321',\n",
       " '100322',\n",
       " '100323',\n",
       " '100324',\n",
       " '100325',\n",
       " '100326',\n",
       " '100327',\n",
       " '100328',\n",
       " '100329',\n",
       " '10033',\n",
       " '100330',\n",
       " '100331',\n",
       " '100332',\n",
       " '100333',\n",
       " '100334',\n",
       " '100335',\n",
       " '100336',\n",
       " '100337',\n",
       " '100338',\n",
       " '100339',\n",
       " '10034',\n",
       " '100340',\n",
       " '100341',\n",
       " '100342',\n",
       " '100343',\n",
       " '100344',\n",
       " '100345',\n",
       " '100346',\n",
       " '100347',\n",
       " '100348',\n",
       " '100349',\n",
       " '10035',\n",
       " '100350',\n",
       " '100351',\n",
       " '100352',\n",
       " '100353',\n",
       " '100354',\n",
       " '100355',\n",
       " '100356',\n",
       " '100357',\n",
       " '100358',\n",
       " '100359',\n",
       " '10036',\n",
       " '100360',\n",
       " '100361',\n",
       " '100362',\n",
       " '100363',\n",
       " '100364',\n",
       " '100365',\n",
       " '100366',\n",
       " '100367',\n",
       " '100368',\n",
       " '100369',\n",
       " '10037',\n",
       " '100370',\n",
       " '100371',\n",
       " '100372',\n",
       " '100373',\n",
       " '100374',\n",
       " '100375',\n",
       " '100376',\n",
       " '100377',\n",
       " '100378',\n",
       " '100379',\n",
       " '10038',\n",
       " '100380',\n",
       " '100381',\n",
       " '100382',\n",
       " '100383',\n",
       " '100384',\n",
       " '100385',\n",
       " '100386',\n",
       " '100387',\n",
       " '100388',\n",
       " '100389',\n",
       " '10039',\n",
       " '100390',\n",
       " '100391',\n",
       " '100392',\n",
       " '100393',\n",
       " '100394',\n",
       " '100395',\n",
       " '100396',\n",
       " '100397',\n",
       " '100398',\n",
       " '100399',\n",
       " '1004',\n",
       " '10040',\n",
       " '100400',\n",
       " '100401',\n",
       " '100402',\n",
       " '100403',\n",
       " '100404',\n",
       " '100405',\n",
       " '100406',\n",
       " '100407',\n",
       " '100408',\n",
       " '100409',\n",
       " '10041',\n",
       " '100410',\n",
       " '100411',\n",
       " '100412',\n",
       " '100413',\n",
       " '100414',\n",
       " '100415',\n",
       " '100416',\n",
       " '100417',\n",
       " '100418',\n",
       " '100419',\n",
       " '10042',\n",
       " '100420',\n",
       " '100421',\n",
       " '100422',\n",
       " '100423',\n",
       " '100424',\n",
       " '100425',\n",
       " '100426',\n",
       " '100427',\n",
       " '100428',\n",
       " '100429',\n",
       " '10043',\n",
       " '100430',\n",
       " '100431',\n",
       " '100432',\n",
       " '100433',\n",
       " '100434',\n",
       " '100435',\n",
       " '100436',\n",
       " '100437',\n",
       " '100438',\n",
       " '100439',\n",
       " '10044',\n",
       " '100440',\n",
       " '100441',\n",
       " '100442',\n",
       " '100443',\n",
       " '100444',\n",
       " '100445',\n",
       " '100446',\n",
       " '100447',\n",
       " '100448',\n",
       " '100449',\n",
       " '10045',\n",
       " '100450',\n",
       " '100451',\n",
       " '100452',\n",
       " '100453',\n",
       " '100454',\n",
       " '100455',\n",
       " '100456',\n",
       " '100457',\n",
       " '100458',\n",
       " '100459',\n",
       " '10046',\n",
       " '100460',\n",
       " '100461',\n",
       " '100462',\n",
       " '100463',\n",
       " '100464',\n",
       " '100465',\n",
       " '100466',\n",
       " '100467',\n",
       " '100468',\n",
       " '100469',\n",
       " '10047',\n",
       " '100470',\n",
       " '100471',\n",
       " '100472',\n",
       " '100473',\n",
       " '100474',\n",
       " '100475',\n",
       " '100476',\n",
       " '100477',\n",
       " '100478',\n",
       " '100479',\n",
       " '10048',\n",
       " '100480',\n",
       " '100481',\n",
       " '100482',\n",
       " '100483',\n",
       " '100484',\n",
       " '100485',\n",
       " '100486',\n",
       " '100487',\n",
       " '100488',\n",
       " '100489',\n",
       " '10049',\n",
       " '100490',\n",
       " '100491',\n",
       " '100492',\n",
       " '100493',\n",
       " '100494',\n",
       " '100495',\n",
       " '100496',\n",
       " '100497',\n",
       " '100498',\n",
       " '100499',\n",
       " '1005',\n",
       " '10050',\n",
       " '100500',\n",
       " '100501',\n",
       " '100502',\n",
       " '100503',\n",
       " '100504',\n",
       " '100505',\n",
       " '100506',\n",
       " '100507',\n",
       " '100508',\n",
       " '100509',\n",
       " '10051',\n",
       " '100510',\n",
       " '100511',\n",
       " '100512',\n",
       " '100513',\n",
       " '100514',\n",
       " '100515',\n",
       " '100516',\n",
       " '100517',\n",
       " '100518',\n",
       " '100519',\n",
       " '10052',\n",
       " '100520',\n",
       " '100521',\n",
       " '100522',\n",
       " '100523',\n",
       " '100524',\n",
       " '100525',\n",
       " '100526',\n",
       " '100527',\n",
       " '100528',\n",
       " '100529',\n",
       " '10053',\n",
       " '100530',\n",
       " '100531',\n",
       " '100532',\n",
       " '100533',\n",
       " '100534',\n",
       " '100535',\n",
       " '100536',\n",
       " '100537',\n",
       " '100538',\n",
       " '100539',\n",
       " '10054',\n",
       " '100540',\n",
       " '100541',\n",
       " '100542',\n",
       " '100543',\n",
       " '100544',\n",
       " '100545',\n",
       " '100546',\n",
       " '100547',\n",
       " '100548',\n",
       " '100549',\n",
       " '10055',\n",
       " '100550',\n",
       " '100551',\n",
       " '100552',\n",
       " '100553',\n",
       " '100554',\n",
       " '100555',\n",
       " '100556',\n",
       " '100557',\n",
       " '100558',\n",
       " '100559',\n",
       " '10056',\n",
       " '100560',\n",
       " '100561',\n",
       " '100562',\n",
       " '100563',\n",
       " '100564',\n",
       " '100565',\n",
       " '100566',\n",
       " '100567',\n",
       " '100568',\n",
       " '100569',\n",
       " '10057',\n",
       " '100570',\n",
       " '100571',\n",
       " '100572',\n",
       " '100573',\n",
       " '100574',\n",
       " '100575',\n",
       " '100576',\n",
       " '100577',\n",
       " '100578',\n",
       " '100579',\n",
       " '10058',\n",
       " '100580',\n",
       " '100581',\n",
       " '100582',\n",
       " '100583',\n",
       " '100584',\n",
       " '100585',\n",
       " '100586',\n",
       " '100587',\n",
       " '100588',\n",
       " '100589',\n",
       " '10059',\n",
       " '100590',\n",
       " '100591',\n",
       " '100592',\n",
       " '100593',\n",
       " '100594',\n",
       " '100595',\n",
       " '100596',\n",
       " '100597',\n",
       " '100598',\n",
       " '100599',\n",
       " '1006',\n",
       " '10060',\n",
       " '100600',\n",
       " '100601',\n",
       " '100602',\n",
       " '100603',\n",
       " '100604',\n",
       " '100605',\n",
       " '100606',\n",
       " '100607',\n",
       " '100608',\n",
       " '100609',\n",
       " '10061',\n",
       " '100610',\n",
       " '100611',\n",
       " '100612',\n",
       " '100613',\n",
       " '100614',\n",
       " '100615',\n",
       " '100616',\n",
       " '100617',\n",
       " '100618',\n",
       " '100619',\n",
       " '10062',\n",
       " '100620',\n",
       " '100621',\n",
       " '100622',\n",
       " '100623',\n",
       " '100624',\n",
       " '100625',\n",
       " '100626',\n",
       " '100627',\n",
       " '100628',\n",
       " '100629',\n",
       " '10063',\n",
       " '100630',\n",
       " '100631',\n",
       " '100632',\n",
       " '100633',\n",
       " '100634',\n",
       " '100635',\n",
       " '100636',\n",
       " '100637',\n",
       " '100638',\n",
       " '100639',\n",
       " '10064',\n",
       " '100640',\n",
       " '100641',\n",
       " '100642',\n",
       " '100643',\n",
       " '100644',\n",
       " '100645',\n",
       " '100646',\n",
       " '100647',\n",
       " '100648',\n",
       " '100649',\n",
       " '10065',\n",
       " '100650',\n",
       " '100651',\n",
       " '100652',\n",
       " '100653',\n",
       " '100654',\n",
       " '100655',\n",
       " '100656',\n",
       " '100657',\n",
       " '100658',\n",
       " '100659',\n",
       " '10066',\n",
       " '100660',\n",
       " '100661',\n",
       " '100662',\n",
       " '100663',\n",
       " '100664',\n",
       " '100665',\n",
       " '100666',\n",
       " '100667',\n",
       " '100668',\n",
       " '100669',\n",
       " '10067',\n",
       " '100670',\n",
       " '100671',\n",
       " '100672',\n",
       " '100673',\n",
       " '100674',\n",
       " '100675',\n",
       " '100676',\n",
       " '100677',\n",
       " '100678',\n",
       " '100679',\n",
       " '10068',\n",
       " '100680',\n",
       " '100681',\n",
       " '100682',\n",
       " '100683',\n",
       " '100684',\n",
       " '100685',\n",
       " '100686',\n",
       " '100687',\n",
       " '100688',\n",
       " '100689',\n",
       " '10069',\n",
       " '100690',\n",
       " '100691',\n",
       " '100692',\n",
       " '100693',\n",
       " '100694',\n",
       " '100695',\n",
       " '100696',\n",
       " '100697',\n",
       " '100698',\n",
       " '100699',\n",
       " '1007',\n",
       " '10070',\n",
       " '100700',\n",
       " '100701',\n",
       " '100702',\n",
       " '100703',\n",
       " '100704',\n",
       " '100705',\n",
       " '100706',\n",
       " '100707',\n",
       " '100708',\n",
       " '100709',\n",
       " '10071',\n",
       " '100710',\n",
       " '100711',\n",
       " '100712',\n",
       " '100713',\n",
       " '100714',\n",
       " '100715',\n",
       " '100716',\n",
       " '100717',\n",
       " '100718',\n",
       " '100719',\n",
       " '10072',\n",
       " '100720',\n",
       " '100721',\n",
       " '100722',\n",
       " '100723',\n",
       " '100724',\n",
       " '100725',\n",
       " '100726',\n",
       " '100727',\n",
       " '100728',\n",
       " '100729',\n",
       " '10073',\n",
       " '100730',\n",
       " '100731',\n",
       " '100732',\n",
       " '100733',\n",
       " '100734',\n",
       " '100735',\n",
       " '100736',\n",
       " '100737',\n",
       " '100738',\n",
       " '100739',\n",
       " '10074',\n",
       " '100740',\n",
       " '100741',\n",
       " '100742',\n",
       " '100743',\n",
       " '100744',\n",
       " '100745',\n",
       " '100746',\n",
       " '100747',\n",
       " '100748',\n",
       " '100749',\n",
       " '10075',\n",
       " '100750',\n",
       " '100751',\n",
       " '100752',\n",
       " '100753',\n",
       " '100754',\n",
       " '100755',\n",
       " '100756',\n",
       " '100757',\n",
       " '100758',\n",
       " '100759',\n",
       " '10076',\n",
       " '100760',\n",
       " '100761',\n",
       " '100762',\n",
       " '100763',\n",
       " '100764',\n",
       " '100765',\n",
       " '100766',\n",
       " '100767',\n",
       " '100768',\n",
       " '100769',\n",
       " '10077',\n",
       " '100770',\n",
       " '100771',\n",
       " '100772',\n",
       " '100773',\n",
       " '100774',\n",
       " '100775',\n",
       " '100776',\n",
       " '100777',\n",
       " '100778',\n",
       " '100779',\n",
       " '10078',\n",
       " '100780',\n",
       " '100781',\n",
       " '100782',\n",
       " '100783',\n",
       " '100784',\n",
       " '100785',\n",
       " '100786',\n",
       " '100787',\n",
       " '100788',\n",
       " '100789',\n",
       " '10079',\n",
       " '100790',\n",
       " '100791',\n",
       " '100792',\n",
       " '100793',\n",
       " '100794',\n",
       " '100795',\n",
       " '100796',\n",
       " '100797',\n",
       " '100798',\n",
       " '100799',\n",
       " '1008',\n",
       " '10080',\n",
       " '100800',\n",
       " '100801',\n",
       " '100802',\n",
       " '100803',\n",
       " '100804',\n",
       " '100805',\n",
       " '100806',\n",
       " '100807',\n",
       " '100808',\n",
       " '100809',\n",
       " '10081',\n",
       " '100810',\n",
       " '100811',\n",
       " '100812',\n",
       " '100813',\n",
       " '100814',\n",
       " '100815',\n",
       " '100816',\n",
       " '100817',\n",
       " '100818',\n",
       " '100819',\n",
       " '10082',\n",
       " '100820',\n",
       " '100821',\n",
       " '100822',\n",
       " '100823',\n",
       " '100824',\n",
       " '100825',\n",
       " '100826',\n",
       " '100827',\n",
       " '100828',\n",
       " '100829',\n",
       " '10083',\n",
       " '100830',\n",
       " '100831',\n",
       " '100832',\n",
       " '100833',\n",
       " '100834',\n",
       " '100835',\n",
       " '100836',\n",
       " '100837',\n",
       " '100838',\n",
       " '100839',\n",
       " '10084',\n",
       " '100840',\n",
       " '100841',\n",
       " '100842',\n",
       " '100843',\n",
       " '100844',\n",
       " '100845',\n",
       " '100846',\n",
       " '100847',\n",
       " '100848',\n",
       " '100849',\n",
       " '10085',\n",
       " '100850',\n",
       " '100851',\n",
       " '100852',\n",
       " '100853',\n",
       " '100854',\n",
       " '100855',\n",
       " '100856',\n",
       " '100857',\n",
       " '100858',\n",
       " '100859',\n",
       " '10086',\n",
       " '100860',\n",
       " '100861',\n",
       " '100862',\n",
       " '100863',\n",
       " '100864',\n",
       " '100865',\n",
       " '100866',\n",
       " '100867',\n",
       " '100868',\n",
       " '100869',\n",
       " '10087',\n",
       " '100870',\n",
       " '100871',\n",
       " '100872',\n",
       " '100873',\n",
       " '100874',\n",
       " '100875',\n",
       " '100876',\n",
       " '100877',\n",
       " '100878',\n",
       " '100879',\n",
       " '10088',\n",
       " '100880',\n",
       " '100881',\n",
       " '100882',\n",
       " '100883',\n",
       " '100884',\n",
       " '100885',\n",
       " '100886',\n",
       " '100887',\n",
       " '100888',\n",
       " '100889',\n",
       " '10089',\n",
       " '100890',\n",
       " '100891',\n",
       " '100892',\n",
       " '100893',\n",
       " '100894',\n",
       " '100895',\n",
       " '100896',\n",
       " ...]"
      ]
     },
     "execution_count": 21,
     "metadata": {},
     "output_type": "execute_result"
    }
   ],
   "source": [
    "grouped_trip_id_duration.index.values.tolist()"
   ]
  },
  {
   "cell_type": "markdown",
   "metadata": {},
   "source": [
    "New dataframe for future exploration and explanation process"
   ]
  },
  {
   "cell_type": "code",
   "execution_count": 22,
   "metadata": {},
   "outputs": [
    {
     "data": {
      "text/plain": [
       "trip_id\n",
       "0         Customer\n",
       "1         Customer\n",
       "10      Subscriber\n",
       "100     Subscriber\n",
       "1000    Subscriber\n",
       "dtype: object"
      ]
     },
     "execution_count": 22,
     "metadata": {},
     "output_type": "execute_result"
    }
   ],
   "source": [
    "# Extract user_type property\n",
    "grouped_trip_id_user_type = df_notNaN_melt.groupby('trip_id').apply(lambda x: (x.loc[x['step'] == 'end', 'user_type'].item()))\n",
    "grouped_trip_id_user_type.head()"
   ]
  },
  {
   "cell_type": "code",
   "execution_count": 23,
   "metadata": {},
   "outputs": [
    {
     "data": {
      "text/plain": [
       "trip_id\n",
       "0       No\n",
       "1       No\n",
       "10      No\n",
       "100     No\n",
       "1000    No\n",
       "dtype: object"
      ]
     },
     "execution_count": 23,
     "metadata": {},
     "output_type": "execute_result"
    }
   ],
   "source": [
    "# Extract bike_share_for_all_trip property\n",
    "grouped_trip_id_bike_share_for_all_trip = df_notNaN_melt.groupby('trip_id').apply(lambda x: (x.loc[x['step'] == 'end', 'bike_share_for_all_trip'].item()))\n",
    "grouped_trip_id_bike_share_for_all_trip.head()"
   ]
  },
  {
   "cell_type": "code",
   "execution_count": 24,
   "metadata": {},
   "outputs": [
    {
     "data": {
      "text/plain": [
       "trip_id\n",
       "0       midlife\n",
       "1       midlife\n",
       "10          old\n",
       "100         old\n",
       "1000    midlife\n",
       "dtype: object"
      ]
     },
     "execution_count": 24,
     "metadata": {},
     "output_type": "execute_result"
    }
   ],
   "source": [
    "# Extract AgeGroup property\n",
    "grouped_trip_id_AgeGroup = df_notNaN_melt.groupby('trip_id').apply(lambda x: (x.loc[x['step'] == 'end', 'AgeGroup'].item()))\n",
    "grouped_trip_id_AgeGroup.head()"
   ]
  },
  {
   "cell_type": "code",
   "execution_count": 25,
   "metadata": {},
   "outputs": [
    {
     "data": {
      "text/plain": [
       "trip_id\n",
       "0       Male\n",
       "1       Male\n",
       "10      Male\n",
       "100     Male\n",
       "1000    Male\n",
       "dtype: object"
      ]
     },
     "execution_count": 25,
     "metadata": {},
     "output_type": "execute_result"
    }
   ],
   "source": [
    "# Extract member_gender property\n",
    "grouped_trip_id_member_gender = df_notNaN_melt.groupby('trip_id').apply(lambda x: (x.loc[x['step'] == 'end', 'member_gender'].item()))\n",
    "grouped_trip_id_member_gender.head()"
   ]
  },
  {
   "cell_type": "code",
   "execution_count": 26,
   "metadata": {},
   "outputs": [
    {
     "data": {
      "text/plain": [
       "trip_id\n",
       "0       1984\n",
       "1       1972\n",
       "10      1993\n",
       "100     1998\n",
       "1000    1977\n",
       "dtype: int64"
      ]
     },
     "execution_count": 26,
     "metadata": {},
     "output_type": "execute_result"
    }
   ],
   "source": [
    "# Extract member_birth_year property\n",
    "grouped_trip_id_member_birth_year = df_notNaN_melt.groupby('trip_id').apply(lambda x: (x.loc[x['step'] == 'end', 'member_birth_year'].item()))\n",
    "grouped_trip_id_member_birth_year.head()"
   ]
  },
  {
   "cell_type": "code",
   "execution_count": 27,
   "metadata": {},
   "outputs": [
    {
     "data": {
      "text/plain": [
       "trip_id\n",
       "0       4902\n",
       "1       5905\n",
       "10      5848\n",
       "100     5894\n",
       "1000    1814\n",
       "dtype: object"
      ]
     },
     "execution_count": 27,
     "metadata": {},
     "output_type": "execute_result"
    }
   ],
   "source": [
    "# Extract bike_id property\n",
    "grouped_trip_id_bike_id = df_notNaN_melt.groupby('trip_id').apply(lambda x: (x.loc[x['step'] == 'end', 'bike_id'].item()))\n",
    "grouped_trip_id_bike_id.head()"
   ]
  },
  {
   "cell_type": "code",
   "execution_count": 28,
   "metadata": {},
   "outputs": [
    {
     "data": {
      "text/html": [
       "<div>\n",
       "<style scoped>\n",
       "    .dataframe tbody tr th:only-of-type {\n",
       "        vertical-align: middle;\n",
       "    }\n",
       "\n",
       "    .dataframe tbody tr th {\n",
       "        vertical-align: top;\n",
       "    }\n",
       "\n",
       "    .dataframe thead th {\n",
       "        text-align: right;\n",
       "    }\n",
       "</style>\n",
       "<table border=\"1\" class=\"dataframe\">\n",
       "  <thead>\n",
       "    <tr style=\"text-align: right;\">\n",
       "      <th></th>\n",
       "      <th>bike_id</th>\n",
       "      <th>trip_duration</th>\n",
       "      <th>trip_distance(km)</th>\n",
       "      <th>member_birth_year</th>\n",
       "      <th>member_gender</th>\n",
       "      <th>user_type</th>\n",
       "      <th>AgeGroup</th>\n",
       "      <th>bike_share_for_all_trip</th>\n",
       "    </tr>\n",
       "  </thead>\n",
       "  <tbody>\n",
       "    <tr>\n",
       "      <th>0</th>\n",
       "      <td>4902</td>\n",
       "      <td>0 days 14:29:45.830000</td>\n",
       "      <td>0.543983</td>\n",
       "      <td>1984</td>\n",
       "      <td>Male</td>\n",
       "      <td>Customer</td>\n",
       "      <td>midlife</td>\n",
       "      <td>No</td>\n",
       "    </tr>\n",
       "    <tr>\n",
       "      <th>1</th>\n",
       "      <td>5905</td>\n",
       "      <td>0 days 17:10:54.928000</td>\n",
       "      <td>2.705390</td>\n",
       "      <td>1972</td>\n",
       "      <td>Male</td>\n",
       "      <td>Customer</td>\n",
       "      <td>midlife</td>\n",
       "      <td>No</td>\n",
       "    </tr>\n",
       "    <tr>\n",
       "      <th>2</th>\n",
       "      <td>5848</td>\n",
       "      <td>0 days 00:08:26.193000</td>\n",
       "      <td>1.617146</td>\n",
       "      <td>1993</td>\n",
       "      <td>Male</td>\n",
       "      <td>Subscriber</td>\n",
       "      <td>old</td>\n",
       "      <td>No</td>\n",
       "    </tr>\n",
       "    <tr>\n",
       "      <th>3</th>\n",
       "      <td>5894</td>\n",
       "      <td>0 days 00:04:19.032000</td>\n",
       "      <td>0.512555</td>\n",
       "      <td>1998</td>\n",
       "      <td>Male</td>\n",
       "      <td>Subscriber</td>\n",
       "      <td>old</td>\n",
       "      <td>No</td>\n",
       "    </tr>\n",
       "    <tr>\n",
       "      <th>4</th>\n",
       "      <td>1814</td>\n",
       "      <td>0 days 00:06:26.978000</td>\n",
       "      <td>0.899397</td>\n",
       "      <td>1977</td>\n",
       "      <td>Male</td>\n",
       "      <td>Subscriber</td>\n",
       "      <td>midlife</td>\n",
       "      <td>No</td>\n",
       "    </tr>\n",
       "  </tbody>\n",
       "</table>\n",
       "</div>"
      ],
      "text/plain": [
       "  bike_id          trip_duration  trip_distance(km)  member_birth_year  \\\n",
       "0    4902 0 days 14:29:45.830000           0.543983               1984   \n",
       "1    5905 0 days 17:10:54.928000           2.705390               1972   \n",
       "2    5848 0 days 00:08:26.193000           1.617146               1993   \n",
       "3    5894 0 days 00:04:19.032000           0.512555               1998   \n",
       "4    1814 0 days 00:06:26.978000           0.899397               1977   \n",
       "\n",
       "  member_gender   user_type AgeGroup bike_share_for_all_trip  \n",
       "0          Male    Customer  midlife                      No  \n",
       "1          Male    Customer  midlife                      No  \n",
       "2          Male  Subscriber      old                      No  \n",
       "3          Male  Subscriber      old                      No  \n",
       "4          Male  Subscriber  midlife                      No  "
      ]
     },
     "execution_count": 28,
     "metadata": {},
     "output_type": "execute_result"
    }
   ],
   "source": [
    "#list_of_series = [grouped_trip_id_duration.index.values.tolist(), grouped_trip_id_duration.tolist(), grouped_trip_id_distance.tolist()]\n",
    "cols = ['bike_id', 'trip_duration', 'trip_distance(km)', \n",
    "        'member_birth_year', 'member_gender', 'user_type', 'AgeGroup', 'bike_share_for_all_trip']\n",
    "grouped_trip_id = pd.DataFrame(list(zip(grouped_trip_id_bike_id.tolist(), \n",
    "                                        grouped_trip_id_duration.tolist(), grouped_trip_id_distance.tolist()\n",
    "                                       , grouped_trip_id_member_birth_year.tolist()\n",
    "                                       , grouped_trip_id_member_gender.tolist()\n",
    "                                       , grouped_trip_id_user_type.tolist()\n",
    "                                       , grouped_trip_id_AgeGroup.tolist()\n",
    "                                       , grouped_trip_id_bike_share_for_all_trip.tolist())),\n",
    "               columns = cols)\n",
    "grouped_trip_id.head()"
   ]
  },
  {
   "cell_type": "code",
   "execution_count": 29,
   "metadata": {},
   "outputs": [
    {
     "data": {
      "text/html": [
       "<div>\n",
       "<style scoped>\n",
       "    .dataframe tbody tr th:only-of-type {\n",
       "        vertical-align: middle;\n",
       "    }\n",
       "\n",
       "    .dataframe tbody tr th {\n",
       "        vertical-align: top;\n",
       "    }\n",
       "\n",
       "    .dataframe thead th {\n",
       "        text-align: right;\n",
       "    }\n",
       "</style>\n",
       "<table border=\"1\" class=\"dataframe\">\n",
       "  <thead>\n",
       "    <tr style=\"text-align: right;\">\n",
       "      <th></th>\n",
       "      <th>trip_duration</th>\n",
       "      <th>trip_distance(km)</th>\n",
       "      <th>member_birth_year</th>\n",
       "    </tr>\n",
       "  </thead>\n",
       "  <tbody>\n",
       "    <tr>\n",
       "      <th>count</th>\n",
       "      <td>175147</td>\n",
       "      <td>175147.000000</td>\n",
       "      <td>175147.000000</td>\n",
       "    </tr>\n",
       "    <tr>\n",
       "      <th>mean</th>\n",
       "      <td>0 days 00:11:44.710840728</td>\n",
       "      <td>1.689220</td>\n",
       "      <td>1984.806437</td>\n",
       "    </tr>\n",
       "    <tr>\n",
       "      <th>std</th>\n",
       "      <td>0 days 00:27:21.607874630</td>\n",
       "      <td>1.096509</td>\n",
       "      <td>10.116689</td>\n",
       "    </tr>\n",
       "    <tr>\n",
       "      <th>min</th>\n",
       "      <td>0 days 00:01:01.081000</td>\n",
       "      <td>0.000000</td>\n",
       "      <td>1878.000000</td>\n",
       "    </tr>\n",
       "    <tr>\n",
       "      <th>25%</th>\n",
       "      <td>0 days 00:05:23.450500</td>\n",
       "      <td>0.907248</td>\n",
       "      <td>1980.000000</td>\n",
       "    </tr>\n",
       "    <tr>\n",
       "      <th>50%</th>\n",
       "      <td>0 days 00:08:30.964000</td>\n",
       "      <td>1.428159</td>\n",
       "      <td>1987.000000</td>\n",
       "    </tr>\n",
       "    <tr>\n",
       "      <th>75%</th>\n",
       "      <td>0 days 00:13:09.485500</td>\n",
       "      <td>2.222435</td>\n",
       "      <td>1992.000000</td>\n",
       "    </tr>\n",
       "    <tr>\n",
       "      <th>max</th>\n",
       "      <td>0 days 23:29:08.051000</td>\n",
       "      <td>69.465977</td>\n",
       "      <td>2001.000000</td>\n",
       "    </tr>\n",
       "  </tbody>\n",
       "</table>\n",
       "</div>"
      ],
      "text/plain": [
       "                   trip_duration  trip_distance(km)  member_birth_year\n",
       "count                     175147      175147.000000      175147.000000\n",
       "mean   0 days 00:11:44.710840728           1.689220        1984.806437\n",
       "std    0 days 00:27:21.607874630           1.096509          10.116689\n",
       "min       0 days 00:01:01.081000           0.000000        1878.000000\n",
       "25%       0 days 00:05:23.450500           0.907248        1980.000000\n",
       "50%       0 days 00:08:30.964000           1.428159        1987.000000\n",
       "75%       0 days 00:13:09.485500           2.222435        1992.000000\n",
       "max       0 days 23:29:08.051000          69.465977        2001.000000"
      ]
     },
     "execution_count": 29,
     "metadata": {},
     "output_type": "execute_result"
    }
   ],
   "source": [
    "grouped_trip_id.describe()"
   ]
  },
  {
   "cell_type": "markdown",
   "metadata": {},
   "source": [
    "> The average trip duration is **11 min 45 s**"
   ]
  },
  {
   "cell_type": "code",
   "execution_count": 30,
   "metadata": {},
   "outputs": [],
   "source": [
    "convertCategorical(grouped_trip_id)"
   ]
  },
  {
   "cell_type": "code",
   "execution_count": 31,
   "metadata": {},
   "outputs": [],
   "source": [
    "grouped_trip_id['trip_duration(s)'] = grouped_trip_id['trip_duration'].dt.total_seconds()\n",
    "grouped_trip_id.drop(['trip_duration'], axis=1, inplace=True)"
   ]
  },
  {
   "cell_type": "code",
   "execution_count": 32,
   "metadata": {},
   "outputs": [
    {
     "name": "stdout",
     "output_type": "stream",
     "text": [
      "<class 'pandas.core.frame.DataFrame'>\n",
      "RangeIndex: 175147 entries, 0 to 175146\n",
      "Data columns (total 6 columns):\n",
      " #   Column                   Non-Null Count   Dtype   \n",
      "---  ------                   --------------   -----   \n",
      " 0   member_birth_year        175147 non-null  int64   \n",
      " 1   member_gender            175147 non-null  category\n",
      " 2   user_type                175147 non-null  category\n",
      " 3   AgeGroup                 175147 non-null  category\n",
      " 4   bike_share_for_all_trip  175147 non-null  category\n",
      " 5   trip_duration(s)         175147 non-null  float64 \n",
      "dtypes: category(4), float64(1), int64(1)\n",
      "memory usage: 3.3 MB\n"
     ]
    }
   ],
   "source": [
    "grouped_trip_id.drop(columns=['bike_id', 'trip_distance(km)'], inplace=True)\n",
    "grouped_trip_id.info()"
   ]
  },
  {
   "cell_type": "markdown",
   "metadata": {},
   "source": [
    "> We create new dataframe which contain time, user_type, AgeGroup"
   ]
  },
  {
   "cell_type": "code",
   "execution_count": 33,
   "metadata": {},
   "outputs": [
    {
     "data": {
      "text/html": [
       "<div>\n",
       "<style scoped>\n",
       "    .dataframe tbody tr th:only-of-type {\n",
       "        vertical-align: middle;\n",
       "    }\n",
       "\n",
       "    .dataframe tbody tr th {\n",
       "        vertical-align: top;\n",
       "    }\n",
       "\n",
       "    .dataframe thead th {\n",
       "        text-align: right;\n",
       "    }\n",
       "</style>\n",
       "<table border=\"1\" class=\"dataframe\">\n",
       "  <thead>\n",
       "    <tr style=\"text-align: right;\">\n",
       "      <th></th>\n",
       "      <th>step</th>\n",
       "      <th>time</th>\n",
       "      <th>user_type</th>\n",
       "      <th>AgeGroup</th>\n",
       "    </tr>\n",
       "  </thead>\n",
       "  <tbody>\n",
       "    <tr>\n",
       "      <th>0</th>\n",
       "      <td>start</td>\n",
       "      <td>2019-02-28 17:32:10.145</td>\n",
       "      <td>Customer</td>\n",
       "      <td>midlife</td>\n",
       "    </tr>\n",
       "    <tr>\n",
       "      <th>175147</th>\n",
       "      <td>end</td>\n",
       "      <td>2019-03-01 08:01:55.975</td>\n",
       "      <td>Customer</td>\n",
       "      <td>midlife</td>\n",
       "    </tr>\n",
       "    <tr>\n",
       "      <th>175148</th>\n",
       "      <td>end</td>\n",
       "      <td>2019-03-01 05:24:08.146</td>\n",
       "      <td>Customer</td>\n",
       "      <td>midlife</td>\n",
       "    </tr>\n",
       "    <tr>\n",
       "      <th>1</th>\n",
       "      <td>start</td>\n",
       "      <td>2019-02-28 12:13:13.218</td>\n",
       "      <td>Customer</td>\n",
       "      <td>midlife</td>\n",
       "    </tr>\n",
       "    <tr>\n",
       "      <th>175149</th>\n",
       "      <td>end</td>\n",
       "      <td>2019-03-01 04:02:36.842</td>\n",
       "      <td>Subscriber</td>\n",
       "      <td>old</td>\n",
       "    </tr>\n",
       "  </tbody>\n",
       "</table>\n",
       "</div>"
      ],
      "text/plain": [
       "         step                    time   user_type AgeGroup\n",
       "0       start 2019-02-28 17:32:10.145    Customer  midlife\n",
       "175147    end 2019-03-01 08:01:55.975    Customer  midlife\n",
       "175148    end 2019-03-01 05:24:08.146    Customer  midlife\n",
       "1       start 2019-02-28 12:13:13.218    Customer  midlife\n",
       "175149    end 2019-03-01 04:02:36.842  Subscriber      old"
      ]
     },
     "execution_count": 33,
     "metadata": {},
     "output_type": "execute_result"
    }
   ],
   "source": [
    "time_trip_df = pd.DataFrame()\n",
    "time_trip_df['step'] = df_notNaN_melt['step']\n",
    "time_trip_df['time'] = df_notNaN_melt['time']\n",
    "time_trip_df['user_type'] = df_notNaN_melt['user_type']\n",
    "time_trip_df['AgeGroup'] = df_notNaN_melt['AgeGroup']\n",
    "time_trip_df.head()"
   ]
  },
  {
   "cell_type": "markdown",
   "metadata": {},
   "source": [
    "Let's consider only times for step **'start'**, and split time column into two columns: date and time"
   ]
  },
  {
   "cell_type": "code",
   "execution_count": 34,
   "metadata": {},
   "outputs": [],
   "source": [
    "time_trip_df = time_trip_df[time_trip_df['step'] == 'start']\n",
    "time_trip_df.drop(columns=['step'], inplace=True)\n",
    "time_trip_df['time'] = time_trip_df['time'].astype(str)\n",
    "time_trip_df[['date','time']] = time_trip_df.time.str.split(expand=True)"
   ]
  },
  {
   "cell_type": "code",
   "execution_count": 35,
   "metadata": {},
   "outputs": [
    {
     "data": {
      "text/html": [
       "<div>\n",
       "<style scoped>\n",
       "    .dataframe tbody tr th:only-of-type {\n",
       "        vertical-align: middle;\n",
       "    }\n",
       "\n",
       "    .dataframe tbody tr th {\n",
       "        vertical-align: top;\n",
       "    }\n",
       "\n",
       "    .dataframe thead th {\n",
       "        text-align: right;\n",
       "    }\n",
       "</style>\n",
       "<table border=\"1\" class=\"dataframe\">\n",
       "  <thead>\n",
       "    <tr style=\"text-align: right;\">\n",
       "      <th></th>\n",
       "      <th>time</th>\n",
       "      <th>user_type</th>\n",
       "      <th>AgeGroup</th>\n",
       "      <th>date</th>\n",
       "    </tr>\n",
       "  </thead>\n",
       "  <tbody>\n",
       "    <tr>\n",
       "      <th>0</th>\n",
       "      <td>17:32:10.145</td>\n",
       "      <td>Customer</td>\n",
       "      <td>midlife</td>\n",
       "      <td>2019-02-28</td>\n",
       "    </tr>\n",
       "    <tr>\n",
       "      <th>1</th>\n",
       "      <td>12:13:13.218</td>\n",
       "      <td>Customer</td>\n",
       "      <td>midlife</td>\n",
       "      <td>2019-02-28</td>\n",
       "    </tr>\n",
       "    <tr>\n",
       "      <th>2</th>\n",
       "      <td>17:54:26.010</td>\n",
       "      <td>Subscriber</td>\n",
       "      <td>old</td>\n",
       "      <td>2019-02-28</td>\n",
       "    </tr>\n",
       "    <tr>\n",
       "      <th>3</th>\n",
       "      <td>23:54:18.549</td>\n",
       "      <td>Subscriber</td>\n",
       "      <td>midlife</td>\n",
       "      <td>2019-02-28</td>\n",
       "    </tr>\n",
       "    <tr>\n",
       "      <th>4</th>\n",
       "      <td>23:49:58.632</td>\n",
       "      <td>Subscriber</td>\n",
       "      <td>young</td>\n",
       "      <td>2019-02-28</td>\n",
       "    </tr>\n",
       "  </tbody>\n",
       "</table>\n",
       "</div>"
      ],
      "text/plain": [
       "           time   user_type AgeGroup        date\n",
       "0  17:32:10.145    Customer  midlife  2019-02-28\n",
       "1  12:13:13.218    Customer  midlife  2019-02-28\n",
       "2  17:54:26.010  Subscriber      old  2019-02-28\n",
       "3  23:54:18.549  Subscriber  midlife  2019-02-28\n",
       "4  23:49:58.632  Subscriber    young  2019-02-28"
      ]
     },
     "execution_count": 35,
     "metadata": {},
     "output_type": "execute_result"
    }
   ],
   "source": [
    "time_trip_df.head()"
   ]
  },
  {
   "cell_type": "markdown",
   "metadata": {},
   "source": [
    "Convert date column into date format and convert time column into time format"
   ]
  },
  {
   "cell_type": "code",
   "execution_count": 36,
   "metadata": {},
   "outputs": [
    {
     "data": {
      "text/plain": [
       "time                 object\n",
       "user_type            object\n",
       "AgeGroup           category\n",
       "date         datetime64[ns]\n",
       "dtype: object"
      ]
     },
     "execution_count": 36,
     "metadata": {},
     "output_type": "execute_result"
    }
   ],
   "source": [
    "time_trip_df['date']= pd.to_datetime(time_trip_df['date'])\n",
    "#time_trip_df['time'] = pd.to_timedelta(time_trip_df['time'] )\n",
    "time_trip_df.dtypes"
   ]
  },
  {
   "cell_type": "code",
   "execution_count": 37,
   "metadata": {},
   "outputs": [
    {
     "data": {
      "text/html": [
       "<div>\n",
       "<style scoped>\n",
       "    .dataframe tbody tr th:only-of-type {\n",
       "        vertical-align: middle;\n",
       "    }\n",
       "\n",
       "    .dataframe tbody tr th {\n",
       "        vertical-align: top;\n",
       "    }\n",
       "\n",
       "    .dataframe thead th {\n",
       "        text-align: right;\n",
       "    }\n",
       "</style>\n",
       "<table border=\"1\" class=\"dataframe\">\n",
       "  <thead>\n",
       "    <tr style=\"text-align: right;\">\n",
       "      <th></th>\n",
       "      <th>time</th>\n",
       "      <th>user_type</th>\n",
       "      <th>AgeGroup</th>\n",
       "      <th>date</th>\n",
       "    </tr>\n",
       "  </thead>\n",
       "  <tbody>\n",
       "    <tr>\n",
       "      <th>0</th>\n",
       "      <td>17:32:10.145</td>\n",
       "      <td>Customer</td>\n",
       "      <td>midlife</td>\n",
       "      <td>2019-02-28</td>\n",
       "    </tr>\n",
       "    <tr>\n",
       "      <th>1</th>\n",
       "      <td>12:13:13.218</td>\n",
       "      <td>Customer</td>\n",
       "      <td>midlife</td>\n",
       "      <td>2019-02-28</td>\n",
       "    </tr>\n",
       "    <tr>\n",
       "      <th>2</th>\n",
       "      <td>17:54:26.010</td>\n",
       "      <td>Subscriber</td>\n",
       "      <td>old</td>\n",
       "      <td>2019-02-28</td>\n",
       "    </tr>\n",
       "    <tr>\n",
       "      <th>3</th>\n",
       "      <td>23:54:18.549</td>\n",
       "      <td>Subscriber</td>\n",
       "      <td>midlife</td>\n",
       "      <td>2019-02-28</td>\n",
       "    </tr>\n",
       "    <tr>\n",
       "      <th>4</th>\n",
       "      <td>23:49:58.632</td>\n",
       "      <td>Subscriber</td>\n",
       "      <td>young</td>\n",
       "      <td>2019-02-28</td>\n",
       "    </tr>\n",
       "  </tbody>\n",
       "</table>\n",
       "</div>"
      ],
      "text/plain": [
       "           time   user_type AgeGroup       date\n",
       "0  17:32:10.145    Customer  midlife 2019-02-28\n",
       "1  12:13:13.218    Customer  midlife 2019-02-28\n",
       "2  17:54:26.010  Subscriber      old 2019-02-28\n",
       "3  23:54:18.549  Subscriber  midlife 2019-02-28\n",
       "4  23:49:58.632  Subscriber    young 2019-02-28"
      ]
     },
     "execution_count": 37,
     "metadata": {},
     "output_type": "execute_result"
    }
   ],
   "source": [
    "time_trip_df.head()"
   ]
  },
  {
   "cell_type": "code",
   "execution_count": 38,
   "metadata": {},
   "outputs": [
    {
     "name": "stdout",
     "output_type": "stream",
     "text": [
      "<class 'pandas.core.frame.DataFrame'>\n",
      "Int64Index: 175147 entries, 0 to 175146\n",
      "Data columns (total 4 columns):\n",
      " #   Column     Non-Null Count   Dtype         \n",
      "---  ------     --------------   -----         \n",
      " 0   time       175147 non-null  object        \n",
      " 1   user_type  175147 non-null  object        \n",
      " 2   AgeGroup   175147 non-null  category      \n",
      " 3   date       175147 non-null  datetime64[ns]\n",
      "dtypes: category(1), datetime64[ns](1), object(2)\n",
      "memory usage: 5.5+ MB\n"
     ]
    }
   ],
   "source": [
    "time_trip_df.info()"
   ]
  },
  {
   "cell_type": "markdown",
   "metadata": {},
   "source": [
    "Our Final dataset is composed of two dataframes: grouped_trip_id and time_trip_df"
   ]
  },
  {
   "cell_type": "markdown",
   "metadata": {},
   "source": [
    "### What is the structure of your dataset?\n",
    "\n",
    "> There are 175,147 items in the dataset with 8 features (trip_duration(s), member_birth_year, time, date, user_type, member_gender, AgeGroup, bike_share_for_all_trip). Most variables are float and integer in nature, but the variables AgeGroup, member_gender, bike_share_for_all_trip, and user_type are ordered factor variables with the following levels.\n",
    "\n",
    "> (worst) ——> (best)\n",
    "> * bike_share_for_all_trip: No, Yes\n",
    "> * user_type: Customer, Subscriber\n",
    "> * member_gender: Other, Female, Male\n",
    "> * AgeGroup: very_young, young, midlife, old, very_old\n",
    "\n",
    "### What is/are the main feature(s) of interest in your dataset?\n",
    "\n",
    "> * user_type, member_birth_year\n",
    "\n",
    "### What features in the dataset do you think will help support your investigation into your feature(s) of interest?\n",
    "\n",
    "> * I expect  member_birth_year will have the strongest effect on duration of trip: the younger the member, the higher the duration of trip\n",
    "> * In addition, the male gender, unlike the female gender, is more likely to trip \n",
    "> * I also think that user_type property will has effect on frequency of trip, though to a much smaller degree than the gender and birth year"
   ]
  },
  {
   "cell_type": "markdown",
   "metadata": {},
   "source": [
    "## Univariate Exploration\n",
    "\n"
   ]
  },
  {
   "cell_type": "markdown",
   "metadata": {},
   "source": [
    "I'll start by looking at the distribution of the main variable of interest: member_birth_year."
   ]
  },
  {
   "cell_type": "markdown",
   "metadata": {},
   "source": [
    "**How are member birth years distributed?**"
   ]
  },
  {
   "cell_type": "code",
   "execution_count": 39,
   "metadata": {},
   "outputs": [
    {
     "data": {
      "image/png": "[encoded data removed]",
      "text/plain": [
       "<Figure size 576x360 with 1 Axes>"
      ]
     },
     "metadata": {
      "needs_background": "light"
     },
     "output_type": "display_data"
    }
   ],
   "source": [
    "# start with a standard-scaled plot of the member_birth_year column\n",
    "binsize = 100\n",
    "bins = np.arange(0, df_notNaN_melt['member_birth_year'].max()+binsize, binsize)\n",
    "\n",
    "plt.figure(figsize=[8, 5])\n",
    "plt.hist(data = grouped_trip_id, x = 'member_birth_year', bins = bins)\n",
    "plt.xlabel('member_birth_year')\n",
    "plt.show()"
   ]
  },
  {
   "cell_type": "markdown",
   "metadata": {},
   "source": [
    "From the plot above, we can see that most users were born between 1900 and 2000"
   ]
  },
  {
   "cell_type": "markdown",
   "metadata": {},
   "source": [
    "Next up, let's look at the distribution of the second variable of interest: trip_duration(s)\n",
    "> **How are trip duration distributed?**"
   ]
  },
  {
   "cell_type": "code",
   "execution_count": 40,
   "metadata": {},
   "outputs": [
    {
     "data": {
      "image/png": "[encoded data removed]",
      "text/plain": [
       "<Figure size 576x360 with 1 Axes>"
      ]
     },
     "metadata": {
      "needs_background": "light"
     },
     "output_type": "display_data"
    }
   ],
   "source": [
    "# start with a standard-scaled plot trip_duration\n",
    "binsize = 100\n",
    "bins = np.arange(0, grouped_trip_id['trip_duration(s)'].max()+binsize, binsize)\n",
    "\n",
    "plt.figure(figsize=[8, 5])\n",
    "plt.hist(data = grouped_trip_id, x = 'trip_duration(s)', bins = bins)\n",
    "plt.xlabel('trip_duration(s)')\n",
    "plt.show()"
   ]
  },
  {
   "cell_type": "markdown",
   "metadata": {},
   "source": [
    "There seems to be a long tail in the distribution, so let's put it on a log scale instead"
   ]
  },
  {
   "cell_type": "code",
   "execution_count": 41,
   "metadata": {},
   "outputs": [
    {
     "data": {
      "image/png": "[encoded data removed]",
      "text/plain": [
       "<Figure size 576x360 with 1 Axes>"
      ]
     },
     "metadata": {
      "needs_background": "light"
     },
     "output_type": "display_data"
    }
   ],
   "source": [
    "log_binsize = 0.025\n",
    "bins = 10 ** np.arange(2.4, np.log10(grouped_trip_id['trip_duration(s)'].max())+log_binsize, log_binsize)\n",
    "\n",
    "plt.figure(figsize=[8, 5])\n",
    "plt.hist(data = grouped_trip_id, x = 'trip_duration(s)', bins = bins)\n",
    "plt.xscale('log')\n",
    "plt.xticks([500, 1e3, 2e3, 5e3, 1e4, 2e4], [500, '1k', '2k', '5k', '10k', '20k'])\n",
    "plt.xlabel('trip_duration(s)')\n",
    "plt.show()"
   ]
  },
  {
   "cell_type": "markdown",
   "metadata": {},
   "source": [
    "> trip_duration(s) has a long-tailed distribution when plotted on a log-scale, the distribution looks skewed to the right, peaking between 500 and 1000\n",
    "\n",
    "\n",
    "> Next up, let's plot the categorical columns together to get an idea of each ordinal variable's distribution."
   ]
  },
  {
   "cell_type": "markdown",
   "metadata": {},
   "source": [
    "**How are ordinal variables(user_type, agegroup, member_gender) distributed?**"
   ]
  },
  {
   "cell_type": "code",
   "execution_count": 42,
   "metadata": {},
   "outputs": [
    {
     "data": {
      "image/png": "[encoded data removed]",
      "text/plain": [
       "<Figure size 864x864 with 3 Axes>"
      ]
     },
     "metadata": {
      "needs_background": "light"
     },
     "output_type": "display_data"
    }
   ],
   "source": [
    "fig, ax = plt.subplots(nrows=3, figsize = [12,12])\n",
    "\n",
    "default_color = sb.color_palette()[0]\n",
    "sb.countplot(data = grouped_trip_id, x = 'AgeGroup', color = default_color, ax = ax[0])\n",
    "sb.countplot(data = grouped_trip_id, x = 'member_gender', color = default_color, ax = ax[1])\n",
    "sb.countplot(data = grouped_trip_id, x = 'user_type', color = default_color, ax = ax[2])\n",
    "\n",
    "plt.show()"
   ]
  },
  {
   "cell_type": "code",
   "execution_count": 43,
   "metadata": {},
   "outputs": [
    {
     "data": {
      "image/png": "[encoded data removed]",
      "text/plain": [
       "<Figure size 576x576 with 1 Axes>"
      ]
     },
     "metadata": {},
     "output_type": "display_data"
    }
   ],
   "source": [
    "grouped_trip_id['AgeGroup'].value_counts().plot(kind='pie', title='Pie chart of AgeGroup ', figsize= (8,8));"
   ]
  },
  {
   "cell_type": "code",
   "execution_count": 44,
   "metadata": {},
   "outputs": [
    {
     "data": {
      "image/png": "[encoded data removed]",
      "text/plain": [
       "<Figure size 576x576 with 1 Axes>"
      ]
     },
     "metadata": {},
     "output_type": "display_data"
    }
   ],
   "source": [
    "grouped_trip_id['user_type'].value_counts().plot(kind='pie', title='Pie chart of user_type ', figsize= (8,8));"
   ]
  },
  {
   "cell_type": "markdown",
   "metadata": {},
   "source": [
    "> majority of the users of the rideshare are in the midlife and old ages. there is a moderate amount of users who are young with very little amount of them very young and very old. As for their genders, most of the users are male with less than half of them females and very little amount of them with undisclosed genders. A significantly major part of the users are subscribers with very little amount of them falling into the customer category.\n",
    "\n",
    "\n",
    "> I'll now look at the other features in the data to see if any of them hold interesting properties."
   ]
  },
  {
   "cell_type": "markdown",
   "metadata": {},
   "source": [
    "**How are member bith years and trip duration distributed?**"
   ]
  },
  {
   "cell_type": "code",
   "execution_count": 45,
   "metadata": {},
   "outputs": [
    {
     "data": {
      "image/png": "[encoded data removed]",
      "text/plain": [
       "<Figure size 1080x1080 with 2 Axes>"
      ]
     },
     "metadata": {
      "needs_background": "light"
     },
     "output_type": "display_data"
    }
   ],
   "source": [
    "#The code below utilizes a loop to create individual histograms for all numeric variables.\n",
    "cols = 3\n",
    "rows = 3\n",
    "num_cols = grouped_trip_id.select_dtypes(exclude=['category', 'object']).columns\n",
    "fig = plt.figure( figsize=(cols*5, rows*5))\n",
    "for i, col in enumerate(num_cols):\n",
    "    \n",
    "    ax=fig.add_subplot(rows,cols,i+1)\n",
    "    \n",
    "    sb.histplot(x = grouped_trip_id[col], ax = ax)\n",
    "    \n",
    "fig.tight_layout()  \n",
    "plt.show()"
   ]
  },
  {
   "cell_type": "markdown",
   "metadata": {},
   "source": [
    "> From the plots above, we can see that trip_duration plot is skewed to the right, member_birth_year is skewed to the left"
   ]
  },
  {
   "cell_type": "markdown",
   "metadata": {},
   "source": [
    "> Next up, let's look at the distribution of **dates** of trip"
   ]
  },
  {
   "cell_type": "markdown",
   "metadata": {},
   "source": [
    "**How are number of trips distributed among dates of trip?**"
   ]
  },
  {
   "cell_type": "code",
   "execution_count": 46,
   "metadata": {
    "scrolled": true
   },
   "outputs": [
    {
     "data": {
      "image/png": "[encoded data removed]",
      "text/plain": [
       "<Figure size 1080x360 with 1 Axes>"
      ]
     },
     "metadata": {
      "needs_background": "light"
     },
     "output_type": "display_data"
    }
   ],
   "source": [
    "# start with a standard-scaled plot of the member_birth_year column\n",
    "from datetime import datetime, timedelta\n",
    "binsize = 1\n",
    "#bins = np.arange(0, time_trip_df['date'].max()+binsize, binsize)\n",
    "bins = np.arange(datetime(2019,2,1), datetime(2019,3,2), timedelta(days=binsize)).astype(datetime)\n",
    "\n",
    "plt.figure(figsize=[15, 5])\n",
    "plt.hist(data = time_trip_df, x = 'date', bins=bins, align='left')\n",
    "plt.xlabel('Date')\n",
    "plt.xticks(bins, bins, rotation = 90)\n",
    "plt.grid(b = True, color ='red',\n",
    "        linestyle ='-.', linewidth = 0.5,\n",
    "        alpha = 1)\n",
    "plt.show()"
   ]
  },
  {
   "cell_type": "markdown",
   "metadata": {},
   "source": [
    "From the plot above, we can see that there were more than 8000 trips for the following days: 05-07 February 2019, 11-12 February 2019, 19-22 February 2019, 2019-02-28\n",
    "> Next up, let's look at the distribution of days of week"
   ]
  },
  {
   "cell_type": "markdown",
   "metadata": {},
   "source": [
    "**How are number of trips distributed among days of week?**"
   ]
  },
  {
   "cell_type": "markdown",
   "metadata": {},
   "source": [
    "Let's create new dataframe which contain number of trips for each day of week"
   ]
  },
  {
   "cell_type": "code",
   "execution_count": 47,
   "metadata": {},
   "outputs": [],
   "source": [
    "dayTrip = time_trip_df.date.dt.day_name().value_counts()"
   ]
  },
  {
   "cell_type": "code",
   "execution_count": 48,
   "metadata": {},
   "outputs": [],
   "source": [
    "indexL = dayTrip.index\n",
    "valuesL = dayTrip.values\n",
    "frame = { 'weekDay': indexL, 'countTrip': valuesL }\n",
    "dayTrip_df = pd.DataFrame(frame)"
   ]
  },
  {
   "cell_type": "code",
   "execution_count": 49,
   "metadata": {},
   "outputs": [
    {
     "data": {
      "text/html": [
       "<div>\n",
       "<style scoped>\n",
       "    .dataframe tbody tr th:only-of-type {\n",
       "        vertical-align: middle;\n",
       "    }\n",
       "\n",
       "    .dataframe tbody tr th {\n",
       "        vertical-align: top;\n",
       "    }\n",
       "\n",
       "    .dataframe thead th {\n",
       "        text-align: right;\n",
       "    }\n",
       "</style>\n",
       "<table border=\"1\" class=\"dataframe\">\n",
       "  <thead>\n",
       "    <tr style=\"text-align: right;\">\n",
       "      <th></th>\n",
       "      <th>weekDay</th>\n",
       "      <th>countTrip</th>\n",
       "    </tr>\n",
       "  </thead>\n",
       "  <tbody>\n",
       "    <tr>\n",
       "      <th>0</th>\n",
       "      <td>Thursday</td>\n",
       "      <td>33733</td>\n",
       "    </tr>\n",
       "    <tr>\n",
       "      <th>1</th>\n",
       "      <td>Tuesday</td>\n",
       "      <td>30616</td>\n",
       "    </tr>\n",
       "    <tr>\n",
       "      <th>2</th>\n",
       "      <td>Wednesday</td>\n",
       "      <td>28456</td>\n",
       "    </tr>\n",
       "    <tr>\n",
       "      <th>3</th>\n",
       "      <td>Friday</td>\n",
       "      <td>27682</td>\n",
       "    </tr>\n",
       "    <tr>\n",
       "      <th>4</th>\n",
       "      <td>Monday</td>\n",
       "      <td>25686</td>\n",
       "    </tr>\n",
       "  </tbody>\n",
       "</table>\n",
       "</div>"
      ],
      "text/plain": [
       "     weekDay  countTrip\n",
       "0   Thursday      33733\n",
       "1    Tuesday      30616\n",
       "2  Wednesday      28456\n",
       "3     Friday      27682\n",
       "4     Monday      25686"
      ]
     },
     "execution_count": 49,
     "metadata": {},
     "output_type": "execute_result"
    }
   ],
   "source": [
    "dayTrip_df.head()"
   ]
  },
  {
   "cell_type": "code",
   "execution_count": 50,
   "metadata": {},
   "outputs": [],
   "source": [
    "weekDays = ['Monday', 'Tuesday', 'Wednesday', 'Thursday', 'Friday', 'Saturday', 'Sunday']\n",
    "ordered_day = pd.api.types.CategoricalDtype(ordered = True,\n",
    "                                                categories = weekDays)\n",
    "dayTrip_df['weekDay'] = dayTrip_df['weekDay'].astype(ordered_day)\n",
    "dayTrip_df.sort_values(\"weekDay\", axis = 0, ascending = True,\n",
    "                 inplace = True)"
   ]
  },
  {
   "cell_type": "markdown",
   "metadata": {},
   "source": [
    "Next up, let's plot the distribution of number of trips per day of week"
   ]
  },
  {
   "cell_type": "code",
   "execution_count": 87,
   "metadata": {},
   "outputs": [
    {
     "data": {
      "image/png": "[encoded data removed]",
      "text/plain": [
       "<Figure size 432x288 with 1 Axes>"
      ]
     },
     "metadata": {
      "needs_background": "light"
     },
     "output_type": "display_data"
    }
   ],
   "source": [
    "plt.bar(dayTrip_df['weekDay'], dayTrip_df['countTrip'], color ='blue',\n",
    "        width = 0.4)\n",
    "plt.xticks(rotation=90)\n",
    "plt.xlabel(\"Days of week\")\n",
    "plt.ylabel(\"Number of trips\")\n",
    "plt.title(\"Distribution of number of trips per day of week\");"
   ]
  },
  {
   "cell_type": "markdown",
   "metadata": {},
   "source": [
    "From the plot above, we can see that there are more trips on **Tuesday** and **Thursday**"
   ]
  },
  {
   "cell_type": "markdown",
   "metadata": {},
   "source": [
    "> Next up, let's identify period of day where we can see more trips"
   ]
  },
  {
   "cell_type": "markdown",
   "metadata": {},
   "source": [
    "**How are number of trips distributed among hours of day?**"
   ]
  },
  {
   "cell_type": "code",
   "execution_count": 52,
   "metadata": {},
   "outputs": [
    {
     "data": {
      "text/html": [
       "<div>\n",
       "<style scoped>\n",
       "    .dataframe tbody tr th:only-of-type {\n",
       "        vertical-align: middle;\n",
       "    }\n",
       "\n",
       "    .dataframe tbody tr th {\n",
       "        vertical-align: top;\n",
       "    }\n",
       "\n",
       "    .dataframe thead th {\n",
       "        text-align: right;\n",
       "    }\n",
       "</style>\n",
       "<table border=\"1\" class=\"dataframe\">\n",
       "  <thead>\n",
       "    <tr style=\"text-align: right;\">\n",
       "      <th></th>\n",
       "      <th>time</th>\n",
       "      <th>user_type</th>\n",
       "      <th>AgeGroup</th>\n",
       "      <th>date</th>\n",
       "      <th>hour</th>\n",
       "      <th>minute</th>\n",
       "      <th>second</th>\n",
       "    </tr>\n",
       "  </thead>\n",
       "  <tbody>\n",
       "    <tr>\n",
       "      <th>0</th>\n",
       "      <td>17:32:10.145</td>\n",
       "      <td>Customer</td>\n",
       "      <td>midlife</td>\n",
       "      <td>2019-02-28</td>\n",
       "      <td>17</td>\n",
       "      <td>32</td>\n",
       "      <td>10.145</td>\n",
       "    </tr>\n",
       "    <tr>\n",
       "      <th>1</th>\n",
       "      <td>12:13:13.218</td>\n",
       "      <td>Customer</td>\n",
       "      <td>midlife</td>\n",
       "      <td>2019-02-28</td>\n",
       "      <td>12</td>\n",
       "      <td>13</td>\n",
       "      <td>13.218</td>\n",
       "    </tr>\n",
       "    <tr>\n",
       "      <th>2</th>\n",
       "      <td>17:54:26.010</td>\n",
       "      <td>Subscriber</td>\n",
       "      <td>old</td>\n",
       "      <td>2019-02-28</td>\n",
       "      <td>17</td>\n",
       "      <td>54</td>\n",
       "      <td>26.010</td>\n",
       "    </tr>\n",
       "    <tr>\n",
       "      <th>3</th>\n",
       "      <td>23:54:18.549</td>\n",
       "      <td>Subscriber</td>\n",
       "      <td>midlife</td>\n",
       "      <td>2019-02-28</td>\n",
       "      <td>23</td>\n",
       "      <td>54</td>\n",
       "      <td>18.549</td>\n",
       "    </tr>\n",
       "    <tr>\n",
       "      <th>4</th>\n",
       "      <td>23:49:58.632</td>\n",
       "      <td>Subscriber</td>\n",
       "      <td>young</td>\n",
       "      <td>2019-02-28</td>\n",
       "      <td>23</td>\n",
       "      <td>49</td>\n",
       "      <td>58.632</td>\n",
       "    </tr>\n",
       "  </tbody>\n",
       "</table>\n",
       "</div>"
      ],
      "text/plain": [
       "           time   user_type AgeGroup       date hour minute  second\n",
       "0  17:32:10.145    Customer  midlife 2019-02-28   17     32  10.145\n",
       "1  12:13:13.218    Customer  midlife 2019-02-28   12     13  13.218\n",
       "2  17:54:26.010  Subscriber      old 2019-02-28   17     54  26.010\n",
       "3  23:54:18.549  Subscriber  midlife 2019-02-28   23     54  18.549\n",
       "4  23:49:58.632  Subscriber    young 2019-02-28   23     49  58.632"
      ]
     },
     "execution_count": 52,
     "metadata": {},
     "output_type": "execute_result"
    }
   ],
   "source": [
    "time_trip_df[['hour','minute', 'second']] = time_trip_df.time.str.split(pat=':', expand=True)\n",
    "time_trip_df.head()"
   ]
  },
  {
   "cell_type": "code",
   "execution_count": 53,
   "metadata": {},
   "outputs": [
    {
     "data": {
      "text/html": [
       "<div>\n",
       "<style scoped>\n",
       "    .dataframe tbody tr th:only-of-type {\n",
       "        vertical-align: middle;\n",
       "    }\n",
       "\n",
       "    .dataframe tbody tr th {\n",
       "        vertical-align: top;\n",
       "    }\n",
       "\n",
       "    .dataframe thead th {\n",
       "        text-align: right;\n",
       "    }\n",
       "</style>\n",
       "<table border=\"1\" class=\"dataframe\">\n",
       "  <thead>\n",
       "    <tr style=\"text-align: right;\">\n",
       "      <th></th>\n",
       "      <th>user_type</th>\n",
       "      <th>AgeGroup</th>\n",
       "      <th>date</th>\n",
       "      <th>hour</th>\n",
       "      <th>minute</th>\n",
       "      <th>second</th>\n",
       "    </tr>\n",
       "  </thead>\n",
       "  <tbody>\n",
       "    <tr>\n",
       "      <th>0</th>\n",
       "      <td>Customer</td>\n",
       "      <td>midlife</td>\n",
       "      <td>2019-02-28</td>\n",
       "      <td>17</td>\n",
       "      <td>32</td>\n",
       "      <td>10.145</td>\n",
       "    </tr>\n",
       "    <tr>\n",
       "      <th>1</th>\n",
       "      <td>Customer</td>\n",
       "      <td>midlife</td>\n",
       "      <td>2019-02-28</td>\n",
       "      <td>12</td>\n",
       "      <td>13</td>\n",
       "      <td>13.218</td>\n",
       "    </tr>\n",
       "    <tr>\n",
       "      <th>2</th>\n",
       "      <td>Subscriber</td>\n",
       "      <td>old</td>\n",
       "      <td>2019-02-28</td>\n",
       "      <td>17</td>\n",
       "      <td>54</td>\n",
       "      <td>26.010</td>\n",
       "    </tr>\n",
       "    <tr>\n",
       "      <th>3</th>\n",
       "      <td>Subscriber</td>\n",
       "      <td>midlife</td>\n",
       "      <td>2019-02-28</td>\n",
       "      <td>23</td>\n",
       "      <td>54</td>\n",
       "      <td>18.549</td>\n",
       "    </tr>\n",
       "    <tr>\n",
       "      <th>4</th>\n",
       "      <td>Subscriber</td>\n",
       "      <td>young</td>\n",
       "      <td>2019-02-28</td>\n",
       "      <td>23</td>\n",
       "      <td>49</td>\n",
       "      <td>58.632</td>\n",
       "    </tr>\n",
       "  </tbody>\n",
       "</table>\n",
       "</div>"
      ],
      "text/plain": [
       "    user_type AgeGroup       date hour minute  second\n",
       "0    Customer  midlife 2019-02-28   17     32  10.145\n",
       "1    Customer  midlife 2019-02-28   12     13  13.218\n",
       "2  Subscriber      old 2019-02-28   17     54  26.010\n",
       "3  Subscriber  midlife 2019-02-28   23     54  18.549\n",
       "4  Subscriber    young 2019-02-28   23     49  58.632"
      ]
     },
     "execution_count": 53,
     "metadata": {},
     "output_type": "execute_result"
    }
   ],
   "source": [
    "time_trip_df.drop(columns=['time'], inplace=True)\n",
    "time_trip_df.head()"
   ]
  },
  {
   "cell_type": "code",
   "execution_count": 54,
   "metadata": {},
   "outputs": [
    {
     "data": {
      "text/plain": [
       "user_type            object\n",
       "AgeGroup           category\n",
       "date         datetime64[ns]\n",
       "hour                  int64\n",
       "minute                int64\n",
       "second              float64\n",
       "dtype: object"
      ]
     },
     "execution_count": 54,
     "metadata": {},
     "output_type": "execute_result"
    }
   ],
   "source": [
    "time_trip_df['hour'] = time_trip_df['hour'].astype(int)\n",
    "time_trip_df['minute'] = time_trip_df['minute'].astype(int)\n",
    "time_trip_df['second'] = time_trip_df['second'].astype(float)\n",
    "time_trip_df.dtypes"
   ]
  },
  {
   "cell_type": "code",
   "execution_count": 55,
   "metadata": {},
   "outputs": [
    {
     "data": {
      "text/plain": [
       "17    20921\n",
       "8     20242\n",
       "18    16133\n",
       "9     15221\n",
       "16    13492\n",
       "7     10235\n",
       "19     9432\n",
       "15     8657\n",
       "12     8237\n",
       "13     8118\n",
       "10     7980\n",
       "14     7694\n",
       "11     7473\n",
       "20     6220\n",
       "21     4401\n",
       "6      3294\n",
       "22     2793\n",
       "23     1573\n",
       "0       893\n",
       "5       866\n",
       "1       525\n",
       "2       356\n",
       "4       227\n",
       "3       164\n",
       "Name: hour, dtype: int64"
      ]
     },
     "execution_count": 55,
     "metadata": {},
     "output_type": "execute_result"
    }
   ],
   "source": [
    "time_trip_df.sort_values(\"hour\", axis = 0, ascending = True,\n",
    "                 inplace = True, na_position ='last')\n",
    "time_trip_df['hour'].value_counts()"
   ]
  },
  {
   "cell_type": "code",
   "execution_count": 56,
   "metadata": {},
   "outputs": [
    {
     "data": {
      "image/png": "[encoded data removed]",
      "text/plain": [
       "<Figure size 576x360 with 1 Axes>"
      ]
     },
     "metadata": {
      "needs_background": "light"
     },
     "output_type": "display_data"
    }
   ],
   "source": [
    "binsize = 2\n",
    "bins = np.arange(0, time_trip_df['hour'].max()+binsize, binsize)\n",
    "\n",
    "plt.figure(figsize=[8, 5])\n",
    "plt.hist(data = time_trip_df, x = 'hour', bins = bins, align='left')\n",
    "plt.xticks(bins, bins, rotation = 90)\n",
    "plt.xlabel('Hours')\n",
    "plt.title(\"Distribution of number of trips per hour\")\n",
    "plt.show()"
   ]
  },
  {
   "cell_type": "markdown",
   "metadata": {},
   "source": [
    "From the plot above, we can see that there are more trips on periods: from **07:00 am to 09:00 am** and from **03:00 pm to 05:00 pm**"
   ]
  },
  {
   "cell_type": "markdown",
   "metadata": {},
   "source": [
    "### Discuss the distribution(s) of your variable(s) of interest. Were there any unusual points? Did you need to perform any transformations?\n",
    "\n",
    "> As stated earlier, from the different plots we can see that majority of the users of the rideshare are in the midlife and old ages. there is a moderate amount of users who are young with very little amount of them very young and very old. As for their genders, most of the users are male with less than half of them females and very little amount of them with undisclosed genders. A significantly major part of the users are subscribers with very little amount of them falling into the customer category. trips are made more on Tuesdays and Thursdays, and in following periods: from **07:00 am to 09:00 am** and from **03:00 pm to 05:00 pm**; There didn't seem to be any unusual points, therefore there was no need for any transformations.\n",
    "\n",
    "### Of the features you investigated, were there any unusual distributions? Did you perform any operations on the data to tidy, adjust, or change the form of the data? If so, why did you do this?\n",
    "\n",
    "> There was nothing unusual in the distributions and so there was no need to perform any adjustments of the data."
   ]
  },
  {
   "cell_type": "markdown",
   "metadata": {},
   "source": [
    "## Bivariate Exploration\n",
    "\n"
   ]
  },
  {
   "cell_type": "markdown",
   "metadata": {},
   "source": [
    "> It would be better to use label encoding to get a better understanding of the correlation between AgeGroup and trip_duration. so that we know how the age group of the users influenced how long they used the bikes."
   ]
  },
  {
   "cell_type": "code",
   "execution_count": 57,
   "metadata": {},
   "outputs": [],
   "source": [
    "bike_trip_df = grouped_trip_id.copy()"
   ]
  },
  {
   "cell_type": "code",
   "execution_count": 58,
   "metadata": {},
   "outputs": [],
   "source": [
    "#Label Encoding\n",
    "\n",
    "featured = [ 'AgeGroup' ]\n",
    "def encod_age_group(df):\n",
    "    for feature in featured:\n",
    "        df[f\"{feature}_cat\"] = df[feature].astype('category')\n",
    "        df[f\"{feature}_cat\"] = df[f\"{feature}_cat\"].cat.codes"
   ]
  },
  {
   "cell_type": "code",
   "execution_count": 59,
   "metadata": {},
   "outputs": [
    {
     "data": {
      "text/html": [
       "<div>\n",
       "<style scoped>\n",
       "    .dataframe tbody tr th:only-of-type {\n",
       "        vertical-align: middle;\n",
       "    }\n",
       "\n",
       "    .dataframe tbody tr th {\n",
       "        vertical-align: top;\n",
       "    }\n",
       "\n",
       "    .dataframe thead th {\n",
       "        text-align: right;\n",
       "    }\n",
       "</style>\n",
       "<table border=\"1\" class=\"dataframe\">\n",
       "  <thead>\n",
       "    <tr style=\"text-align: right;\">\n",
       "      <th></th>\n",
       "      <th>member_birth_year</th>\n",
       "      <th>member_gender</th>\n",
       "      <th>user_type</th>\n",
       "      <th>AgeGroup</th>\n",
       "      <th>bike_share_for_all_trip</th>\n",
       "      <th>trip_duration(s)</th>\n",
       "      <th>AgeGroup_cat</th>\n",
       "    </tr>\n",
       "  </thead>\n",
       "  <tbody>\n",
       "    <tr>\n",
       "      <th>0</th>\n",
       "      <td>1984</td>\n",
       "      <td>Male</td>\n",
       "      <td>Customer</td>\n",
       "      <td>midlife</td>\n",
       "      <td>No</td>\n",
       "      <td>52185.830</td>\n",
       "      <td>2</td>\n",
       "    </tr>\n",
       "    <tr>\n",
       "      <th>1</th>\n",
       "      <td>1972</td>\n",
       "      <td>Male</td>\n",
       "      <td>Customer</td>\n",
       "      <td>midlife</td>\n",
       "      <td>No</td>\n",
       "      <td>61854.928</td>\n",
       "      <td>2</td>\n",
       "    </tr>\n",
       "    <tr>\n",
       "      <th>2</th>\n",
       "      <td>1993</td>\n",
       "      <td>Male</td>\n",
       "      <td>Subscriber</td>\n",
       "      <td>old</td>\n",
       "      <td>No</td>\n",
       "      <td>506.193</td>\n",
       "      <td>3</td>\n",
       "    </tr>\n",
       "    <tr>\n",
       "      <th>3</th>\n",
       "      <td>1998</td>\n",
       "      <td>Male</td>\n",
       "      <td>Subscriber</td>\n",
       "      <td>old</td>\n",
       "      <td>No</td>\n",
       "      <td>259.032</td>\n",
       "      <td>3</td>\n",
       "    </tr>\n",
       "    <tr>\n",
       "      <th>4</th>\n",
       "      <td>1977</td>\n",
       "      <td>Male</td>\n",
       "      <td>Subscriber</td>\n",
       "      <td>midlife</td>\n",
       "      <td>No</td>\n",
       "      <td>386.978</td>\n",
       "      <td>2</td>\n",
       "    </tr>\n",
       "  </tbody>\n",
       "</table>\n",
       "</div>"
      ],
      "text/plain": [
       "   member_birth_year member_gender   user_type AgeGroup  \\\n",
       "0               1984          Male    Customer  midlife   \n",
       "1               1972          Male    Customer  midlife   \n",
       "2               1993          Male  Subscriber      old   \n",
       "3               1998          Male  Subscriber      old   \n",
       "4               1977          Male  Subscriber  midlife   \n",
       "\n",
       "  bike_share_for_all_trip  trip_duration(s)  AgeGroup_cat  \n",
       "0                      No         52185.830             2  \n",
       "1                      No         61854.928             2  \n",
       "2                      No           506.193             3  \n",
       "3                      No           259.032             3  \n",
       "4                      No           386.978             2  "
      ]
     },
     "execution_count": 59,
     "metadata": {},
     "output_type": "execute_result"
    }
   ],
   "source": [
    "encod_age_group(bike_trip_df)\n",
    "bike_trip_df.head()"
   ]
  },
  {
   "cell_type": "code",
   "execution_count": 60,
   "metadata": {},
   "outputs": [],
   "source": [
    "numeric_vars = ['trip_duration(s)', 'AgeGroup_cat']\n",
    "categoric_vars = ['user_type', 'member_gender', 'AgeGroup']"
   ]
  },
  {
   "cell_type": "markdown",
   "metadata": {},
   "source": [
    "****How are number of trips distributed among dates of trip?****"
   ]
  },
  {
   "cell_type": "code",
   "execution_count": 61,
   "metadata": {},
   "outputs": [],
   "source": [
    "# correlation plot\n",
    "def heatmap(df,feature):\n",
    "    plt.figure(figsize = [8, 5])\n",
    "    sb.heatmap(df[numeric_vars].corr(), annot = True, fmt = '.3f',\n",
    "           cmap = 'vlag_r', center = 0)\n",
    "    plt.title('correlation plot for {} and AgeGroup_cat'.format(feature))\n",
    "    plt.show()"
   ]
  },
  {
   "cell_type": "code",
   "execution_count": 62,
   "metadata": {},
   "outputs": [
    {
     "data": {
      "image/png": "[encoded data removed]",
      "text/plain": [
       "<Figure size 576x360 with 2 Axes>"
      ]
     },
     "metadata": {
      "needs_background": "light"
     },
     "output_type": "display_data"
    }
   ],
   "source": [
    "heatmap(bike_trip_df, 'trip_duration(s)');"
   ]
  },
  {
   "cell_type": "markdown",
   "metadata": {},
   "source": [
    "From the plot above, we can see there is direct correlation between trip duration and agegroup cat\n",
    "> Next up, let's matrix of sample of 5000 bike shares"
   ]
  },
  {
   "cell_type": "code",
   "execution_count": 63,
   "metadata": {},
   "outputs": [],
   "source": [
    "def pairgrid(df):\n",
    "    g = sb.PairGrid(data = df, vars = numeric_vars)\n",
    "    g = g.map_diag(plt.hist, bins = 10);\n",
    "    g.map_offdiag(plt.scatter);"
   ]
  },
  {
   "cell_type": "code",
   "execution_count": 64,
   "metadata": {},
   "outputs": [
    {
     "name": "stdout",
     "output_type": "stream",
     "text": [
      "bike_trip_df.shape= (175147, 7)\n",
      "bikeshare_samp.shape= (18000, 7)\n"
     ]
    },
    {
     "data": {
      "image/png": "[encoded data removed]",
      "text/plain": [
       "<Figure size 360x360 with 6 Axes>"
      ]
     },
     "metadata": {
      "needs_background": "light"
     },
     "output_type": "display_data"
    }
   ],
   "source": [
    "print(\"bike_trip_df.shape=\",bike_trip_df.shape)\n",
    "bikeshare_samp = bike_trip_df.sample(n=18000, replace = False)\n",
    "print(\"bikeshare_samp.shape=\",bikeshare_samp.shape)\n",
    "\n",
    "pairgrid(bikeshare_samp);"
   ]
  },
  {
   "cell_type": "markdown",
   "metadata": {},
   "source": [
    "> Next up, let's distribution of agegroup and time spent on rideshare"
   ]
  },
  {
   "cell_type": "markdown",
   "metadata": {},
   "source": [
    "**How are age groups distributed among time spent?**"
   ]
  },
  {
   "cell_type": "code",
   "execution_count": 65,
   "metadata": {},
   "outputs": [
    {
     "data": {
      "image/png": "[encoded data removed]",
      "text/plain": [
       "<Figure size 432x288 with 1 Axes>"
      ]
     },
     "metadata": {
      "needs_background": "light"
     },
     "output_type": "display_data"
    }
   ],
   "source": [
    "sb.kdeplot(x='trip_duration(s)', data=bike_trip_df, hue='AgeGroup')\n",
    "plt.title('distribution of agegroup and time spent on rideshare');"
   ]
  },
  {
   "cell_type": "markdown",
   "metadata": {},
   "source": [
    "Users who spend more time in trips are in old and midlife groups"
   ]
  },
  {
   "cell_type": "markdown",
   "metadata": {},
   "source": [
    "**How are gender of users distributed among time spent?**"
   ]
  },
  {
   "cell_type": "code",
   "execution_count": 66,
   "metadata": {},
   "outputs": [
    {
     "data": {
      "image/png": "[encoded data removed]",
      "text/plain": [
       "<Figure size 432x288 with 1 Axes>"
      ]
     },
     "metadata": {
      "needs_background": "light"
     },
     "output_type": "display_data"
    }
   ],
   "source": [
    "sb.kdeplot(x='trip_duration(s)', data=bike_trip_df, hue='member_gender')\n",
    "plt.title('distribution of user gender and time spent on rideshare');"
   ]
  },
  {
   "cell_type": "markdown",
   "metadata": {},
   "source": [
    "Users who spend more time in trips are male"
   ]
  },
  {
   "cell_type": "markdown",
   "metadata": {},
   "source": [
    "**How are number of trips distributed among trip duration?**"
   ]
  },
  {
   "cell_type": "code",
   "execution_count": 67,
   "metadata": {},
   "outputs": [
    {
     "data": {
      "text/plain": [
       "<AxesSubplot:xlabel='trip_duration(s)', ylabel='Count'>"
      ]
     },
     "execution_count": 67,
     "metadata": {},
     "output_type": "execute_result"
    },
    {
     "data": {
      "image/png": "[encoded data removed]",
      "text/plain": [
       "<Figure size 432x288 with 1 Axes>"
      ]
     },
     "metadata": {
      "needs_background": "light"
     },
     "output_type": "display_data"
    }
   ],
   "source": [
    "sb.rugplot(x='trip_duration(s)', data=bike_trip_df, height=.03, color='darkblue')\n",
    "sb.histplot(x='trip_duration(s)', data=bike_trip_df, kde=True)"
   ]
  },
  {
   "cell_type": "markdown",
   "metadata": {},
   "source": [
    "majority of trips have a duration of less than 2000 seconds"
   ]
  },
  {
   "cell_type": "markdown",
   "metadata": {},
   "source": [
    "> Next up, let's plot matrix of numeric features against categorical features."
   ]
  },
  {
   "cell_type": "markdown",
   "metadata": {},
   "source": [
    "**How are numeric features distributed against categorical features?**"
   ]
  },
  {
   "cell_type": "code",
   "execution_count": 68,
   "metadata": {},
   "outputs": [
    {
     "data": {
      "text/plain": [
       "<Figure size 720x720 with 0 Axes>"
      ]
     },
     "metadata": {},
     "output_type": "display_data"
    },
    {
     "data": {
      "image/png": "[encoded data removed]",
      "text/plain": [
       "<Figure size 972x432 with 6 Axes>"
      ]
     },
     "metadata": {
      "needs_background": "light"
     },
     "output_type": "display_data"
    }
   ],
   "source": [
    "# can use a larger sample since there are fewer plots and they're simpler in nature.\n",
    "\n",
    "bikeshare_samp = bike_trip_df.sample(n=64000, replace = False)\n",
    "\n",
    "\n",
    "def boxgrid(x, y, **kwargs):\n",
    "    \"\"\" Quick hack for creating box plots with seaborn's PairGrid. \"\"\"\n",
    "    default_color = sb.color_palette()[0]\n",
    "    sb.boxplot(x=x, y=y, color=default_color)\n",
    "\n",
    "plt.figure(figsize = [10, 10])\n",
    "g = sb.PairGrid(data = bikeshare_samp, y_vars = ['trip_duration(s)', 'member_birth_year'], x_vars = categoric_vars,\n",
    "                height = 3, aspect = 1.5)\n",
    "g.map(boxgrid)\n",
    "plt.show();"
   ]
  },
  {
   "cell_type": "markdown",
   "metadata": {},
   "source": [
    "> Next up, let's plot age distribution among gender of users, and user type distribution among agegroup"
   ]
  },
  {
   "cell_type": "markdown",
   "metadata": {},
   "source": [
    "**How are age groups distributed among gender of users, user type among age groups?**"
   ]
  },
  {
   "cell_type": "code",
   "execution_count": 69,
   "metadata": {},
   "outputs": [
    {
     "data": {
      "image/png": "[encoded data removed]",
      "text/plain": [
       "<Figure size 1080x720 with 2 Axes>"
      ]
     },
     "metadata": {
      "needs_background": "light"
     },
     "output_type": "display_data"
    }
   ],
   "source": [
    "# since there's only one subplot to create, using the full data should be fine.\n",
    "plt.figure(figsize = [15, 10])\n",
    "\n",
    "# subplot 1: member_gender vs AgeGroup\n",
    "ax1 = plt.subplot(1, 2, 1)\n",
    "sb.countplot(data = bike_trip_df, x = 'member_gender', hue = 'AgeGroup', palette = 'Blues')\n",
    "ax1.legend(ncol = 2)\n",
    "ax1.title.set_text('age distribution among gender of users')\n",
    "\n",
    "# subplot 2: AgeGroup vs user_type\n",
    "ax2 = plt.subplot(1, 2, 2)\n",
    "sb.countplot(data = bike_trip_df, x = 'AgeGroup', hue = 'user_type', palette = 'Blues')\n",
    "ax2.legend(ncol = 2)\n",
    "ax2.title.set_text('user type distribution among age group')\n",
    "\n",
    "#plt.title('age distribution among gender of users')\n",
    "plt.show()"
   ]
  },
  {
   "cell_type": "markdown",
   "metadata": {},
   "source": [
    "From the plot above, we can see that midlife and old age groups are predominant in the male and female genders; And most users in all group of age except very young and very old groups are subscribers; there are almost no users in the very_young and very_old age groups\n",
    "> Next up, let's plot distribution of number of trips"
   ]
  },
  {
   "cell_type": "code",
   "execution_count": 70,
   "metadata": {},
   "outputs": [],
   "source": [
    "encod_age_group(time_trip_df)"
   ]
  },
  {
   "cell_type": "code",
   "execution_count": 71,
   "metadata": {},
   "outputs": [
    {
     "data": {
      "text/html": [
       "<div>\n",
       "<style scoped>\n",
       "    .dataframe tbody tr th:only-of-type {\n",
       "        vertical-align: middle;\n",
       "    }\n",
       "\n",
       "    .dataframe tbody tr th {\n",
       "        vertical-align: top;\n",
       "    }\n",
       "\n",
       "    .dataframe thead th {\n",
       "        text-align: right;\n",
       "    }\n",
       "</style>\n",
       "<table border=\"1\" class=\"dataframe\">\n",
       "  <thead>\n",
       "    <tr style=\"text-align: right;\">\n",
       "      <th></th>\n",
       "      <th>user_type</th>\n",
       "      <th>AgeGroup</th>\n",
       "      <th>date</th>\n",
       "      <th>hour</th>\n",
       "      <th>minute</th>\n",
       "      <th>second</th>\n",
       "      <th>AgeGroup_cat</th>\n",
       "    </tr>\n",
       "  </thead>\n",
       "  <tbody>\n",
       "    <tr>\n",
       "      <th>175146</th>\n",
       "      <td>Subscriber</td>\n",
       "      <td>old</td>\n",
       "      <td>2019-02-01</td>\n",
       "      <td>0</td>\n",
       "      <td>0</td>\n",
       "      <td>20.636</td>\n",
       "      <td>3</td>\n",
       "    </tr>\n",
       "    <tr>\n",
       "      <th>83710</th>\n",
       "      <td>Subscriber</td>\n",
       "      <td>old</td>\n",
       "      <td>2019-02-17</td>\n",
       "      <td>0</td>\n",
       "      <td>40</td>\n",
       "      <td>35.986</td>\n",
       "      <td>3</td>\n",
       "    </tr>\n",
       "    <tr>\n",
       "      <th>83711</th>\n",
       "      <td>Subscriber</td>\n",
       "      <td>midlife</td>\n",
       "      <td>2019-02-17</td>\n",
       "      <td>0</td>\n",
       "      <td>30</td>\n",
       "      <td>3.687</td>\n",
       "      <td>2</td>\n",
       "    </tr>\n",
       "    <tr>\n",
       "      <th>83712</th>\n",
       "      <td>Subscriber</td>\n",
       "      <td>midlife</td>\n",
       "      <td>2019-02-17</td>\n",
       "      <td>0</td>\n",
       "      <td>30</td>\n",
       "      <td>45.421</td>\n",
       "      <td>2</td>\n",
       "    </tr>\n",
       "    <tr>\n",
       "      <th>83713</th>\n",
       "      <td>Subscriber</td>\n",
       "      <td>old</td>\n",
       "      <td>2019-02-17</td>\n",
       "      <td>0</td>\n",
       "      <td>28</td>\n",
       "      <td>27.173</td>\n",
       "      <td>3</td>\n",
       "    </tr>\n",
       "  </tbody>\n",
       "</table>\n",
       "</div>"
      ],
      "text/plain": [
       "         user_type AgeGroup       date  hour  minute  second  AgeGroup_cat\n",
       "175146  Subscriber      old 2019-02-01     0       0  20.636             3\n",
       "83710   Subscriber      old 2019-02-17     0      40  35.986             3\n",
       "83711   Subscriber  midlife 2019-02-17     0      30   3.687             2\n",
       "83712   Subscriber  midlife 2019-02-17     0      30  45.421             2\n",
       "83713   Subscriber      old 2019-02-17     0      28  27.173             3"
      ]
     },
     "execution_count": 71,
     "metadata": {},
     "output_type": "execute_result"
    }
   ],
   "source": [
    "time_trip_df.head()"
   ]
  },
  {
   "cell_type": "markdown",
   "metadata": {},
   "source": [
    "Now, let's create a new dataframe which contain number of trips, agegroup_cat"
   ]
  },
  {
   "cell_type": "code",
   "execution_count": 72,
   "metadata": {},
   "outputs": [],
   "source": [
    "def compute_nb_trips(feature):\n",
    "    number_trips = time_trip_df[f\"{feature}\"].value_counts()\n",
    "    indexL = number_trips.index\n",
    "    valuesL = number_trips.values\n",
    "    frame = { f\"{feature}\": indexL, 'countTrip': valuesL }\n",
    "    number_trips_df = pd.DataFrame(frame)\n",
    "    return number_trips_df\n",
    "    "
   ]
  },
  {
   "cell_type": "code",
   "execution_count": 73,
   "metadata": {},
   "outputs": [
    {
     "data": {
      "text/html": [
       "<div>\n",
       "<style scoped>\n",
       "    .dataframe tbody tr th:only-of-type {\n",
       "        vertical-align: middle;\n",
       "    }\n",
       "\n",
       "    .dataframe tbody tr th {\n",
       "        vertical-align: top;\n",
       "    }\n",
       "\n",
       "    .dataframe thead th {\n",
       "        text-align: right;\n",
       "    }\n",
       "</style>\n",
       "<table border=\"1\" class=\"dataframe\">\n",
       "  <thead>\n",
       "    <tr style=\"text-align: right;\">\n",
       "      <th></th>\n",
       "      <th>AgeGroup_cat</th>\n",
       "      <th>countTrip</th>\n",
       "    </tr>\n",
       "  </thead>\n",
       "  <tbody>\n",
       "    <tr>\n",
       "      <th>0</th>\n",
       "      <td>3</td>\n",
       "      <td>100548</td>\n",
       "    </tr>\n",
       "    <tr>\n",
       "      <th>1</th>\n",
       "      <td>2</td>\n",
       "      <td>54781</td>\n",
       "    </tr>\n",
       "    <tr>\n",
       "      <th>2</th>\n",
       "      <td>1</td>\n",
       "      <td>19709</td>\n",
       "    </tr>\n",
       "    <tr>\n",
       "      <th>3</th>\n",
       "      <td>0</td>\n",
       "      <td>75</td>\n",
       "    </tr>\n",
       "    <tr>\n",
       "      <th>4</th>\n",
       "      <td>4</td>\n",
       "      <td>34</td>\n",
       "    </tr>\n",
       "  </tbody>\n",
       "</table>\n",
       "</div>"
      ],
      "text/plain": [
       "   AgeGroup_cat  countTrip\n",
       "0             3     100548\n",
       "1             2      54781\n",
       "2             1      19709\n",
       "3             0         75\n",
       "4             4         34"
      ]
     },
     "execution_count": 73,
     "metadata": {},
     "output_type": "execute_result"
    }
   ],
   "source": [
    "number_trips_df = compute_nb_trips('AgeGroup_cat')\n",
    "number_trips_df.head()"
   ]
  },
  {
   "cell_type": "markdown",
   "metadata": {},
   "source": [
    "**What is correlation between number of trips and age group?**"
   ]
  },
  {
   "cell_type": "code",
   "execution_count": 74,
   "metadata": {},
   "outputs": [
    {
     "data": {
      "image/png": "[encoded data removed]",
      "text/plain": [
       "<Figure size 576x360 with 2 Axes>"
      ]
     },
     "metadata": {
      "needs_background": "light"
     },
     "output_type": "display_data"
    }
   ],
   "source": [
    "numeric_vars = ['countTrip', 'AgeGroup_cat']\n",
    "heatmap(number_trips_df, 'countTrip')"
   ]
  },
  {
   "cell_type": "code",
   "execution_count": 75,
   "metadata": {},
   "outputs": [
    {
     "data": {
      "image/png": "[encoded data removed]",
      "text/plain": [
       "<Figure size 360x360 with 6 Axes>"
      ]
     },
     "metadata": {
      "needs_background": "light"
     },
     "output_type": "display_data"
    }
   ],
   "source": [
    "pairgrid(number_trips_df)"
   ]
  },
  {
   "cell_type": "markdown",
   "metadata": {},
   "source": [
    "From the plot above, we can see that users in midlife and old age groups make more trips\n",
    "> Next up, let's plot distribution of user type against number of trips on rideshare"
   ]
  },
  {
   "cell_type": "code",
   "execution_count": 76,
   "metadata": {},
   "outputs": [
    {
     "data": {
      "text/html": [
       "<div>\n",
       "<style scoped>\n",
       "    .dataframe tbody tr th:only-of-type {\n",
       "        vertical-align: middle;\n",
       "    }\n",
       "\n",
       "    .dataframe tbody tr th {\n",
       "        vertical-align: top;\n",
       "    }\n",
       "\n",
       "    .dataframe thead th {\n",
       "        text-align: right;\n",
       "    }\n",
       "</style>\n",
       "<table border=\"1\" class=\"dataframe\">\n",
       "  <thead>\n",
       "    <tr style=\"text-align: right;\">\n",
       "      <th></th>\n",
       "      <th>user_type</th>\n",
       "      <th>countTrip</th>\n",
       "    </tr>\n",
       "  </thead>\n",
       "  <tbody>\n",
       "    <tr>\n",
       "      <th>0</th>\n",
       "      <td>Subscriber</td>\n",
       "      <td>158516</td>\n",
       "    </tr>\n",
       "    <tr>\n",
       "      <th>1</th>\n",
       "      <td>Customer</td>\n",
       "      <td>16631</td>\n",
       "    </tr>\n",
       "  </tbody>\n",
       "</table>\n",
       "</div>"
      ],
      "text/plain": [
       "    user_type  countTrip\n",
       "0  Subscriber     158516\n",
       "1    Customer      16631"
      ]
     },
     "execution_count": 76,
     "metadata": {},
     "output_type": "execute_result"
    }
   ],
   "source": [
    "number_trips_df = compute_nb_trips('user_type')\n",
    "number_trips_df.head()"
   ]
  },
  {
   "cell_type": "code",
   "execution_count": 77,
   "metadata": {},
   "outputs": [],
   "source": [
    "number_trips_df['countTrip_proportion'] = (number_trips_df['countTrip']/(number_trips_df['countTrip'].sum())) *100"
   ]
  },
  {
   "cell_type": "code",
   "execution_count": 78,
   "metadata": {},
   "outputs": [
    {
     "data": {
      "text/html": [
       "<div>\n",
       "<style scoped>\n",
       "    .dataframe tbody tr th:only-of-type {\n",
       "        vertical-align: middle;\n",
       "    }\n",
       "\n",
       "    .dataframe tbody tr th {\n",
       "        vertical-align: top;\n",
       "    }\n",
       "\n",
       "    .dataframe thead th {\n",
       "        text-align: right;\n",
       "    }\n",
       "</style>\n",
       "<table border=\"1\" class=\"dataframe\">\n",
       "  <thead>\n",
       "    <tr style=\"text-align: right;\">\n",
       "      <th></th>\n",
       "      <th>user_type</th>\n",
       "      <th>countTrip</th>\n",
       "      <th>countTrip_proportion</th>\n",
       "    </tr>\n",
       "  </thead>\n",
       "  <tbody>\n",
       "    <tr>\n",
       "      <th>0</th>\n",
       "      <td>Subscriber</td>\n",
       "      <td>158516</td>\n",
       "      <td>90.504548</td>\n",
       "    </tr>\n",
       "    <tr>\n",
       "      <th>1</th>\n",
       "      <td>Customer</td>\n",
       "      <td>16631</td>\n",
       "      <td>9.495452</td>\n",
       "    </tr>\n",
       "  </tbody>\n",
       "</table>\n",
       "</div>"
      ],
      "text/plain": [
       "    user_type  countTrip  countTrip_proportion\n",
       "0  Subscriber     158516             90.504548\n",
       "1    Customer      16631              9.495452"
      ]
     },
     "execution_count": 78,
     "metadata": {},
     "output_type": "execute_result"
    }
   ],
   "source": [
    "number_trips_df.head()"
   ]
  },
  {
   "cell_type": "markdown",
   "metadata": {},
   "source": [
    "**How are number of trips distributed among user type?**"
   ]
  },
  {
   "cell_type": "code",
   "execution_count": 79,
   "metadata": {},
   "outputs": [
    {
     "data": {
      "image/png": "[encoded data removed]",
      "text/plain": [
       "<Figure size 432x288 with 1 Axes>"
      ]
     },
     "metadata": {
      "needs_background": "light"
     },
     "output_type": "display_data"
    }
   ],
   "source": [
    "plt.bar(number_trips_df['user_type'], number_trips_df['countTrip_proportion'], color ='blue',\n",
    "        width = 0.4);\n",
    "plt.xlabel(\"user_type\")\n",
    "plt.ylabel(\"proportion of number of trips\")\n",
    "plt.title(\"Distribution of number of trip and user_type\");"
   ]
  },
  {
   "cell_type": "markdown",
   "metadata": {},
   "source": [
    "From the plot above, we can see that users who make more trips are subscribers"
   ]
  },
  {
   "cell_type": "markdown",
   "metadata": {},
   "source": [
    "### Talk about some of the relationships you observed in this part of the investigation. How did the feature(s) of interest vary with other features in the dataset?\n",
    "\n",
    "> From all the plots, I discovered that there is a direct corelation between agegroup_cat which is the encoded version of the agegroup, the agegroup itself and the trip_duration(s). We can also see there some outliers in the very young group of the agegroup variable, but they are of no consequence and so were not removed. This supports the discovery from the previous section that users in the midlife and the old group of the age group spent more time and make more trips user the ride share than any of the other age groups.\n",
    "\n",
    "### Did you observe any interesting relationships between the other features (not the main feature(s) of interest)?\n",
    "\n",
    "> There were some insignificant outliers that were left alone."
   ]
  },
  {
   "cell_type": "markdown",
   "metadata": {},
   "source": [
    "## Multivariate Exploration\n",
    "\n"
   ]
  },
  {
   "cell_type": "markdown",
   "metadata": {},
   "source": [
    "> here I continued exploring the relationship between trip_duration and the other features."
   ]
  },
  {
   "cell_type": "markdown",
   "metadata": {},
   "source": [
    "**How are trip durations distributed among age groups?**"
   ]
  },
  {
   "cell_type": "code",
   "execution_count": 80,
   "metadata": {},
   "outputs": [
    {
     "data": {
      "image/png": "[encoded data removed]",
      "text/plain": [
       "<Figure size 454x360 with 1 Axes>"
      ]
     },
     "metadata": {
      "needs_background": "light"
     },
     "output_type": "display_data"
    }
   ],
   "source": [
    "g = sb.FacetGrid(data = bike_trip_df, hue = 'AgeGroup', height = 5)\n",
    "g.map(plt.scatter, 'trip_duration(s)', 'member_birth_year')\n",
    "g.add_legend()\n",
    "plt.title('facetgrid of agegroup distribution and time spent on rideshare');"
   ]
  },
  {
   "cell_type": "markdown",
   "metadata": {},
   "source": [
    "Users in old and midlife age groups spend more time in trips than others age groups"
   ]
  },
  {
   "cell_type": "markdown",
   "metadata": {},
   "source": [
    "**How are trip durations distributed among age groups and gender of users?**"
   ]
  },
  {
   "cell_type": "code",
   "execution_count": 81,
   "metadata": {},
   "outputs": [
    {
     "data": {
      "image/png": "[encoded data removed]",
      "text/plain": [
       "<Figure size 900x540 with 15 Axes>"
      ]
     },
     "metadata": {
      "needs_background": "light"
     },
     "output_type": "display_data"
    }
   ],
   "source": [
    "g = sb.FacetGrid(data = bike_trip_df, col = 'AgeGroup', row = 'member_gender', height = 2.5,\n",
    "                margin_titles = True)\n",
    "g.map(plt.scatter, 'trip_duration(s)', 'member_birth_year');"
   ]
  },
  {
   "cell_type": "markdown",
   "metadata": {},
   "source": [
    "From the plot above, we can confirm that users who spend more time in trips are in old and midlife age groups\n",
    "> Next up, let's explore relationship between number of trips, user type and age group"
   ]
  },
  {
   "cell_type": "markdown",
   "metadata": {},
   "source": [
    "**How are number of trips distributed among age groups and user types?**"
   ]
  },
  {
   "cell_type": "code",
   "execution_count": 82,
   "metadata": {},
   "outputs": [
    {
     "data": {
      "image/png": "[encoded data removed]",
      "text/plain": [
       "<Figure size 576x576 with 1 Axes>"
      ]
     },
     "metadata": {
      "needs_background": "light"
     },
     "output_type": "display_data"
    }
   ],
   "source": [
    "plt.figure(figsize = [8, 8])\n",
    "sb.countplot(data = time_trip_df, x = 'AgeGroup', hue = 'user_type', palette = 'Blues')\n",
    "plt.show()"
   ]
  },
  {
   "cell_type": "markdown",
   "metadata": {},
   "source": [
    "From the plot above, we can see that users who make more trips are in old and midlife age groups no matter what type of user\n",
    "> Next up, let's explore relationship between number of trips, days of week, age group, and user type"
   ]
  },
  {
   "cell_type": "markdown",
   "metadata": {},
   "source": [
    "**How are number of trips distributed against days of week, age groups, and user types**"
   ]
  },
  {
   "cell_type": "code",
   "execution_count": 83,
   "metadata": {},
   "outputs": [],
   "source": [
    "time_trip_df['day_of_week'] = time_trip_df.date.dt.day_name()\n",
    "def facetGrid(feature, *argv):\n",
    "    g = sb.FacetGrid(data = time_trip_df, col = 'AgeGroup', row = 'user_type', height = 2.5,\n",
    "                margin_titles = True)\n",
    "    if (len(argv) != 0):\n",
    "        #print(len(argv))\n",
    "        binwidth=argv[0]\n",
    "        binmax=argv[1]\n",
    "        g.map_dataframe(sb.histplot, x=f\"{feature}\", binwidth=binwidth, binrange=(0, binmax))\n",
    "        g.set(xticks=argv[2])\n",
    "        g.set_xticklabels(argv[2], rotation=90)\n",
    "    else:\n",
    "        g.map_dataframe(sb.histplot, x=f\"{feature}\")\n",
    "        g.set_xticklabels(rotation=90)\n",
    "    g.set_ylabels('Number of trips');"
   ]
  },
  {
   "cell_type": "code",
   "execution_count": 84,
   "metadata": {
    "scrolled": true
   },
   "outputs": [
    {
     "data": {
      "image/png": "[encoded data removed]",
      "text/plain": [
       "<Figure size 900x360 with 10 Axes>"
      ]
     },
     "metadata": {
      "needs_background": "light"
     },
     "output_type": "display_data"
    }
   ],
   "source": [
    "facetGrid('day_of_week');"
   ]
  },
  {
   "cell_type": "markdown",
   "metadata": {},
   "source": [
    "From the plot above, we can see that:\n",
    "* Users who make more trips are in old and midlife age groups no matter what type of user\n",
    "* Users in old and midlife age groups make more trips on Thurdays and Tuesdays\n",
    "> Next up, let's explore relationship between number of trips, hours of day, age group, and user type"
   ]
  },
  {
   "cell_type": "markdown",
   "metadata": {},
   "source": [
    "**How are number of trips distributed against hours of day, age groups, and user types**"
   ]
  },
  {
   "cell_type": "code",
   "execution_count": 85,
   "metadata": {},
   "outputs": [
    {
     "data": {
      "image/png": "[encoded data removed]",
      "text/plain": [
       "<Figure size 900x360 with 10 Axes>"
      ]
     },
     "metadata": {
      "needs_background": "light"
     },
     "output_type": "display_data"
    }
   ],
   "source": [
    "binsize = 2\n",
    "bins = np.arange(0, time_trip_df['hour'].max()+binsize, binsize)\n",
    "facetGrid('hour', binsize, time_trip_df['hour'].max()+binsize, bins);"
   ]
  },
  {
   "cell_type": "markdown",
   "metadata": {},
   "source": [
    "From the plot above, we can see that:\n",
    "* Users who make more trips are in old and midlife age groups no matter what type of user\n",
    "* Users make more trips between 08:00 am and 10:00 am, 04:00 pm and 06:00 pm no matter what type of user and age group of user"
   ]
  },
  {
   "cell_type": "markdown",
   "metadata": {},
   "source": [
    "### Talk about some of the relationships you observed in this part of the investigation. Were there features that strengthened each other in terms of looking at your feature(s) of interest?\n",
    "\n",
    "> I extended my investigation of trip_duration(s) in this section by looking at the relationship between trip_duration(s), member_gender, agegroup and member_birth_year features. The multivariate exploration here showed that there indeed is a correlation between the trip_duration(s) and agegroup, number of trips and agegroup as observed in the previous section.\n",
    "\n",
    "### Were there any interesting or surprising interactions between features?\n",
    "\n",
    "> there is no surprise interaction between features"
   ]
  },
  {
   "cell_type": "code",
   "execution_count": 86,
   "metadata": {},
   "outputs": [],
   "source": [
    "#save cleaned dataset\n",
    "bike_trip_df.to_csv('cleaned_bike_trip_df.csv', index=False)\n",
    "time_trip_df.to_csv('cleaned_time_trip_df.csv', index=False)"
   ]
  },
  {
   "cell_type": "markdown",
   "metadata": {},
   "source": [
    "## Conclusions\n",
    "\n"
   ]
  },
  {
   "cell_type": "markdown",
   "metadata": {},
   "source": [
    "In conclusion, we can say that there is a positive correlation between the duration of the trip and the age category, and then between the number of trips made and the age category; i.e. as the age category of the users increases, the number of trips and the duration of the trip also increases. The age categories very_young and very_old are insignificant, so the data related to these categories can be deleted."
   ]
  }
 ],
 "metadata": {
  "kernelspec": {
   "display_name": "Python 3 (ipykernel)",
   "language": "python",
   "name": "python3"
  },
  "language_info": {
   "codemirror_mode": {
    "name": "ipython",
    "version": 3
   },
   "file_extension": ".py",
   "mimetype": "text/x-python",
   "name": "python",
   "nbconvert_exporter": "python",
   "pygments_lexer": "ipython3",
   "version": "3.9.7"
  }
 },
 "nbformat": 4,
 "nbformat_minor": 2
}
